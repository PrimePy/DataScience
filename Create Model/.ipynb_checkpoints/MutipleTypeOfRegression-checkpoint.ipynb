{
 "cells": [
  {
   "cell_type": "markdown",
   "metadata": {},
   "source": [
    "# Lasso Regression:\n",
    "\n",
    "sqrt(y actual - y predict) + alpha (|A| + |B|)\n",
    "\n",
    "y= A + Bx\n",
    "\n",
    "Add penalty for large coefficients\n",
    "\n",
    "Penalty term is L1 norm\n",
    "\n",
    "alpha =0 Regular (MSE Regression)\n",
    "\n",
    "alpha = infinity (Small coefficients to zero)\n",
    "\n",
    "Model selection by tuning alpha\n",
    "\n",
    "Lasso - Least Absolute Shrinkage and Selection \n",
    "Operator\n",
    "\n",
    "# Ridge Regression:\n",
    "\n",
    "sqrt(y actual - y predict) + alpha (sqr(|A|) + sqr(|B|))\n",
    "\n",
    "Add penalty for large coefficients\n",
    "\n",
    "\n",
    "Penalty term is L2 norm\n",
    "\n",
    "# ElasticNet:\n",
    "\n",
    "Combination of both lasso and ridge"
   ]
  },
  {
   "cell_type": "markdown",
   "metadata": {},
   "source": [
    "# Stochastic Gradient Descent:\n",
    "\n",
    "Find the best fit line\n",
    "\n",
    "Reduce the MSE \n",
    "\n",
    "Initial value of MSE to Smallest value of MSE. That slope is called Gradient descent."
   ]
  },
  {
   "cell_type": "code",
   "execution_count": 1,
   "metadata": {},
   "outputs": [],
   "source": [
    "import pandas as pd\n",
    "import numpy as np\n",
    "import matplotlib.pyplot as plt\n",
    "import seaborn as sns\n",
    "from sklearn.model_selection import train_test_split\n",
    "from sklearn.metrics import r2_score"
   ]
  },
  {
   "cell_type": "code",
   "execution_count": 3,
   "metadata": {},
   "outputs": [
    {
     "data": {
      "text/html": [
       "<div>\n",
       "<style scoped>\n",
       "    .dataframe tbody tr th:only-of-type {\n",
       "        vertical-align: middle;\n",
       "    }\n",
       "\n",
       "    .dataframe tbody tr th {\n",
       "        vertical-align: top;\n",
       "    }\n",
       "\n",
       "    .dataframe thead th {\n",
       "        text-align: right;\n",
       "    }\n",
       "</style>\n",
       "<table border=\"1\" class=\"dataframe\">\n",
       "  <thead>\n",
       "    <tr style=\"text-align: right;\">\n",
       "      <th></th>\n",
       "      <th>clarity</th>\n",
       "      <th>price</th>\n",
       "      <th>cut_Fair</th>\n",
       "      <th>cut_Good</th>\n",
       "      <th>cut_Ideal</th>\n",
       "      <th>cut_Premium</th>\n",
       "      <th>cut_Very Good</th>\n",
       "      <th>color_D</th>\n",
       "      <th>color_E</th>\n",
       "      <th>color_F</th>\n",
       "      <th>color_G</th>\n",
       "      <th>color_H</th>\n",
       "      <th>color_I</th>\n",
       "      <th>color_J</th>\n",
       "      <th>carat</th>\n",
       "      <th>depth</th>\n",
       "      <th>table</th>\n",
       "      <th>x</th>\n",
       "      <th>y</th>\n",
       "      <th>z</th>\n",
       "    </tr>\n",
       "  </thead>\n",
       "  <tbody>\n",
       "    <tr>\n",
       "      <th>0</th>\n",
       "      <td>1</td>\n",
       "      <td>326</td>\n",
       "      <td>0</td>\n",
       "      <td>0</td>\n",
       "      <td>1</td>\n",
       "      <td>0</td>\n",
       "      <td>0</td>\n",
       "      <td>0</td>\n",
       "      <td>1</td>\n",
       "      <td>0</td>\n",
       "      <td>0</td>\n",
       "      <td>0</td>\n",
       "      <td>0</td>\n",
       "      <td>0</td>\n",
       "      <td>-1.198168</td>\n",
       "      <td>-0.174092</td>\n",
       "      <td>-1.099672</td>\n",
       "      <td>-1.587837</td>\n",
       "      <td>-1.536196</td>\n",
       "      <td>-1.571129</td>\n",
       "    </tr>\n",
       "    <tr>\n",
       "      <th>1</th>\n",
       "      <td>2</td>\n",
       "      <td>326</td>\n",
       "      <td>0</td>\n",
       "      <td>0</td>\n",
       "      <td>0</td>\n",
       "      <td>1</td>\n",
       "      <td>0</td>\n",
       "      <td>0</td>\n",
       "      <td>1</td>\n",
       "      <td>0</td>\n",
       "      <td>0</td>\n",
       "      <td>0</td>\n",
       "      <td>0</td>\n",
       "      <td>0</td>\n",
       "      <td>-1.240361</td>\n",
       "      <td>-1.360738</td>\n",
       "      <td>1.585529</td>\n",
       "      <td>-1.641325</td>\n",
       "      <td>-1.658774</td>\n",
       "      <td>-1.741175</td>\n",
       "    </tr>\n",
       "    <tr>\n",
       "      <th>2</th>\n",
       "      <td>4</td>\n",
       "      <td>327</td>\n",
       "      <td>0</td>\n",
       "      <td>1</td>\n",
       "      <td>0</td>\n",
       "      <td>0</td>\n",
       "      <td>0</td>\n",
       "      <td>0</td>\n",
       "      <td>1</td>\n",
       "      <td>0</td>\n",
       "      <td>0</td>\n",
       "      <td>0</td>\n",
       "      <td>0</td>\n",
       "      <td>0</td>\n",
       "      <td>-1.198168</td>\n",
       "      <td>-3.385019</td>\n",
       "      <td>3.375663</td>\n",
       "      <td>-1.498691</td>\n",
       "      <td>-1.457395</td>\n",
       "      <td>-1.741175</td>\n",
       "    </tr>\n",
       "    <tr>\n",
       "      <th>3</th>\n",
       "      <td>3</td>\n",
       "      <td>334</td>\n",
       "      <td>0</td>\n",
       "      <td>0</td>\n",
       "      <td>0</td>\n",
       "      <td>1</td>\n",
       "      <td>0</td>\n",
       "      <td>0</td>\n",
       "      <td>0</td>\n",
       "      <td>0</td>\n",
       "      <td>0</td>\n",
       "      <td>0</td>\n",
       "      <td>1</td>\n",
       "      <td>0</td>\n",
       "      <td>-1.071587</td>\n",
       "      <td>0.454133</td>\n",
       "      <td>0.242928</td>\n",
       "      <td>-1.364971</td>\n",
       "      <td>-1.317305</td>\n",
       "      <td>-1.287720</td>\n",
       "    </tr>\n",
       "    <tr>\n",
       "      <th>4</th>\n",
       "      <td>1</td>\n",
       "      <td>335</td>\n",
       "      <td>0</td>\n",
       "      <td>1</td>\n",
       "      <td>0</td>\n",
       "      <td>0</td>\n",
       "      <td>0</td>\n",
       "      <td>0</td>\n",
       "      <td>0</td>\n",
       "      <td>0</td>\n",
       "      <td>0</td>\n",
       "      <td>0</td>\n",
       "      <td>0</td>\n",
       "      <td>1</td>\n",
       "      <td>-1.029394</td>\n",
       "      <td>1.082358</td>\n",
       "      <td>0.242928</td>\n",
       "      <td>-1.240167</td>\n",
       "      <td>-1.212238</td>\n",
       "      <td>-1.117674</td>\n",
       "    </tr>\n",
       "  </tbody>\n",
       "</table>\n",
       "</div>"
      ],
      "text/plain": [
       "   clarity  price  cut_Fair  cut_Good  cut_Ideal  cut_Premium  cut_Very Good  \\\n",
       "0        1    326         0         0          1            0              0   \n",
       "1        2    326         0         0          0            1              0   \n",
       "2        4    327         0         1          0            0              0   \n",
       "3        3    334         0         0          0            1              0   \n",
       "4        1    335         0         1          0            0              0   \n",
       "\n",
       "   color_D  color_E  color_F  color_G  color_H  color_I  color_J     carat  \\\n",
       "0        0        1        0        0        0        0        0 -1.198168   \n",
       "1        0        1        0        0        0        0        0 -1.240361   \n",
       "2        0        1        0        0        0        0        0 -1.198168   \n",
       "3        0        0        0        0        0        1        0 -1.071587   \n",
       "4        0        0        0        0        0        0        1 -1.029394   \n",
       "\n",
       "      depth     table         x         y         z  \n",
       "0 -0.174092 -1.099672 -1.587837 -1.536196 -1.571129  \n",
       "1 -1.360738  1.585529 -1.641325 -1.658774 -1.741175  \n",
       "2 -3.385019  3.375663 -1.498691 -1.457395 -1.741175  \n",
       "3  0.454133  0.242928 -1.364971 -1.317305 -1.287720  \n",
       "4  1.082358  0.242928 -1.240167 -1.212238 -1.117674  "
      ]
     },
     "execution_count": 3,
     "metadata": {},
     "output_type": "execute_result"
    }
   ],
   "source": [
    "data = pd.read_csv('datasets/diamonds_processed_new.csv')\n",
    "data.head()"
   ]
  },
  {
   "cell_type": "code",
   "execution_count": 4,
   "metadata": {},
   "outputs": [],
   "source": [
    "from sklearn.linear_model import LinearRegression\n",
    "\n",
    "def linear_model(x_train, y_train):\n",
    "    print('Linear Regression')\n",
    "    model = LinearRegression()\n",
    "    model.fit(x_train, y_train)\n",
    "    return model"
   ]
  },
  {
   "cell_type": "code",
   "execution_count": 5,
   "metadata": {},
   "outputs": [],
   "source": [
    "from sklearn.linear_model import Lasso\n",
    "\n",
    "def lasso_model(x_train, y_train):\n",
    "    print('Lasso Regression')\n",
    "    model = Lasso(alpha=0.8, max_iter=10000)\n",
    "    model.fit(x_train, y_train)\n",
    "    return model"
   ]
  },
  {
   "cell_type": "code",
   "execution_count": 6,
   "metadata": {},
   "outputs": [],
   "source": [
    "from sklearn.linear_model import Ridge\n",
    "\n",
    "def ridge_model(x_train, y_train):\n",
    "    print('Ridge Regression')\n",
    "    model = Ridge(alpha=0.9)\n",
    "    model.fit(x_train, y_train)\n",
    "    return model"
   ]
  },
  {
   "cell_type": "code",
   "execution_count": 9,
   "metadata": {},
   "outputs": [],
   "source": [
    "def build_and_train_model(data, target_name, reg_model):\n",
    "    \n",
    "    x = data.drop(target_name, axis=1)\n",
    "    y = data[target_name]\n",
    "    \n",
    "    x_train, x_test, y_train, y_test = train_test_split(x, y, test_size=0.2, random_state=0)\n",
    "    model= reg_model(x_train, y_train)\n",
    "    score = model.score(x_train, y_train)\n",
    "    \n",
    "    print('Training Score:', score)\n",
    "    \n",
    "    y_pred = model.predict(x_test)\n",
    "    score = r2_score(y_test, y_pred)\n",
    "    print('Testing Score:', score)\n",
    "    \n",
    "    return {\n",
    "        'model' : model,\n",
    "        'x_train' : x_train,\n",
    "        'x_test' : x_test,\n",
    "        'y_train' : y_train,\n",
    "        'y_test' : y_test,\n",
    "        'y_pred' : y_pred\n",
    "    }"
   ]
  },
  {
   "cell_type": "code",
   "execution_count": 10,
   "metadata": {},
   "outputs": [
    {
     "name": "stdout",
     "output_type": "stream",
     "text": [
      "Linear Regression\n",
      "Training Score: 0.9098956870655617\n",
      "Testing Score: 0.9126042169212447\n"
     ]
    }
   ],
   "source": [
    "linear_reg = build_and_train_model(data, 'price', linear_model)"
   ]
  },
  {
   "cell_type": "code",
   "execution_count": 12,
   "metadata": {},
   "outputs": [
    {
     "name": "stdout",
     "output_type": "stream",
     "text": [
      "Lasso Regression\n",
      "Training Score: 0.9098962704113673\n",
      "Testing Score: 0.912553682275739\n"
     ]
    }
   ],
   "source": [
    "lasso_reg = build_and_train_model(data, 'price', lasso_model)"
   ]
  },
  {
   "cell_type": "code",
   "execution_count": 13,
   "metadata": {},
   "outputs": [
    {
     "name": "stdout",
     "output_type": "stream",
     "text": [
      "Lasso Regression\n",
      "Training Score: 0.9098962704113673\n",
      "Testing Score: 0.912553682275739\n"
     ]
    }
   ],
   "source": [
    "ridge_reg = build_and_train_model(data, 'price', lasso_model)"
   ]
  },
  {
   "cell_type": "code",
   "execution_count": 14,
   "metadata": {},
   "outputs": [],
   "source": [
    "from sklearn.linear_model import SGDRegressor\n",
    "\n",
    "def sgd_model(x_train, y_train):\n",
    "    print('Stochastic Gradient Descent')\n",
    "    model = SGDRegressor(max_iter=2000)\n",
    "    model.fit(x_train, y_train)\n",
    "    return model"
   ]
  },
  {
   "cell_type": "code",
   "execution_count": 17,
   "metadata": {},
   "outputs": [
    {
     "name": "stdout",
     "output_type": "stream",
     "text": [
      "Stochastic Gradient Descent\n",
      "Training Score: 0.9097865158224002\n",
      "Testing Score: 0.9124826628471419\n"
     ]
    }
   ],
   "source": [
    "sgd_reg = build_and_train_model(data, 'price', sgd_model)"
   ]
  },
  {
   "cell_type": "code",
   "execution_count": null,
   "metadata": {},
   "outputs": [],
   "source": []
  }
 ],
 "metadata": {
  "kernelspec": {
   "display_name": "Python 3",
   "language": "python",
   "name": "python3"
  },
  "language_info": {
   "codemirror_mode": {
    "name": "ipython",
    "version": 3
   },
   "file_extension": ".py",
   "mimetype": "text/x-python",
   "name": "python",
   "nbconvert_exporter": "python",
   "pygments_lexer": "ipython3",
   "version": "3.8.0"
  }
 },
 "nbformat": 4,
 "nbformat_minor": 2
}
