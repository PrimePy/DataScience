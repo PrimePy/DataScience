{
  "nbformat": 4,
  "nbformat_minor": 0,
  "metadata": {
    "colab": {
      "name": "Untitled10.ipynb",
      "provenance": [],
      "authorship_tag": "ABX9TyO+YhpavVQF5twf/fd5vwhh",
      "include_colab_link": true
    },
    "kernelspec": {
      "name": "python3",
      "display_name": "Python 3"
    }
  },
  "cells": [
    {
      "cell_type": "markdown",
      "metadata": {
        "id": "view-in-github",
        "colab_type": "text"
      },
      "source": [
        "<a href=\"https://colab.research.google.com/github/PrimePy/DataScience/blob/master/Deep%2520Learning/Deep%2520Learning%2520with%2520pytorch/PyTorch%2520Fundamentals/3.PyTorch-Autograd.ipynb\" target=\"_parent\"><img src=\"https://colab.research.google.com/assets/colab-badge.svg\" alt=\"Open In Colab\"/></a>"
      ]
    },
    {
      "cell_type": "code",
      "metadata": {
        "id": "1ARQgoo0Etq-",
        "colab_type": "code",
        "colab": {}
      },
      "source": [
        "import torch"
      ],
      "execution_count": 0,
      "outputs": []
    },
    {
      "cell_type": "code",
      "metadata": {
        "id": "guSzHx3qE46h",
        "colab_type": "code",
        "colab": {
          "base_uri": "https://localhost:8080/",
          "height": 68
        },
        "outputId": "345bf992-645b-4c7a-e3fd-5a7ec2ba26b0"
      },
      "source": [
        "tensor = torch.tensor([[1,2,3],[2,3,4],[3,4,5]], dtype=torch.float32)\n",
        "tensor"
      ],
      "execution_count": 10,
      "outputs": [
        {
          "output_type": "execute_result",
          "data": {
            "text/plain": [
              "tensor([[1., 2., 3.],\n",
              "        [2., 3., 4.],\n",
              "        [3., 4., 5.]])"
            ]
          },
          "metadata": {
            "tags": []
          },
          "execution_count": 10
        }
      ]
    },
    {
      "cell_type": "code",
      "metadata": {
        "id": "S05g9M39E_9Q",
        "colab_type": "code",
        "colab": {
          "base_uri": "https://localhost:8080/",
          "height": 34
        },
        "outputId": "462c06bc-6c63-479e-ba97-d0011c6714b9"
      },
      "source": [
        "tensor.requires_grad"
      ],
      "execution_count": 3,
      "outputs": [
        {
          "output_type": "execute_result",
          "data": {
            "text/plain": [
              "False"
            ]
          },
          "metadata": {
            "tags": []
          },
          "execution_count": 3
        }
      ]
    },
    {
      "cell_type": "code",
      "metadata": {
        "id": "DtMxNYVoFDBd",
        "colab_type": "code",
        "colab": {
          "base_uri": "https://localhost:8080/",
          "height": 68
        },
        "outputId": "06ae8271-29a2-4a35-906f-d4cc5bc98eba"
      },
      "source": [
        "tensor2 = torch.randn((3,3))\n",
        "tensor2"
      ],
      "execution_count": 4,
      "outputs": [
        {
          "output_type": "execute_result",
          "data": {
            "text/plain": [
              "tensor([[-1.4282,  0.3213, -1.0829],\n",
              "        [ 1.5917,  0.4480,  2.5253],\n",
              "        [ 0.4135,  1.1751,  0.4476]])"
            ]
          },
          "metadata": {
            "tags": []
          },
          "execution_count": 4
        }
      ]
    },
    {
      "cell_type": "code",
      "metadata": {
        "id": "hPEFtNv-FIqG",
        "colab_type": "code",
        "colab": {
          "base_uri": "https://localhost:8080/",
          "height": 34
        },
        "outputId": "cfbf9464-0447-45e6-98b5-21aa850edd6c"
      },
      "source": [
        "tensor2.requires_grad"
      ],
      "execution_count": 5,
      "outputs": [
        {
          "output_type": "execute_result",
          "data": {
            "text/plain": [
              "False"
            ]
          },
          "metadata": {
            "tags": []
          },
          "execution_count": 5
        }
      ]
    },
    {
      "cell_type": "code",
      "metadata": {
        "id": "qPm1tiFhFLk1",
        "colab_type": "code",
        "colab": {
          "base_uri": "https://localhost:8080/",
          "height": 68
        },
        "outputId": "d11345db-1c77-4a26-bcca-2ed0a67663ae"
      },
      "source": [
        "tensor.requires_grad_()"
      ],
      "execution_count": 11,
      "outputs": [
        {
          "output_type": "execute_result",
          "data": {
            "text/plain": [
              "tensor([[1., 2., 3.],\n",
              "        [2., 3., 4.],\n",
              "        [3., 4., 5.]], requires_grad=True)"
            ]
          },
          "metadata": {
            "tags": []
          },
          "execution_count": 11
        }
      ]
    },
    {
      "cell_type": "code",
      "metadata": {
        "id": "-y4EVOp2FQOw",
        "colab_type": "code",
        "colab": {
          "base_uri": "https://localhost:8080/",
          "height": 34
        },
        "outputId": "da25ab0e-4612-4b57-f998-d0ac453059c4"
      },
      "source": [
        "print(tensor.grad)"
      ],
      "execution_count": 12,
      "outputs": [
        {
          "output_type": "stream",
          "text": [
            "None\n"
          ],
          "name": "stdout"
        }
      ]
    },
    {
      "cell_type": "code",
      "metadata": {
        "id": "aZ_Lx5ToF3Pl",
        "colab_type": "code",
        "colab": {
          "base_uri": "https://localhost:8080/",
          "height": 34
        },
        "outputId": "c7169446-7791-4e03-a643-f8a47a6519a5"
      },
      "source": [
        "print(tensor.grad_fn)"
      ],
      "execution_count": 13,
      "outputs": [
        {
          "output_type": "stream",
          "text": [
            "None\n"
          ],
          "name": "stdout"
        }
      ]
    },
    {
      "cell_type": "code",
      "metadata": {
        "id": "fsqEOTxeF9WW",
        "colab_type": "code",
        "colab": {}
      },
      "source": [
        "mul = tensor * tensor"
      ],
      "execution_count": 0,
      "outputs": []
    },
    {
      "cell_type": "code",
      "metadata": {
        "id": "YTSk2buMGFnS",
        "colab_type": "code",
        "colab": {
          "base_uri": "https://localhost:8080/",
          "height": 34
        },
        "outputId": "0b8cb500-eb4f-44d3-cdaa-21b89de927d8"
      },
      "source": [
        "mul.requires_grad"
      ],
      "execution_count": 15,
      "outputs": [
        {
          "output_type": "execute_result",
          "data": {
            "text/plain": [
              "True"
            ]
          },
          "metadata": {
            "tags": []
          },
          "execution_count": 15
        }
      ]
    },
    {
      "cell_type": "code",
      "metadata": {
        "id": "K2lPbGg8GIQo",
        "colab_type": "code",
        "colab": {
          "base_uri": "https://localhost:8080/",
          "height": 34
        },
        "outputId": "d07efcdc-5cbe-451a-cd50-8ea7379ca397"
      },
      "source": [
        "print(mul.grad) # No gradient"
      ],
      "execution_count": 16,
      "outputs": [
        {
          "output_type": "stream",
          "text": [
            "None\n"
          ],
          "name": "stdout"
        }
      ]
    },
    {
      "cell_type": "code",
      "metadata": {
        "id": "NwyKJKeEGLTP",
        "colab_type": "code",
        "colab": {
          "base_uri": "https://localhost:8080/",
          "height": 34
        },
        "outputId": "b64d38e0-7d29-4462-b016-b7101c995013"
      },
      "source": [
        "print(mul.grad_fn)"
      ],
      "execution_count": 17,
      "outputs": [
        {
          "output_type": "stream",
          "text": [
            "<MulBackward0 object at 0x7f79dbbb2160>\n"
          ],
          "name": "stdout"
        }
      ]
    },
    {
      "cell_type": "code",
      "metadata": {
        "id": "6-OF_CREGOV0",
        "colab_type": "code",
        "colab": {
          "base_uri": "https://localhost:8080/",
          "height": 34
        },
        "outputId": "f4238962-95d7-4532-a9fc-a8d73dea166a"
      },
      "source": [
        "out= (tensor * tensor2).mean()\n",
        "print(out)"
      ],
      "execution_count": 18,
      "outputs": [
        {
          "output_type": "stream",
          "text": [
            "tensor(2.0859, grad_fn=<MeanBackward0>)\n"
          ],
          "name": "stdout"
        }
      ]
    },
    {
      "cell_type": "code",
      "metadata": {
        "id": "SK4EUgntGj00",
        "colab_type": "code",
        "colab": {
          "base_uri": "https://localhost:8080/",
          "height": 34
        },
        "outputId": "85382f4f-a70d-4d2b-f6ee-5cabe37b466e"
      },
      "source": [
        "print(out.grad)"
      ],
      "execution_count": 19,
      "outputs": [
        {
          "output_type": "stream",
          "text": [
            "None\n"
          ],
          "name": "stdout"
        }
      ]
    },
    {
      "cell_type": "code",
      "metadata": {
        "id": "sSLAQufxGo-U",
        "colab_type": "code",
        "colab": {}
      },
      "source": [
        "out.backward() # Initialize the backward propagation"
      ],
      "execution_count": 0,
      "outputs": []
    },
    {
      "cell_type": "code",
      "metadata": {
        "id": "EGNYvuWuGuDy",
        "colab_type": "code",
        "colab": {
          "base_uri": "https://localhost:8080/",
          "height": 34
        },
        "outputId": "f4574211-caef-4fa8-cc22-b228ec7ffa38"
      },
      "source": [
        "print(out.grad)"
      ],
      "execution_count": 21,
      "outputs": [
        {
          "output_type": "stream",
          "text": [
            "None\n"
          ],
          "name": "stdout"
        }
      ]
    },
    {
      "cell_type": "code",
      "metadata": {
        "id": "ntby5A6-Gwbx",
        "colab_type": "code",
        "colab": {
          "base_uri": "https://localhost:8080/",
          "height": 68
        },
        "outputId": "b6685563-beaa-4390-cb83-1642294afa07"
      },
      "source": [
        "print(tensor.grad)"
      ],
      "execution_count": 22,
      "outputs": [
        {
          "output_type": "stream",
          "text": [
            "tensor([[-0.1587,  0.0357, -0.1203],\n",
            "        [ 0.1769,  0.0498,  0.2806],\n",
            "        [ 0.0459,  0.1306,  0.0497]])\n"
          ],
          "name": "stdout"
        }
      ]
    },
    {
      "cell_type": "code",
      "metadata": {
        "id": "IQuVau9IGyw-",
        "colab_type": "code",
        "colab": {
          "base_uri": "https://localhost:8080/",
          "height": 34
        },
        "outputId": "6e0a593e-f98d-47b5-fcae-2a359682e6d8"
      },
      "source": [
        "print(tensor2.grad) # requires_grad = false"
      ],
      "execution_count": 24,
      "outputs": [
        {
          "output_type": "stream",
          "text": [
            "None\n"
          ],
          "name": "stdout"
        }
      ]
    },
    {
      "cell_type": "code",
      "metadata": {
        "id": "Q2kmf7JAHqUY",
        "colab_type": "code",
        "colab": {
          "base_uri": "https://localhost:8080/",
          "height": 68
        },
        "outputId": "c5055aee-800c-4c1b-b77d-a84641d985a4"
      },
      "source": [
        "tensor3 = tensor *3\n",
        "tensor3"
      ],
      "execution_count": 25,
      "outputs": [
        {
          "output_type": "execute_result",
          "data": {
            "text/plain": [
              "tensor([[ 3.,  6.,  9.],\n",
              "        [ 6.,  9., 12.],\n",
              "        [ 9., 12., 15.]], grad_fn=<MulBackward0>)"
            ]
          },
          "metadata": {
            "tags": []
          },
          "execution_count": 25
        }
      ]
    },
    {
      "cell_type": "code",
      "metadata": {
        "id": "CJmfcX1LH980",
        "colab_type": "code",
        "colab": {
          "base_uri": "https://localhost:8080/",
          "height": 119
        },
        "outputId": "ca3baad6-ae5c-4f6c-e5d9-b85de46a0a40"
      },
      "source": [
        "with torch.no_grad(): # requires_grad automatically turned off with in the with block.\n",
        "  new_tensor = tensor * 3\n",
        "  print(new_tensor)\n",
        "  print('new tensor = ', new_tensor.requires_grad)\n",
        "  print('requires_grad for tensor = ', tensor.requires_grad)\n",
        "  print('requires_grad for tensor2 = ', tensor2.requires_grad)"
      ],
      "execution_count": 26,
      "outputs": [
        {
          "output_type": "stream",
          "text": [
            "tensor([[ 3.,  6.,  9.],\n",
            "        [ 6.,  9., 12.],\n",
            "        [ 9., 12., 15.]])\n",
            "new tensor =  False\n",
            "requires_grad for tensor =  True\n",
            "requires_grad for tensor2 =  False\n"
          ],
          "name": "stdout"
        }
      ]
    },
    {
      "cell_type": "code",
      "metadata": {
        "id": "Y1wSq2bsIsJ7",
        "colab_type": "code",
        "colab": {}
      },
      "source": [
        "def calculate(t):\n",
        "  return t *2 "
      ],
      "execution_count": 0,
      "outputs": []
    },
    {
      "cell_type": "code",
      "metadata": {
        "id": "Nb3b79S6J8y2",
        "colab_type": "code",
        "colab": {}
      },
      "source": [
        "@torch.no_grad()\n",
        "def calculate_with_no_grad(t):\n",
        "  return t * 2"
      ],
      "execution_count": 0,
      "outputs": []
    },
    {
      "cell_type": "code",
      "metadata": {
        "id": "H4mvScumKImR",
        "colab_type": "code",
        "colab": {
          "base_uri": "https://localhost:8080/",
          "height": 68
        },
        "outputId": "e89430a4-bca1-4ff6-8277-8f026a18f540"
      },
      "source": [
        "result = calculate(tensor)\n",
        "result"
      ],
      "execution_count": 29,
      "outputs": [
        {
          "output_type": "execute_result",
          "data": {
            "text/plain": [
              "tensor([[ 2.,  4.,  6.],\n",
              "        [ 4.,  6.,  8.],\n",
              "        [ 6.,  8., 10.]], grad_fn=<MulBackward0>)"
            ]
          },
          "metadata": {
            "tags": []
          },
          "execution_count": 29
        }
      ]
    },
    {
      "cell_type": "code",
      "metadata": {
        "id": "PKC1ln0QKRYE",
        "colab_type": "code",
        "colab": {
          "base_uri": "https://localhost:8080/",
          "height": 34
        },
        "outputId": "a8745dce-6b91-433b-b588-346012b065e8"
      },
      "source": [
        "result.requires_grad"
      ],
      "execution_count": 30,
      "outputs": [
        {
          "output_type": "execute_result",
          "data": {
            "text/plain": [
              "True"
            ]
          },
          "metadata": {
            "tags": []
          },
          "execution_count": 30
        }
      ]
    },
    {
      "cell_type": "code",
      "metadata": {
        "id": "UBvJv6GMKXuE",
        "colab_type": "code",
        "colab": {
          "base_uri": "https://localhost:8080/",
          "height": 68
        },
        "outputId": "0f2a1eb1-e71a-44c6-8655-96624f87ed54"
      },
      "source": [
        "result_with_no_grad = calculate_with_no_grad(tensor)\n",
        "result_with_no_grad"
      ],
      "execution_count": 31,
      "outputs": [
        {
          "output_type": "execute_result",
          "data": {
            "text/plain": [
              "tensor([[ 2.,  4.,  6.],\n",
              "        [ 4.,  6.,  8.],\n",
              "        [ 6.,  8., 10.]])"
            ]
          },
          "metadata": {
            "tags": []
          },
          "execution_count": 31
        }
      ]
    },
    {
      "cell_type": "code",
      "metadata": {
        "id": "YtDDfvDnKfzC",
        "colab_type": "code",
        "colab": {
          "base_uri": "https://localhost:8080/",
          "height": 34
        },
        "outputId": "a33c2835-45e9-4a69-d10b-225bd9634a01"
      },
      "source": [
        "result_with_no_grad.requires_grad"
      ],
      "execution_count": 33,
      "outputs": [
        {
          "output_type": "execute_result",
          "data": {
            "text/plain": [
              "False"
            ]
          },
          "metadata": {
            "tags": []
          },
          "execution_count": 33
        }
      ]
    },
    {
      "cell_type": "code",
      "metadata": {
        "id": "kyl1vaoeKjgW",
        "colab_type": "code",
        "colab": {
          "base_uri": "https://localhost:8080/",
          "height": 119
        },
        "outputId": "8136e0ff-da9e-4c04-d848-d366480c5a0f"
      },
      "source": [
        "with torch.no_grad(): # Without grad\n",
        "  new = tensor * 2\n",
        "  print(new)\n",
        "  with torch.enable_grad(): # With grad \n",
        "    new= tensor * 3\n",
        "    print(new)"
      ],
      "execution_count": 34,
      "outputs": [
        {
          "output_type": "stream",
          "text": [
            "tensor([[ 2.,  4.,  6.],\n",
            "        [ 4.,  6.,  8.],\n",
            "        [ 6.,  8., 10.]])\n",
            "tensor([[ 3.,  6.,  9.],\n",
            "        [ 6.,  9., 12.],\n",
            "        [ 9., 12., 15.]], grad_fn=<MulBackward0>)\n"
          ],
          "name": "stdout"
        }
      ]
    },
    {
      "cell_type": "code",
      "metadata": {
        "id": "tAzi97LZLuD_",
        "colab_type": "code",
        "colab": {
          "base_uri": "https://localhost:8080/",
          "height": 68
        },
        "outputId": "3dbbb63e-8697-4ea2-aa79-c36967c5156b"
      },
      "source": [
        "tensor_one = torch.tensor([[1,2,3], [2,3,4], [3,4,5]], dtype=torch.float32, requires_grad=True)\n",
        "tensor_two = torch.tensor([[1,2,3], [2,3,4], [3,4,5]], dtype=torch.float32)\n",
        "tensor_two.requires_grad_()"
      ],
      "execution_count": 41,
      "outputs": [
        {
          "output_type": "execute_result",
          "data": {
            "text/plain": [
              "tensor([[1., 2., 3.],\n",
              "        [2., 3., 4.],\n",
              "        [3., 4., 5.]], requires_grad=True)"
            ]
          },
          "metadata": {
            "tags": []
          },
          "execution_count": 41
        }
      ]
    },
    {
      "cell_type": "code",
      "metadata": {
        "id": "V8wJo2ydMIqz",
        "colab_type": "code",
        "colab": {
          "base_uri": "https://localhost:8080/",
          "height": 34
        },
        "outputId": "09215d34-7e4e-4050-bd57-ad3569f419f6"
      },
      "source": [
        "new = (tensor_one + tensor_two).mean()\n",
        "print(new.requires_grad)"
      ],
      "execution_count": 44,
      "outputs": [
        {
          "output_type": "stream",
          "text": [
            "True\n"
          ],
          "name": "stdout"
        }
      ]
    },
    {
      "cell_type": "code",
      "metadata": {
        "id": "4mmbA95LM-Mw",
        "colab_type": "code",
        "colab": {
          "base_uri": "https://localhost:8080/",
          "height": 68
        },
        "outputId": "df84fdac-917c-4bf5-cc7a-415d9d288e97"
      },
      "source": [
        "new.backward()\n",
        "print(tensor_one.grad)"
      ],
      "execution_count": 45,
      "outputs": [
        {
          "output_type": "stream",
          "text": [
            "tensor([[0.1111, 0.1111, 0.1111],\n",
            "        [0.1111, 0.1111, 0.1111],\n",
            "        [0.1111, 0.1111, 0.1111]])\n"
          ],
          "name": "stdout"
        }
      ]
    },
    {
      "cell_type": "code",
      "metadata": {
        "id": "8unBANfUNJBs",
        "colab_type": "code",
        "colab": {
          "base_uri": "https://localhost:8080/",
          "height": 68
        },
        "outputId": "f1ed6853-b4f0-4c62-8202-bd0baf1f111e"
      },
      "source": [
        "print(tensor_two.grad)"
      ],
      "execution_count": 46,
      "outputs": [
        {
          "output_type": "stream",
          "text": [
            "tensor([[0.1111, 0.1111, 0.1111],\n",
            "        [0.1111, 0.1111, 0.1111],\n",
            "        [0.1111, 0.1111, 0.1111]])\n"
          ],
          "name": "stdout"
        }
      ]
    },
    {
      "cell_type": "code",
      "metadata": {
        "id": "Cm-vu4IrNMCw",
        "colab_type": "code",
        "colab": {
          "base_uri": "https://localhost:8080/",
          "height": 34
        },
        "outputId": "b2a71be9-a78f-4143-d543-b4c2d1071f05"
      },
      "source": [
        "new = tensor_one.detach()\n",
        "detach_new = (tensor_one * new).mean()\n",
        "print(new.requires_grad)"
      ],
      "execution_count": 47,
      "outputs": [
        {
          "output_type": "stream",
          "text": [
            "False\n"
          ],
          "name": "stdout"
        }
      ]
    },
    {
      "cell_type": "code",
      "metadata": {
        "id": "SvCrnCfTNcTj",
        "colab_type": "code",
        "colab": {}
      },
      "source": [
        ""
      ],
      "execution_count": 0,
      "outputs": []
    }
  ]
}