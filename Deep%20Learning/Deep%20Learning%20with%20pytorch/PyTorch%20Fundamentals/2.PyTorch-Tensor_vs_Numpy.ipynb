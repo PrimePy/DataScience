{
  "nbformat": 4,
  "nbformat_minor": 0,
  "metadata": {
    "colab": {
      "name": "Untitled9.ipynb",
      "provenance": [],
      "authorship_tag": "ABX9TyMzcRDKK0bOa08ki3ZwD8Y8",
      "include_colab_link": true
    },
    "kernelspec": {
      "name": "python3",
      "display_name": "Python 3"
    }
  },
  "cells": [
    {
      "cell_type": "markdown",
      "metadata": {
        "id": "view-in-github",
        "colab_type": "text"
      },
      "source": [
        "<a href=\"https://colab.research.google.com/github/PrimePy/DataScience/blob/master/Deep%2520Learning/Deep%2520Learning%2520with%2520pytorch/PyTorch%2520Fundamentals/2.PyTorch-Tensor_vs_Numpy.ipynb\" target=\"_parent\"><img src=\"https://colab.research.google.com/assets/colab-badge.svg\" alt=\"Open In Colab\"/></a>"
      ]
    },
    {
      "cell_type": "code",
      "metadata": {
        "id": "z2KQxp19hvWa",
        "colab_type": "code",
        "colab": {}
      },
      "source": [
        "# Convert numpy array to pytorch tensor"
      ],
      "execution_count": 0,
      "outputs": []
    },
    {
      "cell_type": "code",
      "metadata": {
        "id": "nieZsWaCh0pr",
        "colab_type": "code",
        "colab": {}
      },
      "source": [
        "import numpy as np\n",
        "import torch"
      ],
      "execution_count": 0,
      "outputs": []
    },
    {
      "cell_type": "code",
      "metadata": {
        "id": "3uZB6BL7h3Ui",
        "colab_type": "code",
        "colab": {
          "base_uri": "https://localhost:8080/",
          "height": 85
        },
        "outputId": "63bf30f2-d435-4917-81f3-52d78810cd91"
      },
      "source": [
        "t = torch.rand(4, 3)\n",
        "t"
      ],
      "execution_count": 3,
      "outputs": [
        {
          "output_type": "execute_result",
          "data": {
            "text/plain": [
              "tensor([[0.8705, 0.5152, 0.1143],\n",
              "        [0.6782, 0.6166, 0.3630],\n",
              "        [0.4587, 0.9106, 0.1360],\n",
              "        [0.1587, 0.1990, 0.5350]])"
            ]
          },
          "metadata": {
            "tags": []
          },
          "execution_count": 3
        }
      ]
    },
    {
      "cell_type": "code",
      "metadata": {
        "id": "s-Gilv7Ah7bI",
        "colab_type": "code",
        "colab": {
          "base_uri": "https://localhost:8080/",
          "height": 34
        },
        "outputId": "7e8ed38f-270d-4cfe-a338-6f12af46537a"
      },
      "source": [
        "type(t)"
      ],
      "execution_count": 4,
      "outputs": [
        {
          "output_type": "execute_result",
          "data": {
            "text/plain": [
              "torch.Tensor"
            ]
          },
          "metadata": {
            "tags": []
          },
          "execution_count": 4
        }
      ]
    },
    {
      "cell_type": "code",
      "metadata": {
        "id": "xSbdxFvAh8y4",
        "colab_type": "code",
        "colab": {
          "base_uri": "https://localhost:8080/",
          "height": 85
        },
        "outputId": "f50b534d-0e5c-4375-b95d-86b63c7abf51"
      },
      "source": [
        "t_array = t.numpy()\n",
        "t_array"
      ],
      "execution_count": 5,
      "outputs": [
        {
          "output_type": "execute_result",
          "data": {
            "text/plain": [
              "array([[0.87052953, 0.5152113 , 0.11434489],\n",
              "       [0.67817074, 0.6165908 , 0.36299533],\n",
              "       [0.45873946, 0.91058296, 0.136029  ],\n",
              "       [0.15868098, 0.19902563, 0.53504586]], dtype=float32)"
            ]
          },
          "metadata": {
            "tags": []
          },
          "execution_count": 5
        }
      ]
    },
    {
      "cell_type": "code",
      "metadata": {
        "id": "JeEPaU6miCFv",
        "colab_type": "code",
        "colab": {
          "base_uri": "https://localhost:8080/",
          "height": 34
        },
        "outputId": "bdb9e701-258b-4027-f8a0-adf92fe56a31"
      },
      "source": [
        "type(t_array)"
      ],
      "execution_count": 6,
      "outputs": [
        {
          "output_type": "execute_result",
          "data": {
            "text/plain": [
              "numpy.ndarray"
            ]
          },
          "metadata": {
            "tags": []
          },
          "execution_count": 6
        }
      ]
    },
    {
      "cell_type": "code",
      "metadata": {
        "id": "DgI5aaGQiHEj",
        "colab_type": "code",
        "colab": {
          "base_uri": "https://localhost:8080/",
          "height": 34
        },
        "outputId": "3b80fb35-d43a-4d0a-ca3b-1c387414491a"
      },
      "source": [
        "torch.is_tensor(t_array)"
      ],
      "execution_count": 7,
      "outputs": [
        {
          "output_type": "execute_result",
          "data": {
            "text/plain": [
              "False"
            ]
          },
          "metadata": {
            "tags": []
          },
          "execution_count": 7
        }
      ]
    },
    {
      "cell_type": "code",
      "metadata": {
        "id": "fXhcEEYqiKKm",
        "colab_type": "code",
        "colab": {
          "base_uri": "https://localhost:8080/",
          "height": 85
        },
        "outputId": "e5cdbe98-a4a8-442e-9334-b1e4aae66911"
      },
      "source": [
        "t[0,0] = 100\n",
        "t"
      ],
      "execution_count": 8,
      "outputs": [
        {
          "output_type": "execute_result",
          "data": {
            "text/plain": [
              "tensor([[100.0000,   0.5152,   0.1143],\n",
              "        [  0.6782,   0.6166,   0.3630],\n",
              "        [  0.4587,   0.9106,   0.1360],\n",
              "        [  0.1587,   0.1990,   0.5350]])"
            ]
          },
          "metadata": {
            "tags": []
          },
          "execution_count": 8
        }
      ]
    },
    {
      "cell_type": "code",
      "metadata": {
        "id": "n9rLQQzoiOYU",
        "colab_type": "code",
        "colab": {
          "base_uri": "https://localhost:8080/",
          "height": 85
        },
        "outputId": "45466da1-960a-4f7a-e294-d0f9aabbf39e"
      },
      "source": [
        "t_array"
      ],
      "execution_count": 9,
      "outputs": [
        {
          "output_type": "execute_result",
          "data": {
            "text/plain": [
              "array([[100.        ,   0.5152113 ,   0.11434489],\n",
              "       [  0.67817074,   0.6165908 ,   0.36299533],\n",
              "       [  0.45873946,   0.91058296,   0.136029  ],\n",
              "       [  0.15868098,   0.19902563,   0.53504586]], dtype=float32)"
            ]
          },
          "metadata": {
            "tags": []
          },
          "execution_count": 9
        }
      ]
    },
    {
      "cell_type": "code",
      "metadata": {
        "id": "JwM-H4yyiRlU",
        "colab_type": "code",
        "colab": {
          "base_uri": "https://localhost:8080/",
          "height": 85
        },
        "outputId": "9e2367f0-0fd2-47c3-f05a-f52aa8e66685"
      },
      "source": [
        "arr_tensor = torch.from_numpy(t_array)\n",
        "arr_tensor"
      ],
      "execution_count": 11,
      "outputs": [
        {
          "output_type": "execute_result",
          "data": {
            "text/plain": [
              "tensor([[100.0000,   0.5152,   0.1143],\n",
              "        [  0.6782,   0.6166,   0.3630],\n",
              "        [  0.4587,   0.9106,   0.1360],\n",
              "        [  0.1587,   0.1990,   0.5350]])"
            ]
          },
          "metadata": {
            "tags": []
          },
          "execution_count": 11
        }
      ]
    },
    {
      "cell_type": "code",
      "metadata": {
        "id": "nCA9nK4OiamY",
        "colab_type": "code",
        "colab": {
          "base_uri": "https://localhost:8080/",
          "height": 85
        },
        "outputId": "11411406-d0da-414f-bee6-484dfe4d01eb"
      },
      "source": [
        "arr_tensor[0,0] = 1000\n",
        "arr_tensor"
      ],
      "execution_count": 13,
      "outputs": [
        {
          "output_type": "execute_result",
          "data": {
            "text/plain": [
              "tensor([[1.0000e+03, 5.1521e-01, 1.1434e-01],\n",
              "        [6.7817e-01, 6.1659e-01, 3.6300e-01],\n",
              "        [4.5874e-01, 9.1058e-01, 1.3603e-01],\n",
              "        [1.5868e-01, 1.9903e-01, 5.3505e-01]])"
            ]
          },
          "metadata": {
            "tags": []
          },
          "execution_count": 13
        }
      ]
    },
    {
      "cell_type": "code",
      "metadata": {
        "id": "a1ufiz6XipSi",
        "colab_type": "code",
        "colab": {
          "base_uri": "https://localhost:8080/",
          "height": 85
        },
        "outputId": "47c1ee6c-fb1b-4396-f7cb-6db55259218e"
      },
      "source": [
        "t_array"
      ],
      "execution_count": 14,
      "outputs": [
        {
          "output_type": "execute_result",
          "data": {
            "text/plain": [
              "array([[1.00000000e+03, 5.15211284e-01, 1.14344895e-01],\n",
              "       [6.78170741e-01, 6.16590798e-01, 3.62995327e-01],\n",
              "       [4.58739460e-01, 9.10582960e-01, 1.36029005e-01],\n",
              "       [1.58680975e-01, 1.99025631e-01, 5.35045862e-01]], dtype=float32)"
            ]
          },
          "metadata": {
            "tags": []
          },
          "execution_count": 14
        }
      ]
    },
    {
      "cell_type": "code",
      "metadata": {
        "id": "D9nXFQlBis4q",
        "colab_type": "code",
        "colab": {
          "base_uri": "https://localhost:8080/",
          "height": 34
        },
        "outputId": "d88e4cae-d62f-4aeb-f7ef-a45ef4ebc9ad"
      },
      "source": [
        "type(arr_tensor)"
      ],
      "execution_count": 15,
      "outputs": [
        {
          "output_type": "execute_result",
          "data": {
            "text/plain": [
              "torch.Tensor"
            ]
          },
          "metadata": {
            "tags": []
          },
          "execution_count": 15
        }
      ]
    },
    {
      "cell_type": "code",
      "metadata": {
        "id": "-er5-0xei1bl",
        "colab_type": "code",
        "colab": {
          "base_uri": "https://localhost:8080/",
          "height": 34
        },
        "outputId": "23e0765e-e594-47c4-b930-40a7f704e892"
      },
      "source": [
        "torch.is_tensor(arr_tensor)"
      ],
      "execution_count": 16,
      "outputs": [
        {
          "output_type": "execute_result",
          "data": {
            "text/plain": [
              "True"
            ]
          },
          "metadata": {
            "tags": []
          },
          "execution_count": 16
        }
      ]
    },
    {
      "cell_type": "code",
      "metadata": {
        "id": "xCSuJfOVi4st",
        "colab_type": "code",
        "colab": {
          "base_uri": "https://localhost:8080/",
          "height": 85
        },
        "outputId": "b470407e-3183-4163-c77d-583b91897f92"
      },
      "source": [
        "arr_tensor[0] = 1\n",
        "arr_tensor"
      ],
      "execution_count": 17,
      "outputs": [
        {
          "output_type": "execute_result",
          "data": {
            "text/plain": [
              "tensor([[1.0000, 1.0000, 1.0000],\n",
              "        [0.6782, 0.6166, 0.3630],\n",
              "        [0.4587, 0.9106, 0.1360],\n",
              "        [0.1587, 0.1990, 0.5350]])"
            ]
          },
          "metadata": {
            "tags": []
          },
          "execution_count": 17
        }
      ]
    },
    {
      "cell_type": "code",
      "metadata": {
        "id": "gUzaxXSYi-Fj",
        "colab_type": "code",
        "colab": {
          "base_uri": "https://localhost:8080/",
          "height": 85
        },
        "outputId": "77f24d06-9858-4938-c0f1-75fb67d7cfb8"
      },
      "source": [
        "t_array"
      ],
      "execution_count": 18,
      "outputs": [
        {
          "output_type": "execute_result",
          "data": {
            "text/plain": [
              "array([[1.        , 1.        , 1.        ],\n",
              "       [0.67817074, 0.6165908 , 0.36299533],\n",
              "       [0.45873946, 0.91058296, 0.136029  ],\n",
              "       [0.15868098, 0.19902563, 0.53504586]], dtype=float32)"
            ]
          },
          "metadata": {
            "tags": []
          },
          "execution_count": 18
        }
      ]
    },
    {
      "cell_type": "code",
      "metadata": {
        "id": "jAwCQ5hUjCkp",
        "colab_type": "code",
        "colab": {
          "base_uri": "https://localhost:8080/",
          "height": 34
        },
        "outputId": "cdc8c622-da2e-414e-fa53-1b4cdd1985a2"
      },
      "source": [
        "np_array_one = np.array([4,5])\n",
        "\n",
        "np_array_one = torch.as_tensor(np_array_one) \n",
        "np_array_one"
      ],
      "execution_count": 21,
      "outputs": [
        {
          "output_type": "execute_result",
          "data": {
            "text/plain": [
              "tensor([4, 5])"
            ]
          },
          "metadata": {
            "tags": []
          },
          "execution_count": 21
        }
      ]
    },
    {
      "cell_type": "code",
      "metadata": {
        "id": "wQFCIxSajP8l",
        "colab_type": "code",
        "colab": {
          "base_uri": "https://localhost:8080/",
          "height": 34
        },
        "outputId": "03237f90-86e5-4665-a886-ee921bb7f7b3"
      },
      "source": [
        "arr = np_array_one.numpy()\n",
        "arr"
      ],
      "execution_count": 22,
      "outputs": [
        {
          "output_type": "execute_result",
          "data": {
            "text/plain": [
              "array([4, 5])"
            ]
          },
          "metadata": {
            "tags": []
          },
          "execution_count": 22
        }
      ]
    },
    {
      "cell_type": "code",
      "metadata": {
        "id": "EX4GUYCVjq4P",
        "colab_type": "code",
        "colab": {
          "base_uri": "https://localhost:8080/",
          "height": 34
        },
        "outputId": "c82b2e85-f6ff-4f63-f5e9-6e218437dd9e"
      },
      "source": [
        "arr[1] = 9\n",
        "arr"
      ],
      "execution_count": 23,
      "outputs": [
        {
          "output_type": "execute_result",
          "data": {
            "text/plain": [
              "array([4, 9])"
            ]
          },
          "metadata": {
            "tags": []
          },
          "execution_count": 23
        }
      ]
    },
    {
      "cell_type": "code",
      "metadata": {
        "id": "uxFFF5oIjs9r",
        "colab_type": "code",
        "colab": {
          "base_uri": "https://localhost:8080/",
          "height": 34
        },
        "outputId": "2998b86a-a0c6-4d3d-d6bc-4b74a0aa39df"
      },
      "source": [
        "np_array_one"
      ],
      "execution_count": 24,
      "outputs": [
        {
          "output_type": "execute_result",
          "data": {
            "text/plain": [
              "tensor([4, 9])"
            ]
          },
          "metadata": {
            "tags": []
          },
          "execution_count": 24
        }
      ]
    },
    {
      "cell_type": "code",
      "metadata": {
        "id": "jzHil_Wgju0O",
        "colab_type": "code",
        "colab": {
          "base_uri": "https://localhost:8080/",
          "height": 88
        },
        "outputId": "6311abe1-691d-4210-fb8c-38fb6228b515"
      },
      "source": [
        "tensor = torch.tensor(np_array_one) # Copy won't created\n",
        "tensor[1]= 78\n",
        "tensor"
      ],
      "execution_count": 26,
      "outputs": [
        {
          "output_type": "stream",
          "text": [
            "/usr/local/lib/python3.6/dist-packages/ipykernel_launcher.py:1: UserWarning: To copy construct from a tensor, it is recommended to use sourceTensor.clone().detach() or sourceTensor.clone().detach().requires_grad_(True), rather than torch.tensor(sourceTensor).\n",
            "  \"\"\"Entry point for launching an IPython kernel.\n"
          ],
          "name": "stderr"
        },
        {
          "output_type": "execute_result",
          "data": {
            "text/plain": [
              "tensor([ 4, 78])"
            ]
          },
          "metadata": {
            "tags": []
          },
          "execution_count": 26
        }
      ]
    },
    {
      "cell_type": "code",
      "metadata": {
        "id": "wl9AUQmLkH9H",
        "colab_type": "code",
        "colab": {
          "base_uri": "https://localhost:8080/",
          "height": 34
        },
        "outputId": "eeba5cb9-b51d-44e2-d508-cfa430f0558f"
      },
      "source": [
        "np_array_one"
      ],
      "execution_count": 27,
      "outputs": [
        {
          "output_type": "execute_result",
          "data": {
            "text/plain": [
              "tensor([4, 9])"
            ]
          },
          "metadata": {
            "tags": []
          },
          "execution_count": 27
        }
      ]
    },
    {
      "cell_type": "code",
      "metadata": {
        "id": "4erZsQNTkQKG",
        "colab_type": "code",
        "colab": {
          "base_uri": "https://localhost:8080/",
          "height": 34
        },
        "outputId": "ebf6542a-ac48-4de7-ced6-52d58e459ad0"
      },
      "source": [
        "torch.cuda.is_available()"
      ],
      "execution_count": 30,
      "outputs": [
        {
          "output_type": "execute_result",
          "data": {
            "text/plain": [
              "False"
            ]
          },
          "metadata": {
            "tags": []
          },
          "execution_count": 30
        }
      ]
    },
    {
      "cell_type": "code",
      "metadata": {
        "id": "fUAbw0QvqTXS",
        "colab_type": "code",
        "colab": {}
      },
      "source": [
        ""
      ],
      "execution_count": 0,
      "outputs": []
    }
  ]
}