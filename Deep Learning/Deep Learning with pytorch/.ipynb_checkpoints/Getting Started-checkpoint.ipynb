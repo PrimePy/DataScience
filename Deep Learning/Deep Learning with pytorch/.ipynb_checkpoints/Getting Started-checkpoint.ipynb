{
 "cells": [
  {
   "cell_type": "markdown",
   "metadata": {},
   "source": [
    "# Pytorch\n",
    "\n",
    "Replacement for numpy to use GPUs\n",
    "Maximum flexibility and speed\n",
    "\n",
    "## Tensor\n",
    "Similar to ndarray.\n",
    "Used to accelate the GPU."
   ]
  },
  {
   "cell_type": "code",
   "execution_count": 1,
   "metadata": {},
   "outputs": [
    {
     "name": "stdout",
     "output_type": "stream",
     "text": [
      "tensor([[2.5630e-12, 1.4586e-19, 8.2990e-33, 1.3563e-19, 1.3563e-19],\n",
      "        [1.3563e-19, 1.3563e-19, 1.3563e-19, 1.3563e-19, 1.3563e-19],\n",
      "        [1.4587e-19, 3.8188e-05, 8.1546e-33, 1.3563e-19, 1.6114e-19],\n",
      "        [5.1715e-11, 1.7615e+19, 4.7429e+30, 5.5272e+31, 7.5338e+28],\n",
      "        [3.1892e-09, 8.0671e+17, 5.0761e+31, 4.2964e+24, 1.7753e+28]])\n"
     ]
    }
   ],
   "source": [
    "from __future__ import print_function\n",
    "import torch\n",
    "\n",
    "x = torch.empty(5,5)\n",
    "print(x)"
   ]
  },
  {
   "cell_type": "code",
   "execution_count": 2,
   "metadata": {},
   "outputs": [
    {
     "name": "stdout",
     "output_type": "stream",
     "text": [
      "tensor([[0.6074, 0.3805],\n",
      "        [0.3735, 0.4850]])\n"
     ]
    }
   ],
   "source": [
    "x = torch.rand(2,2)\n",
    "print(x)"
   ]
  },
  {
   "cell_type": "code",
   "execution_count": 3,
   "metadata": {},
   "outputs": [
    {
     "name": "stdout",
     "output_type": "stream",
     "text": [
      "tensor([[0, 0],\n",
      "        [0, 0]], dtype=torch.int32)\n"
     ]
    }
   ],
   "source": [
    "x = torch.zeros(2,2, dtype=torch.int)\n",
    "print(x)"
   ]
  },
  {
   "cell_type": "code",
   "execution_count": 4,
   "metadata": {},
   "outputs": [
    {
     "name": "stdout",
     "output_type": "stream",
     "text": [
      "tensor([5, 5, 5])\n"
     ]
    }
   ],
   "source": [
    "x = torch.tensor([5,5,5])\n",
    "print(x)"
   ]
  },
  {
   "cell_type": "code",
   "execution_count": 7,
   "metadata": {},
   "outputs": [
    {
     "name": "stdout",
     "output_type": "stream",
     "text": [
      "tensor([[1, 1, 1, 1, 1],\n",
      "        [1, 1, 1, 1, 1],\n",
      "        [1, 1, 1, 1, 1],\n",
      "        [1, 1, 1, 1, 1],\n",
      "        [1, 1, 1, 1, 1]], dtype=torch.int32)\n",
      "tensor([[0.1573, 0.4353, 0.5646, 0.3462, 0.8059],\n",
      "        [0.8273, 0.5063, 0.5806, 0.6801, 0.1867],\n",
      "        [0.3695, 0.4605, 0.2634, 0.9740, 0.9784],\n",
      "        [0.5113, 0.1117, 0.0807, 0.1819, 0.3778],\n",
      "        [0.0254, 0.5595, 0.2765, 0.2342, 0.1370]])\n"
     ]
    }
   ],
   "source": [
    "x = x.new_ones(5,5, dtype=torch.int)\n",
    "print(x)\n",
    "\n",
    "x = torch.rand_like(x, dtype=torch.float)\n",
    "print(x)"
   ]
  },
  {
   "cell_type": "code",
   "execution_count": 8,
   "metadata": {},
   "outputs": [
    {
     "name": "stdout",
     "output_type": "stream",
     "text": [
      "torch.Size([5, 5])\n"
     ]
    }
   ],
   "source": [
    "print(x.size())"
   ]
  },
  {
   "cell_type": "code",
   "execution_count": 10,
   "metadata": {},
   "outputs": [
    {
     "name": "stdout",
     "output_type": "stream",
     "text": [
      "tensor([[0.9352, 1.3519, 0.6675, 0.5628, 0.8807],\n",
      "        [1.5792, 1.2526, 1.2122, 0.7445, 0.6238],\n",
      "        [1.3415, 0.5945, 0.3066, 1.9533, 1.1074],\n",
      "        [1.4097, 0.9359, 1.0629, 1.0487, 0.9891],\n",
      "        [0.9235, 0.9567, 1.1837, 0.2667, 0.6600]], dtype=torch.float64)\n"
     ]
    }
   ],
   "source": [
    "y = torch.rand(5,5, dtype=float)\n",
    "print(x+y)"
   ]
  },
  {
   "cell_type": "code",
   "execution_count": 11,
   "metadata": {},
   "outputs": [
    {
     "name": "stdout",
     "output_type": "stream",
     "text": [
      "tensor([[0.9352, 1.3519, 0.6675, 0.5628, 0.8807],\n",
      "        [1.5792, 1.2526, 1.2122, 0.7445, 0.6238],\n",
      "        [1.3415, 0.5945, 0.3066, 1.9533, 1.1074],\n",
      "        [1.4097, 0.9359, 1.0629, 1.0487, 0.9891],\n",
      "        [0.9235, 0.9567, 1.1837, 0.2667, 0.6600]], dtype=torch.float64)\n"
     ]
    }
   ],
   "source": [
    "print(torch.add(x,y))"
   ]
  },
  {
   "cell_type": "code",
   "execution_count": 12,
   "metadata": {},
   "outputs": [
    {
     "name": "stdout",
     "output_type": "stream",
     "text": [
      "tensor([[0.9352, 1.3519, 0.6675, 0.5628, 0.8807],\n",
      "        [1.5792, 1.2526, 1.2122, 0.7445, 0.6238],\n",
      "        [1.3415, 0.5945, 0.3066, 1.9533, 1.1074],\n",
      "        [1.4097, 0.9359, 1.0629, 1.0487, 0.9891],\n",
      "        [0.9235, 0.9567, 1.1837, 0.2667, 0.6600]])\n"
     ]
    }
   ],
   "source": [
    "result = torch.empty(5,5)\n",
    "torch.add(x,y, out=result)\n",
    "print(result)"
   ]
  },
  {
   "cell_type": "code",
   "execution_count": 13,
   "metadata": {},
   "outputs": [
    {
     "name": "stdout",
     "output_type": "stream",
     "text": [
      "tensor([[0.9352, 1.3519, 0.6675, 0.5628, 0.8807],\n",
      "        [1.5792, 1.2526, 1.2122, 0.7445, 0.6238],\n",
      "        [1.3415, 0.5945, 0.3066, 1.9533, 1.1074],\n",
      "        [1.4097, 0.9359, 1.0629, 1.0487, 0.9891],\n",
      "        [0.9235, 0.9567, 1.1837, 0.2667, 0.6600]], dtype=torch.float64)\n"
     ]
    }
   ],
   "source": [
    "y.add_(x)\n",
    "print(y)"
   ]
  },
  {
   "cell_type": "code",
   "execution_count": 19,
   "metadata": {},
   "outputs": [
    {
     "name": "stdout",
     "output_type": "stream",
     "text": [
      "tensor([[1.5792, 1.2526, 1.2122]], dtype=torch.float64)\n"
     ]
    }
   ],
   "source": [
    "print(y[1:2,:3])"
   ]
  },
  {
   "cell_type": "code",
   "execution_count": 29,
   "metadata": {},
   "outputs": [
    {
     "name": "stdout",
     "output_type": "stream",
     "text": [
      "tensor([1., 1., 1., 1., 1., 1., 1., 1., 1., 1., 1., 1., 1., 1., 1., 1.])\n",
      "tensor([[1., 1., 1., 1., 1., 1., 1., 1.],\n",
      "        [1., 1., 1., 1., 1., 1., 1., 1.]])\n"
     ]
    }
   ],
   "source": [
    "o = torch.ones(4,4)\n",
    "p = o.view(16)\n",
    "print(p)\n",
    "q = o.view(-1, 8)\n",
    "print(q)"
   ]
  },
  {
   "cell_type": "code",
   "execution_count": 31,
   "metadata": {},
   "outputs": [
    {
     "name": "stdout",
     "output_type": "stream",
     "text": [
      "tensor([24.2486])\n",
      "24.24859619140625\n"
     ]
    }
   ],
   "source": [
    "x = torch.empty(1)\n",
    "print(x)\n",
    "print(x.item())"
   ]
  },
  {
   "cell_type": "code",
   "execution_count": 24,
   "metadata": {},
   "outputs": [
    {
     "name": "stdout",
     "output_type": "stream",
     "text": [
      "False\n"
     ]
    }
   ],
   "source": [
    "print(torch.cuda.is_available())"
   ]
  },
  {
   "cell_type": "code",
   "execution_count": 33,
   "metadata": {},
   "outputs": [
    {
     "name": "stdout",
     "output_type": "stream",
     "text": [
      "tensor([1., 1., 1., 1., 1.])\n",
      "[1. 1. 1. 1. 1.]\n"
     ]
    }
   ],
   "source": [
    "# Numpy Bridge\n",
    "\n",
    "a = torch.ones(5)\n",
    "print(a)\n",
    "\n",
    "b = a.numpy()\n",
    "print(b)"
   ]
  },
  {
   "cell_type": "code",
   "execution_count": 35,
   "metadata": {},
   "outputs": [
    {
     "name": "stdout",
     "output_type": "stream",
     "text": [
      "tensor([3., 3., 3., 3., 3.])\n",
      "[3. 3. 3. 3. 3.]\n"
     ]
    }
   ],
   "source": [
    "a.add_(1)\n",
    "print(a)\n",
    "print(b)"
   ]
  },
  {
   "cell_type": "code",
   "execution_count": 36,
   "metadata": {},
   "outputs": [
    {
     "name": "stdout",
     "output_type": "stream",
     "text": [
      "[2. 2. 2. 2. 2.]\n",
      "tensor([2., 2., 2., 2., 2.], dtype=torch.float64)\n"
     ]
    }
   ],
   "source": [
    "# Cpnerting numpy to tensor:\n",
    "\n",
    "import numpy as np\n",
    "a = np.ones(5)\n",
    "b = torch.from_numpy(a)\n",
    "np.add(a,1, out=a)\n",
    "print(a)\n",
    "print(b)"
   ]
  },
  {
   "cell_type": "code",
   "execution_count": null,
   "metadata": {},
   "outputs": [],
   "source": []
  }
 ],
 "metadata": {
  "kernelspec": {
   "display_name": "Python 3",
   "language": "python",
   "name": "python3"
  },
  "language_info": {
   "codemirror_mode": {
    "name": "ipython",
    "version": 3
   },
   "file_extension": ".py",
   "mimetype": "text/x-python",
   "name": "python",
   "nbconvert_exporter": "python",
   "pygments_lexer": "ipython3",
   "version": "3.8.0"
  }
 },
 "nbformat": 4,
 "nbformat_minor": 2
}
