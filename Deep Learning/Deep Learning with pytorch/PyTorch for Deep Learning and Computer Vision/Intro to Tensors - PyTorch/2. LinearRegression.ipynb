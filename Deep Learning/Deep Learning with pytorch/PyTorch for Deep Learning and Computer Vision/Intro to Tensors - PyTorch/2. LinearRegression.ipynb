{
 "cells": [
  {
   "cell_type": "markdown",
   "metadata": {},
   "source": [
    "# Making Prediction"
   ]
  },
  {
   "cell_type": "code",
   "execution_count": 53,
   "metadata": {},
   "outputs": [],
   "source": [
    "import torch as torch\n",
    "import matplotlib.pyplot as plt\n",
    "import numpy as np"
   ]
  },
  {
   "cell_type": "code",
   "execution_count": 54,
   "metadata": {},
   "outputs": [],
   "source": [
    "# Weight\n",
    "w = torch.tensor(3.0, requires_grad=True)\n",
    "# Bias\n",
    "b = torch.tensor(1.0, requires_grad=True)"
   ]
  },
  {
   "cell_type": "code",
   "execution_count": 55,
   "metadata": {},
   "outputs": [],
   "source": [
    "def forward(x):\n",
    "    y = w*x+b\n",
    "    return y"
   ]
  },
  {
   "cell_type": "code",
   "execution_count": 56,
   "metadata": {},
   "outputs": [
    {
     "data": {
      "text/plain": [
       "tensor(7., grad_fn=<AddBackward0>)"
      ]
     },
     "execution_count": 56,
     "metadata": {},
     "output_type": "execute_result"
    }
   ],
   "source": [
    "x = torch.tensor(2)\n",
    "forward(x)"
   ]
  },
  {
   "cell_type": "code",
   "execution_count": 57,
   "metadata": {},
   "outputs": [
    {
     "data": {
      "text/plain": [
       "tensor([[7.],\n",
       "        [7.]], grad_fn=<AddBackward0>)"
      ]
     },
     "execution_count": 57,
     "metadata": {},
     "output_type": "execute_result"
    }
   ],
   "source": [
    "x = torch.tensor([[2],[2]])\n",
    "forward(x)"
   ]
  },
  {
   "cell_type": "markdown",
   "metadata": {},
   "source": [
    "# Linear Class"
   ]
  },
  {
   "cell_type": "code",
   "execution_count": 58,
   "metadata": {},
   "outputs": [],
   "source": [
    "from torch.nn import Linear"
   ]
  },
  {
   "cell_type": "code",
   "execution_count": 59,
   "metadata": {},
   "outputs": [
    {
     "name": "stdout",
     "output_type": "stream",
     "text": [
      "Parameter containing:\n",
      "tensor([[0.5153]], requires_grad=True) Parameter containing:\n",
      "tensor([-0.4414], requires_grad=True)\n"
     ]
    }
   ],
   "source": [
    "torch.manual_seed(1)\n",
    "model = Linear(in_features=1, out_features=1)\n",
    "print(model.weight, model.bias)"
   ]
  },
  {
   "cell_type": "code",
   "execution_count": 60,
   "metadata": {},
   "outputs": [
    {
     "data": {
      "text/plain": [
       "tensor([0.5891], grad_fn=<AddBackward0>)"
      ]
     },
     "execution_count": 60,
     "metadata": {},
     "output_type": "execute_result"
    }
   ],
   "source": [
    "x = torch.tensor([2.0])\n",
    "model(x)"
   ]
  },
  {
   "cell_type": "code",
   "execution_count": 61,
   "metadata": {},
   "outputs": [
    {
     "data": {
      "text/plain": [
       "tensor([[0.5891],\n",
       "        [1.6197]], grad_fn=<AddmmBackward>)"
      ]
     },
     "execution_count": 61,
     "metadata": {},
     "output_type": "execute_result"
    }
   ],
   "source": [
    "x = torch.tensor([[2.0], [4.0]])\n",
    "model(x)"
   ]
  },
  {
   "cell_type": "markdown",
   "metadata": {},
   "source": [
    "# Create Dataset"
   ]
  },
  {
   "cell_type": "code",
   "execution_count": 62,
   "metadata": {},
   "outputs": [
    {
     "data": {
      "text/plain": [
       "Text(0, 0.5, 'y')"
      ]
     },
     "execution_count": 62,
     "metadata": {},
     "output_type": "execute_result"
    },
    {
     "data": {
      "image/png": "[encoded data removed]",
      "text/plain": [
       "<Figure size 432x288 with 1 Axes>"
      ]
     },
     "metadata": {
      "needs_background": "light"
     },
     "output_type": "display_data"
    }
   ],
   "source": [
    "x = torch.randn(100,1)*10\n",
    "y = x + 3* torch.randn(100, 1)\n",
    "plt.plot(x,y, 'o')\n",
    "plt.xlabel('x')\n",
    "plt.ylabel('y')"
   ]
  },
  {
   "cell_type": "markdown",
   "metadata": {},
   "source": [
    "# Custom Modules"
   ]
  },
  {
   "cell_type": "code",
   "execution_count": 63,
   "metadata": {},
   "outputs": [],
   "source": [
    "import torch.nn as nn\n",
    "\n",
    "class LR(nn.Module):\n",
    "    def __init__(self, input_size, output_size):\n",
    "        super().__init__()\n",
    "        self.linear = nn.Linear(input_size, output_size)\n",
    "\n",
    "    def forward(self, x):\n",
    "        pred = self.linear(x)\n",
    "        return pred"
   ]
  },
  {
   "cell_type": "code",
   "execution_count": 64,
   "metadata": {},
   "outputs": [
    {
     "name": "stdout",
     "output_type": "stream",
     "text": [
      "[Parameter containing:\n",
      "tensor([[0.5153]], requires_grad=True), Parameter containing:\n",
      "tensor([-0.4414], requires_grad=True)]\n"
     ]
    }
   ],
   "source": [
    "torch.manual_seed(1)\n",
    "model = LR(1,1)\n",
    "print(list(model.parameters()))"
   ]
  },
  {
   "cell_type": "code",
   "execution_count": 65,
   "metadata": {},
   "outputs": [
    {
     "data": {
      "text/plain": [
       "tensor([0.0739], grad_fn=<AddBackward0>)"
      ]
     },
     "execution_count": 65,
     "metadata": {},
     "output_type": "execute_result"
    }
   ],
   "source": [
    "model.forward(torch.tensor([1.0]))"
   ]
  },
  {
   "cell_type": "code",
   "execution_count": 66,
   "metadata": {},
   "outputs": [
    {
     "data": {
      "text/plain": [
       "tensor([[0.0739],\n",
       "        [0.5891]], grad_fn=<AddmmBackward>)"
      ]
     },
     "execution_count": 66,
     "metadata": {},
     "output_type": "execute_result"
    }
   ],
   "source": [
    "model.forward(torch.tensor([[1.0],[2.0]]))"
   ]
  },
  {
   "cell_type": "code",
   "execution_count": 67,
   "metadata": {},
   "outputs": [],
   "source": [
    "[w, b] = model.parameters()\n",
    "\n",
    "def get_param():\n",
    "    return w[0][0].item(), b[0].item()"
   ]
  },
  {
   "cell_type": "code",
   "execution_count": 68,
   "metadata": {},
   "outputs": [],
   "source": [
    "def plot_fit(title):\n",
    "    plt.title = title\n",
    "    w1, b1 = get_param()\n",
    "    x1 = np.array([-30, 30])\n",
    "    y1 = w1*x1 + b1\n",
    "    plt.plot(x1, y1, 'r')\n",
    "    plt.scatter(x, y)\n",
    "    plt.show()"
   ]
  },
  {
   "cell_type": "code",
   "execution_count": 69,
   "metadata": {},
   "outputs": [
    {
     "data": {
      "image/png": "[encoded data removed]",
      "text/plain": [
       "<Figure size 432x288 with 1 Axes>"
      ]
     },
     "metadata": {
      "needs_background": "light"
     },
     "output_type": "display_data"
    }
   ],
   "source": [
    "plot_fit('Initial Param')"
   ]
  },
  {
   "cell_type": "markdown",
   "metadata": {},
   "source": [
    "# Loss Function:\n",
    "\n",
    "y = wx + b\n",
    "\n",
    "loss (or) cost = (y -(wx+b))^2 \n",
    "\n",
    "b = 0 [Initialize bandwith value is 0 means, line start from center point]\n",
    "\n",
    "loss = (y - wx)^2\n",
    "\n",
    "Reduce the loss based on the weight value.\n",
    "\n",
    "How to find the best initial weight value?"
   ]
  },
  {
   "cell_type": "markdown",
   "metadata": {},
   "source": [
    "# Gradient Descendent\n",
    "\n",
    "w0 = -1.5\n",
    "\n",
    "loss = (3 - (-1.5 * -3))^2 = 2.25\n",
    "\n",
    "Derivative of Loss = f'(w) = 18 * (w0 + 1)\n",
    "\n",
    "                   = 18 * (-1.5 + 1) = -9\n",
    "                   \n",
    "                w1 = w0 - alpha f'(w)\n",
    "                \n",
    "                   = -1.5 - 0.01f'(w)\n",
    "                   \n",
    "                   = -1.5 - 0.01 * (-9)\n",
    "                   \n",
    "                   = -1.41"
   ]
  },
  {
   "cell_type": "markdown",
   "metadata": {},
   "source": [
    "# Mean Square Error\n",
    "\n",
    "f(m, b) = 1/N summation(yi - (mxi+b))^2"
   ]
  },
  {
   "cell_type": "markdown",
   "metadata": {},
   "source": [
    "# Training:"
   ]
  },
  {
   "cell_type": "code",
   "execution_count": 70,
   "metadata": {},
   "outputs": [],
   "source": [
    "criterion = nn.MSELoss()\n",
    "optimizer = torch.optim.SGD(model.parameters(), lr=0.01)"
   ]
  },
  {
   "cell_type": "code",
   "execution_count": 71,
   "metadata": {},
   "outputs": [
    {
     "name": "stdout",
     "output_type": "stream",
     "text": [
      "Epoch:  0 Loss:  36.448333740234375\n",
      "Epoch:  1 Loss:  43.94552230834961\n",
      "Epoch:  2 Loss:  53.461822509765625\n",
      "Epoch:  3 Loss:  65.54043579101562\n",
      "Epoch:  4 Loss:  80.87055969238281\n",
      "Epoch:  5 Loss:  100.32704162597656\n",
      "Epoch:  6 Loss:  125.01991271972656\n",
      "Epoch:  7 Loss:  156.35794067382812\n",
      "Epoch:  8 Loss:  196.12892150878906\n",
      "Epoch:  9 Loss:  246.60169982910156\n",
      "Epoch:  10 Loss:  310.65545654296875\n",
      "Epoch:  11 Loss:  391.9438781738281\n",
      "Epoch:  12 Loss:  495.1044006347656\n",
      "Epoch:  13 Loss:  626.0213623046875\n",
      "Epoch:  14 Loss:  792.162353515625\n",
      "Epoch:  15 Loss:  1003.0047607421875\n",
      "Epoch:  16 Loss:  1270.5738525390625\n",
      "Epoch:  17 Loss:  1610.131591796875\n",
      "Epoch:  18 Loss:  2041.0474853515625\n",
      "Epoch:  19 Loss:  2587.8994140625\n",
      "Epoch:  20 Loss:  3281.8857421875\n",
      "Epoch:  21 Loss:  4162.58251953125\n",
      "Epoch:  22 Loss:  5280.22802734375\n",
      "Epoch:  23 Loss:  6698.5732421875\n",
      "Epoch:  24 Loss:  8498.5078125\n",
      "Epoch:  25 Loss:  10782.728515625\n",
      "Epoch:  26 Loss:  13681.5\n",
      "Epoch:  27 Loss:  17360.189453125\n",
      "Epoch:  28 Loss:  22028.625\n",
      "Epoch:  29 Loss:  27953.052734375\n",
      "Epoch:  30 Loss:  35471.44140625\n",
      "Epoch:  31 Loss:  45012.63671875\n",
      "Epoch:  32 Loss:  57120.84375\n",
      "Epoch:  33 Loss:  72486.75\n",
      "Epoch:  34 Loss:  91986.7734375\n",
      "Epoch:  35 Loss:  116733.2109375\n",
      "Epoch:  36 Loss:  148137.578125\n",
      "Epoch:  37 Loss:  187991.34375\n",
      "Epoch:  38 Loss:  238567.546875\n",
      "Epoch:  39 Loss:  302750.96875\n",
      "Epoch:  40 Loss:  384202.875\n",
      "Epoch:  41 Loss:  487569.125\n",
      "Epoch:  42 Loss:  618745.6875\n",
      "Epoch:  43 Loss:  785214.75\n",
      "Epoch:  44 Loss:  996471.75\n",
      "Epoch:  45 Loss:  1264565.75\n",
      "Epoch:  46 Loss:  1604790.25\n",
      "Epoch:  47 Loss:  2036554.75\n",
      "Epoch:  48 Loss:  2584479.5\n",
      "Epoch:  49 Loss:  3279821.75\n",
      "Epoch:  50 Loss:  4162246.0\n",
      "Epoch:  51 Loss:  5282087.5\n",
      "Epoch:  52 Loss:  6703212.0\n",
      "Epoch:  53 Loss:  8506686.0\n",
      "Epoch:  54 Loss:  10795368.0\n",
      "Epoch:  55 Loss:  13699817.0\n",
      "Epoch:  56 Loss:  17385706.0\n",
      "Epoch:  57 Loss:  22063240.0\n",
      "Epoch:  58 Loss:  27999266.0\n",
      "Epoch:  59 Loss:  35532364.0\n",
      "Epoch:  60 Loss:  45092204.0\n",
      "Epoch:  61 Loss:  57224100.0\n",
      "Epoch:  62 Loss:  72619984.0\n",
      "Epoch:  63 Loss:  92158176.0\n",
      "Epoch:  64 Loss:  116953112.0\n",
      "Epoch:  65 Loss:  148418832.0\n",
      "Epoch:  66 Loss:  188350336.0\n",
      "Epoch:  67 Loss:  239025392.0\n",
      "Epoch:  68 Loss:  303334432.0\n",
      "Epoch:  69 Loss:  384944864.0\n",
      "Epoch:  70 Loss:  488512960.0\n",
      "Epoch:  71 Loss:  619945792.0\n",
      "Epoch:  72 Loss:  786739392.0\n",
      "Epoch:  73 Loss:  998407872.0\n",
      "Epoch:  74 Loss:  1267026048.0\n",
      "Epoch:  75 Loss:  1607915776.0\n",
      "Epoch:  76 Loss:  2040521088.0\n",
      "Epoch:  77 Loss:  2589516032.0\n",
      "Epoch:  78 Loss:  3286215936.0\n",
      "Epoch:  79 Loss:  4170362112.0\n",
      "Epoch:  80 Loss:  5292378112.0\n",
      "Epoch:  81 Loss:  6716272640.0\n",
      "Epoch:  82 Loss:  8523257856.0\n",
      "Epoch:  83 Loss:  10816407552.0\n",
      "Epoch:  84 Loss:  13726521344.0\n",
      "Epoch:  85 Loss:  17419589632.0\n",
      "Epoch:  86 Loss:  22106257408.0\n",
      "Epoch:  87 Loss:  28053882880.0\n",
      "Epoch:  88 Loss:  35601633280.0\n",
      "Epoch:  89 Loss:  45180129280.0\n",
      "Epoch:  90 Loss:  57335631872.0\n",
      "Epoch:  91 Loss:  72761581568.0\n",
      "Epoch:  92 Loss:  92337823744.0\n",
      "Epoch:  93 Loss:  117180940288.0\n",
      "Epoch:  94 Loss:  148707934208.0\n",
      "Epoch:  95 Loss:  188717268992.0\n",
      "Epoch:  96 Loss:  239490924544.0\n",
      "Epoch:  97 Loss:  303925133312.0\n",
      "Epoch:  98 Loss:  385694892032.0\n",
      "Epoch:  99 Loss:  489465053184.0\n"
     ]
    }
   ],
   "source": [
    "epochs = 100\n",
    "losses = []\n",
    "for i in range(epochs):\n",
    "    y_pred = model.forward(x)\n",
    "    loss = criterion(y_pred, y)\n",
    "    print('Epoch: ', i, 'Loss: ', loss.item())\n",
    "    \n",
    "    losses.append(loss)\n",
    "    optimizer.zero_grad()\n",
    "    loss.backward()\n",
    "    optimizer.step()"
   ]
  },
  {
   "cell_type": "code",
   "execution_count": 73,
   "metadata": {},
   "outputs": [
    {
     "data": {
      "text/plain": [
       "Text(0, 0.5, 'Loss')"
      ]
     },
     "execution_count": 73,
     "metadata": {},
     "output_type": "execute_result"
    },
    {
     "data": {
      "image/png": "[encoded data removed]",
      "text/plain": [
       "<Figure size 432x288 with 1 Axes>"
      ]
     },
     "metadata": {
      "needs_background": "light"
     },
     "output_type": "display_data"
    }
   ],
   "source": [
    "plt.plot(range(epochs), losses)\n",
    "plt.xlabel('Epochs')\n",
    "plt.ylabel('Loss')"
   ]
  },
  {
   "cell_type": "code",
   "execution_count": null,
   "metadata": {},
   "outputs": [],
   "source": []
  }
 ],
 "metadata": {
  "kernelspec": {
   "display_name": "Python 3",
   "language": "python",
   "name": "python3"
  },
  "language_info": {
   "codemirror_mode": {
    "name": "ipython",
    "version": 3
   },
   "file_extension": ".py",
   "mimetype": "text/x-python",
   "name": "python",
   "nbconvert_exporter": "python",
   "pygments_lexer": "ipython3",
   "version": "3.8.0"
  }
 },
 "nbformat": 4,
 "nbformat_minor": 2
}
