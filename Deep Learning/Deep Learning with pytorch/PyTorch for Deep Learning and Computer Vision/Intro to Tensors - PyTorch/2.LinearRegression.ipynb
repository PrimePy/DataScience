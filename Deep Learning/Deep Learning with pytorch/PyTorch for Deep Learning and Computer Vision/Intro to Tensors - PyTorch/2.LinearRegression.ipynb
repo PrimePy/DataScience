{
  "nbformat": 4,
  "nbformat_minor": 0,
  "metadata": {
    "colab": {
      "name": "Untitled1.ipynb",
      "provenance": [],
      "authorship_tag": "ABX9TyPFETszxkhyxkwSw2hhh9Gr",
      "include_colab_link": true
    },
    "kernelspec": {
      "name": "python3",
      "display_name": "Python 3"
    }
  },
  "cells": [
    {
      "cell_type": "markdown",
      "metadata": {
        "id": "view-in-github",
        "colab_type": "text"
      },
      "source": [
        "<a href=\"https://colab.research.google.com/github/PrimePy/DataScience/blob/master/Deep%20Learning/Deep%20Learning%20with%20pytorch/PyTorch%20for%20Deep%20Learning%20and%20Computer%20Vision/Intro%20to%20Tensors%20-%20PyTorch/2.LinearRegression.ipynb\" target=\"_parent\"><img src=\"https://colab.research.google.com/assets/colab-badge.svg\" alt=\"Open In Colab\"/></a>"
      ]
    },
    {
      "cell_type": "code",
      "metadata": {
        "id": "MPiIi-Hz-nlv",
        "colab_type": "code",
        "colab": {}
      },
      "source": [
        " import torch\n",
        " import numpy as np"
      ],
      "execution_count": 0,
      "outputs": []
    },
    {
      "cell_type": "code",
      "metadata": {
        "id": "3-FsK3o8AmIz",
        "colab_type": "code",
        "colab": {}
      },
      "source": [
        "w = torch.tensor(3.0, requires_grad=True)\n",
        "b = torch.tensor(1.0, requires_grad=True)"
      ],
      "execution_count": 0,
      "outputs": []
    },
    {
      "cell_type": "code",
      "metadata": {
        "id": "VAOE5-tdCHRv",
        "colab_type": "code",
        "colab": {}
      },
      "source": [
        "def forward(x):\n",
        "  y = w*x + b\n",
        "  return y"
      ],
      "execution_count": 0,
      "outputs": []
    },
    {
      "cell_type": "code",
      "metadata": {
        "id": "hth_fuzwCOyp",
        "colab_type": "code",
        "outputId": "7bd23228-e093-4b44-ffa4-491a42128ab6",
        "colab": {
          "base_uri": "https://localhost:8080/",
          "height": 34
        }
      },
      "source": [
        "x = torch.tensor(2)\n",
        "forward(x)"
      ],
      "execution_count": 104,
      "outputs": [
        {
          "output_type": "execute_result",
          "data": {
            "text/plain": [
              "tensor(7., grad_fn=<AddBackward0>)"
            ]
          },
          "metadata": {
            "tags": []
          },
          "execution_count": 104
        }
      ]
    },
    {
      "cell_type": "code",
      "metadata": {
        "id": "SVy8lJBQCU2S",
        "colab_type": "code",
        "outputId": "3505c04d-1ae0-4462-929f-02144c6c99ec",
        "colab": {
          "base_uri": "https://localhost:8080/",
          "height": 51
        }
      },
      "source": [
        "x = torch.tensor([[4],[7]])\n",
        "forward(x)"
      ],
      "execution_count": 105,
      "outputs": [
        {
          "output_type": "execute_result",
          "data": {
            "text/plain": [
              "tensor([[13.],\n",
              "        [22.]], grad_fn=<AddBackward0>)"
            ]
          },
          "metadata": {
            "tags": []
          },
          "execution_count": 105
        }
      ]
    },
    {
      "cell_type": "code",
      "metadata": {
        "id": "YZxyaWCzCcfp",
        "colab_type": "code",
        "colab": {}
      },
      "source": [
        "# Linear Model"
      ],
      "execution_count": 0,
      "outputs": []
    },
    {
      "cell_type": "code",
      "metadata": {
        "id": "VeU1AYkvClAa",
        "colab_type": "code",
        "colab": {}
      },
      "source": [
        "from torch.nn import Linear"
      ],
      "execution_count": 0,
      "outputs": []
    },
    {
      "cell_type": "code",
      "metadata": {
        "id": "_znHvdXYCr5x",
        "colab_type": "code",
        "outputId": "130527b6-4dab-43f1-b35b-1067e875eee7",
        "colab": {
          "base_uri": "https://localhost:8080/",
          "height": 68
        }
      },
      "source": [
        "torch.manual_seed(1) # Generate random value\n",
        "# One input and one output\n",
        "model = Linear(in_features=1, out_features=1) \n",
        "print(model.bias, model.weight)"
      ],
      "execution_count": 108,
      "outputs": [
        {
          "output_type": "stream",
          "text": [
            "Parameter containing:\n",
            "tensor([-0.4414], requires_grad=True) Parameter containing:\n",
            "tensor([[0.5153]], requires_grad=True)\n"
          ],
          "name": "stdout"
        }
      ]
    },
    {
      "cell_type": "code",
      "metadata": {
        "id": "u_jxRhkBDOW8",
        "colab_type": "code",
        "outputId": "d06a9487-15cd-49a6-be39-0aad95e3221c",
        "colab": {
          "base_uri": "https://localhost:8080/",
          "height": 34
        }
      },
      "source": [
        "x = torch.tensor([2.0])\n",
        "print(model(x))"
      ],
      "execution_count": 109,
      "outputs": [
        {
          "output_type": "stream",
          "text": [
            "tensor([0.5891], grad_fn=<AddBackward0>)\n"
          ],
          "name": "stdout"
        }
      ]
    },
    {
      "cell_type": "code",
      "metadata": {
        "id": "fIGN7mO7DkEE",
        "colab_type": "code",
        "outputId": "e2f22701-5407-4c3e-a2fc-9dddf30eb526",
        "colab": {
          "base_uri": "https://localhost:8080/",
          "height": 51
        }
      },
      "source": [
        "x = torch.tensor([[2.0], [3.0]])\n",
        "print(model(x))"
      ],
      "execution_count": 110,
      "outputs": [
        {
          "output_type": "stream",
          "text": [
            "tensor([[0.5891],\n",
            "        [1.1044]], grad_fn=<AddmmBackward>)\n"
          ],
          "name": "stdout"
        }
      ]
    },
    {
      "cell_type": "code",
      "metadata": {
        "id": "f3DokOU6DpKR",
        "colab_type": "code",
        "colab": {}
      },
      "source": [
        "# Custom Modules"
      ],
      "execution_count": 0,
      "outputs": []
    },
    {
      "cell_type": "code",
      "metadata": {
        "id": "Qgg9N8L8Dzl0",
        "colab_type": "code",
        "colab": {}
      },
      "source": [
        "import torch.nn as nn\n",
        "\n",
        "# nn.Module is parent class overall torch model\n",
        "class CustomLinearRegression(nn.Module):\n",
        "  def __init__(self, input_size, output_size):\n",
        "    super().__init__()\n",
        "    self.linear = nn.Linear(input_size, output_size)\n",
        "\n",
        "  def forward(self, x):\n",
        "    pred = self.linear(x)\n",
        "    return pred\n"
      ],
      "execution_count": 0,
      "outputs": []
    },
    {
      "cell_type": "code",
      "metadata": {
        "id": "K9wDKYH9E3no",
        "colab_type": "code",
        "outputId": "f04b051f-40fd-43a1-a02c-657a58bf94b6",
        "colab": {
          "base_uri": "https://localhost:8080/",
          "height": 68
        }
      },
      "source": [
        "torch.manual_seed(1)\n",
        "\n",
        "model = CustomLinearRegression(1,1)\n",
        "print(list(model.parameters()))"
      ],
      "execution_count": 113,
      "outputs": [
        {
          "output_type": "stream",
          "text": [
            "[Parameter containing:\n",
            "tensor([[0.5153]], requires_grad=True), Parameter containing:\n",
            "tensor([-0.4414], requires_grad=True)]\n"
          ],
          "name": "stdout"
        }
      ]
    },
    {
      "cell_type": "code",
      "metadata": {
        "id": "P2PYZ5rlFEBl",
        "colab_type": "code",
        "outputId": "562a3f16-e37e-42e8-f902-41068107886b",
        "colab": {
          "base_uri": "https://localhost:8080/",
          "height": 51
        }
      },
      "source": [
        "x = torch.tensor([[1.0], [2.0]])\n",
        "model.forward(x)"
      ],
      "execution_count": 114,
      "outputs": [
        {
          "output_type": "execute_result",
          "data": {
            "text/plain": [
              "tensor([[0.0739],\n",
              "        [0.5891]], grad_fn=<AddmmBackward>)"
            ]
          },
          "metadata": {
            "tags": []
          },
          "execution_count": 114
        }
      ]
    },
    {
      "cell_type": "code",
      "metadata": {
        "id": "fCK9uWdfFh8O",
        "colab_type": "code",
        "colab": {}
      },
      "source": [
        "# Perform Linear Regression in standard way"
      ],
      "execution_count": 0,
      "outputs": []
    },
    {
      "cell_type": "code",
      "metadata": {
        "id": "JruoN0bbF848",
        "colab_type": "code",
        "colab": {}
      },
      "source": [
        "# Create dataset"
      ],
      "execution_count": 0,
      "outputs": []
    },
    {
      "cell_type": "code",
      "metadata": {
        "id": "uj6h2vJAF__3",
        "colab_type": "code",
        "colab": {}
      },
      "source": [
        "import matplotlib.pyplot as plt"
      ],
      "execution_count": 0,
      "outputs": []
    },
    {
      "cell_type": "code",
      "metadata": {
        "id": "CnOVXRaOGG8s",
        "colab_type": "code",
        "outputId": "2425b245-a6ac-4002-8a69-50f093d3eb72",
        "colab": {
          "base_uri": "https://localhost:8080/",
          "height": 279
        }
      },
      "source": [
        "x = torch.randn(100,1) *10\n",
        "y = x + torch.randn(100,1)*3\n",
        "plt.plot(x.numpy(), y.numpy(), 'o')\n",
        "plt.xlabel('x')\n",
        "plt.ylabel('y')\n",
        "plt.show()"
      ],
      "execution_count": 118,
      "outputs": [
        {
          "output_type": "display_data",
          "data": {
            "image/png": "[encoded data removed]",
            "text/plain": [
              "<Figure size 432x288 with 1 Axes>"
            ]
          },
          "metadata": {
            "tags": []
          }
        }
      ]
    },
    {
      "cell_type": "code",
      "metadata": {
        "id": "PSip10vKGWF1",
        "colab_type": "code",
        "colab": {}
      },
      "source": [
        "[w,b] = model.parameters()"
      ],
      "execution_count": 0,
      "outputs": []
    },
    {
      "cell_type": "code",
      "metadata": {
        "id": "fJe_23wPHcFj",
        "colab_type": "code",
        "outputId": "69a1b3f2-0a38-4044-d2f9-3723fddae1cb",
        "colab": {
          "base_uri": "https://localhost:8080/",
          "height": 68
        }
      },
      "source": [
        "print(w,b)"
      ],
      "execution_count": 120,
      "outputs": [
        {
          "output_type": "stream",
          "text": [
            "Parameter containing:\n",
            "tensor([[0.5153]], requires_grad=True) Parameter containing:\n",
            "tensor([-0.4414], requires_grad=True)\n"
          ],
          "name": "stdout"
        }
      ]
    },
    {
      "cell_type": "code",
      "metadata": {
        "id": "gQMEqq4zHr1e",
        "colab_type": "code",
        "colab": {}
      },
      "source": [
        "def get_params():\n",
        "  return (w[0][0].item(), b[0].item())"
      ],
      "execution_count": 0,
      "outputs": []
    },
    {
      "cell_type": "code",
      "metadata": {
        "id": "-RbqyYtbIbWk",
        "colab_type": "code",
        "colab": {}
      },
      "source": [
        "def plot_fit(title):\n",
        "  plt.title = title\n",
        "  w1, b1 = get_params()\n",
        "  x1 = np.array([-30, 30])\n",
        "  y1 = w1*x1 + b1\n",
        "  plt.plot(x1, y1, 'r')\n",
        "  plt.scatter(x,y)\n",
        "  plt.show()\n"
      ],
      "execution_count": 0,
      "outputs": []
    },
    {
      "cell_type": "code",
      "metadata": {
        "id": "ELV1MOr3IntQ",
        "colab_type": "code",
        "outputId": "248c2dc2-0f3d-4b56-ce0a-9f05cf2d8397",
        "colab": {
          "base_uri": "https://localhost:8080/",
          "height": 265
        }
      },
      "source": [
        "plot_fit('Demo')"
      ],
      "execution_count": 123,
      "outputs": [
        {
          "output_type": "display_data",
          "data": {
            "image/png": "[encoded data removed]",
            "text/plain": [
              "<Figure size 432x288 with 1 Axes>"
            ]
          },
          "metadata": {
            "tags": []
          }
        }
      ]
    },
    {
      "cell_type": "code",
      "metadata": {
        "id": "nCdAEwIVHemK",
        "colab_type": "code",
        "colab": {}
      },
      "source": [
        "criterion = nn.MSELoss()\n",
        "optimizer = torch.optim.SGD(model.parameters(), lr=0.01)"
      ],
      "execution_count": 0,
      "outputs": []
    },
    {
      "cell_type": "code",
      "metadata": {
        "id": "1l7xnlpaJJYf",
        "colab_type": "code",
        "outputId": "b3257f98-c297-4b4d-ec28-35ddf7dfc77a",
        "colab": {
          "base_uri": "https://localhost:8080/",
          "height": 1000
        }
      },
      "source": [
        "# Epoch - no.of pass to perform the train process\n",
        "epochs = 100\n",
        "losses = []\n",
        "for i in range(epochs):\n",
        "  y_pred = model.forward(x)\n",
        "  loss = criterion(y_pred, y)\n",
        "  print('epoch :', i, ' Loss : ', loss.item())\n",
        "  losses.append(loss)\n",
        "  optimizer.zero_grad()\n",
        "  loss.backward()\n",
        "  optimizer.step()"
      ],
      "execution_count": 125,
      "outputs": [
        {
          "output_type": "stream",
          "text": [
            "epoch : 0  Loss :  36.448333740234375\n",
            "epoch : 1  Loss :  43.94552230834961\n",
            "epoch : 2  Loss :  53.461822509765625\n",
            "epoch : 3  Loss :  65.5404281616211\n",
            "epoch : 4  Loss :  80.8705062866211\n",
            "epoch : 5  Loss :  100.32701110839844\n",
            "epoch : 6  Loss :  125.0198745727539\n",
            "epoch : 7  Loss :  156.35787963867188\n",
            "epoch : 8  Loss :  196.1288604736328\n",
            "epoch : 9  Loss :  246.60162353515625\n",
            "epoch : 10  Loss :  310.6553955078125\n",
            "epoch : 11  Loss :  391.9438781738281\n",
            "epoch : 12  Loss :  495.1044006347656\n",
            "epoch : 13  Loss :  626.0213623046875\n",
            "epoch : 14  Loss :  792.162353515625\n",
            "epoch : 15  Loss :  1003.0047607421875\n",
            "epoch : 16  Loss :  1270.5738525390625\n",
            "epoch : 17  Loss :  1610.131591796875\n",
            "epoch : 18  Loss :  2041.0474853515625\n",
            "epoch : 19  Loss :  2587.8994140625\n",
            "epoch : 20  Loss :  3281.8857421875\n",
            "epoch : 21  Loss :  4162.58251953125\n",
            "epoch : 22  Loss :  5280.22705078125\n",
            "epoch : 23  Loss :  6698.5712890625\n",
            "epoch : 24  Loss :  8498.50390625\n",
            "epoch : 25  Loss :  10782.72265625\n",
            "epoch : 26  Loss :  13681.4970703125\n",
            "epoch : 27  Loss :  17360.189453125\n",
            "epoch : 28  Loss :  22028.625\n",
            "epoch : 29  Loss :  27953.0390625\n",
            "epoch : 30  Loss :  35471.42578125\n",
            "epoch : 31  Loss :  45012.62109375\n",
            "epoch : 32  Loss :  57120.85546875\n",
            "epoch : 33  Loss :  72486.7578125\n",
            "epoch : 34  Loss :  91986.7734375\n",
            "epoch : 35  Loss :  116733.2109375\n",
            "epoch : 36  Loss :  148137.625\n",
            "epoch : 37  Loss :  187991.421875\n",
            "epoch : 38  Loss :  238567.65625\n",
            "epoch : 39  Loss :  302751.0625\n",
            "epoch : 40  Loss :  384203.03125\n",
            "epoch : 41  Loss :  487569.46875\n",
            "epoch : 42  Loss :  618745.8125\n",
            "epoch : 43  Loss :  785214.75\n",
            "epoch : 44  Loss :  996471.9375\n",
            "epoch : 45  Loss :  1264566.5\n",
            "epoch : 46  Loss :  1604792.0\n",
            "epoch : 47  Loss :  2036556.0\n",
            "epoch : 48  Loss :  2584481.0\n",
            "epoch : 49  Loss :  3279824.0\n",
            "epoch : 50  Loss :  4162246.75\n",
            "epoch : 51  Loss :  5282088.5\n",
            "epoch : 52  Loss :  6703213.5\n",
            "epoch : 53  Loss :  8506688.0\n",
            "epoch : 54  Loss :  10795374.0\n",
            "epoch : 55  Loss :  13699821.0\n",
            "epoch : 56  Loss :  17385708.0\n",
            "epoch : 57  Loss :  22063250.0\n",
            "epoch : 58  Loss :  27999276.0\n",
            "epoch : 59  Loss :  35532392.0\n",
            "epoch : 60  Loss :  45092212.0\n",
            "epoch : 61  Loss :  57224088.0\n",
            "epoch : 62  Loss :  72619968.0\n",
            "epoch : 63  Loss :  92158072.0\n",
            "epoch : 64  Loss :  116953016.0\n",
            "epoch : 65  Loss :  148418768.0\n",
            "epoch : 66  Loss :  188350272.0\n",
            "epoch : 67  Loss :  239025296.0\n",
            "epoch : 68  Loss :  303334080.0\n",
            "epoch : 69  Loss :  384944512.0\n",
            "epoch : 70  Loss :  488512384.0\n",
            "epoch : 71  Loss :  619944960.0\n",
            "epoch : 72  Loss :  786738688.0\n",
            "epoch : 73  Loss :  998407872.0\n",
            "epoch : 74  Loss :  1267026304.0\n",
            "epoch : 75  Loss :  1607915904.0\n",
            "epoch : 76  Loss :  2040521088.0\n",
            "epoch : 77  Loss :  2589515264.0\n",
            "epoch : 78  Loss :  3286214656.0\n",
            "epoch : 79  Loss :  4170361088.0\n",
            "epoch : 80  Loss :  5292374528.0\n",
            "epoch : 81  Loss :  6716269568.0\n",
            "epoch : 82  Loss :  8523257856.0\n",
            "epoch : 83  Loss :  10816404480.0\n",
            "epoch : 84  Loss :  13726521344.0\n",
            "epoch : 85  Loss :  17419589632.0\n",
            "epoch : 86  Loss :  22106257408.0\n",
            "epoch : 87  Loss :  28053874688.0\n",
            "epoch : 88  Loss :  35601612800.0\n",
            "epoch : 89  Loss :  45180104704.0\n",
            "epoch : 90  Loss :  57335615488.0\n",
            "epoch : 91  Loss :  72761581568.0\n",
            "epoch : 92  Loss :  92337823744.0\n",
            "epoch : 93  Loss :  117180891136.0\n",
            "epoch : 94  Loss :  148707835904.0\n",
            "epoch : 95  Loss :  188717187072.0\n",
            "epoch : 96  Loss :  239490924544.0\n",
            "epoch : 97  Loss :  303925133312.0\n",
            "epoch : 98  Loss :  385695023104.0\n",
            "epoch : 99  Loss :  489465085952.0\n"
          ],
          "name": "stdout"
        }
      ]
    },
    {
      "cell_type": "code",
      "metadata": {
        "id": "6g88xfvNQLnf",
        "colab_type": "code",
        "colab": {
          "base_uri": "https://localhost:8080/",
          "height": 290
        },
        "outputId": "d9f44e86-1722-42fe-cb45-2b44fc74c71e"
      },
      "source": [
        "plt.plot(range(epochs), losses)\n",
        "plt.xlabel('Epochs')\n",
        "plt.ylabel('Loss')\n",
        "plt.show()"
      ],
      "execution_count": 126,
      "outputs": [
        {
          "output_type": "display_data",
          "data": {
            "image/png": "[encoded data removed]",
            "text/plain": [
              "<Figure size 432x288 with 1 Axes>"
            ]
          },
          "metadata": {
            "tags": []
          }
        }
      ]
    },
    {
      "cell_type": "code",
      "metadata": {
        "id": "9PveMx6nzjh9",
        "colab_type": "code",
        "colab": {}
      },
      "source": [
        ""
      ],
      "execution_count": 0,
      "outputs": []
    }
  ]
}