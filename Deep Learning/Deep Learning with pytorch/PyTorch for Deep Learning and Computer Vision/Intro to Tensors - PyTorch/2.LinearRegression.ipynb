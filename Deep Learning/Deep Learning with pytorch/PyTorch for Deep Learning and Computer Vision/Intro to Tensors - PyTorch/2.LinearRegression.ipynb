{
  "nbformat": 4,
  "nbformat_minor": 0,
  "metadata": {
    "colab": {
      "name": "Untitled1.ipynb",
      "provenance": [],
      "authorship_tag": "ABX9TyP4+z9Tej9RupV5NGUano9X",
      "include_colab_link": true
    },
    "kernelspec": {
      "name": "python3",
      "display_name": "Python 3"
    }
  },
  "cells": [
    {
      "cell_type": "markdown",
      "metadata": {
        "id": "view-in-github",
        "colab_type": "text"
      },
      "source": [
        "<a href=\"https://colab.research.google.com/github/PrimePy/DataScience/blob/master/Deep%20Learning/Deep%20Learning%20with%20pytorch/PyTorch%20for%20Deep%20Learning%20and%20Computer%20Vision/Intro%20to%20Tensors%20-%20PyTorch/2.LinearRegression.ipynb\" target=\"_parent\"><img src=\"https://colab.research.google.com/assets/colab-badge.svg\" alt=\"Open In Colab\"/></a>"
      ]
    },
    {
      "cell_type": "code",
      "metadata": {
        "id": "MPiIi-Hz-nlv",
        "colab_type": "code",
        "colab": {}
      },
      "source": [
        " import torch\n",
        " import numpy as np"
      ],
      "execution_count": 0,
      "outputs": []
    },
    {
      "cell_type": "code",
      "metadata": {
        "id": "3-FsK3o8AmIz",
        "colab_type": "code",
        "colab": {}
      },
      "source": [
        "w = torch.tensor(3.0, requires_grad=True)\n",
        "b = torch.tensor(1.0, requires_grad=True)"
      ],
      "execution_count": 0,
      "outputs": []
    },
    {
      "cell_type": "code",
      "metadata": {
        "id": "VAOE5-tdCHRv",
        "colab_type": "code",
        "colab": {}
      },
      "source": [
        "def forward(x):\n",
        "  y = w*x + b\n",
        "  return y"
      ],
      "execution_count": 0,
      "outputs": []
    },
    {
      "cell_type": "code",
      "metadata": {
        "id": "hth_fuzwCOyp",
        "colab_type": "code",
        "colab": {
          "base_uri": "https://localhost:8080/",
          "height": 34
        },
        "outputId": "a3525cbf-f41c-4494-9f17-2d1f38aa1fbd"
      },
      "source": [
        "x = torch.tensor(2)\n",
        "forward(x)"
      ],
      "execution_count": 179,
      "outputs": [
        {
          "output_type": "execute_result",
          "data": {
            "text/plain": [
              "tensor(7., grad_fn=<AddBackward0>)"
            ]
          },
          "metadata": {
            "tags": []
          },
          "execution_count": 179
        }
      ]
    },
    {
      "cell_type": "code",
      "metadata": {
        "id": "SVy8lJBQCU2S",
        "colab_type": "code",
        "colab": {
          "base_uri": "https://localhost:8080/",
          "height": 51
        },
        "outputId": "14f5105f-6d45-4f31-d330-1be64dadf5cf"
      },
      "source": [
        "x = torch.tensor([[4],[7]])\n",
        "forward(x)"
      ],
      "execution_count": 180,
      "outputs": [
        {
          "output_type": "execute_result",
          "data": {
            "text/plain": [
              "tensor([[13.],\n",
              "        [22.]], grad_fn=<AddBackward0>)"
            ]
          },
          "metadata": {
            "tags": []
          },
          "execution_count": 180
        }
      ]
    },
    {
      "cell_type": "code",
      "metadata": {
        "id": "YZxyaWCzCcfp",
        "colab_type": "code",
        "colab": {}
      },
      "source": [
        "# Linear Model"
      ],
      "execution_count": 0,
      "outputs": []
    },
    {
      "cell_type": "code",
      "metadata": {
        "id": "VeU1AYkvClAa",
        "colab_type": "code",
        "colab": {}
      },
      "source": [
        "from torch.nn import Linear"
      ],
      "execution_count": 0,
      "outputs": []
    },
    {
      "cell_type": "code",
      "metadata": {
        "id": "_znHvdXYCr5x",
        "colab_type": "code",
        "colab": {
          "base_uri": "https://localhost:8080/",
          "height": 68
        },
        "outputId": "9564c97d-863e-4437-c4fc-dc4af8646519"
      },
      "source": [
        "torch.manual_seed(1) # Generate random value\n",
        "# One input and one output\n",
        "model = Linear(in_features=1, out_features=1) \n",
        "print(model.bias, model.weight)"
      ],
      "execution_count": 183,
      "outputs": [
        {
          "output_type": "stream",
          "text": [
            "Parameter containing:\n",
            "tensor([-0.4414], requires_grad=True) Parameter containing:\n",
            "tensor([[0.5153]], requires_grad=True)\n"
          ],
          "name": "stdout"
        }
      ]
    },
    {
      "cell_type": "code",
      "metadata": {
        "id": "u_jxRhkBDOW8",
        "colab_type": "code",
        "colab": {
          "base_uri": "https://localhost:8080/",
          "height": 34
        },
        "outputId": "d46a7e51-1d40-4ff2-a008-934b4850687b"
      },
      "source": [
        "x = torch.tensor([2.0])\n",
        "print(model(x))"
      ],
      "execution_count": 184,
      "outputs": [
        {
          "output_type": "stream",
          "text": [
            "tensor([0.5891], grad_fn=<AddBackward0>)\n"
          ],
          "name": "stdout"
        }
      ]
    },
    {
      "cell_type": "code",
      "metadata": {
        "id": "fIGN7mO7DkEE",
        "colab_type": "code",
        "colab": {
          "base_uri": "https://localhost:8080/",
          "height": 51
        },
        "outputId": "ce0df0d3-92ac-4443-e7e7-8458e0b0c8b9"
      },
      "source": [
        "x = torch.tensor([[2.0], [3.0]])\n",
        "print(model(x))"
      ],
      "execution_count": 185,
      "outputs": [
        {
          "output_type": "stream",
          "text": [
            "tensor([[0.5891],\n",
            "        [1.1044]], grad_fn=<AddmmBackward>)\n"
          ],
          "name": "stdout"
        }
      ]
    },
    {
      "cell_type": "code",
      "metadata": {
        "id": "f3DokOU6DpKR",
        "colab_type": "code",
        "colab": {}
      },
      "source": [
        "# Custom Modules"
      ],
      "execution_count": 0,
      "outputs": []
    },
    {
      "cell_type": "code",
      "metadata": {
        "id": "Qgg9N8L8Dzl0",
        "colab_type": "code",
        "colab": {}
      },
      "source": [
        "import torch.nn as nn\n",
        "\n",
        "# nn.Module is parent class overall torch model\n",
        "class CustomLinearRegression(nn.Module):\n",
        "  def __init__(self, input_size, output_size):\n",
        "    super().__init__()\n",
        "    self.linear = nn.Linear(input_size, output_size)\n",
        "\n",
        "  def forward(self, x):\n",
        "    pred = self.linear(x)\n",
        "    return pred\n"
      ],
      "execution_count": 0,
      "outputs": []
    },
    {
      "cell_type": "code",
      "metadata": {
        "id": "K9wDKYH9E3no",
        "colab_type": "code",
        "colab": {
          "base_uri": "https://localhost:8080/",
          "height": 68
        },
        "outputId": "9b2887e1-b1b0-438c-aafd-bac956dab986"
      },
      "source": [
        "torch.manual_seed(1)\n",
        "\n",
        "model = CustomLinearRegression(1,1)\n",
        "print(list(model.parameters()))"
      ],
      "execution_count": 188,
      "outputs": [
        {
          "output_type": "stream",
          "text": [
            "[Parameter containing:\n",
            "tensor([[0.5153]], requires_grad=True), Parameter containing:\n",
            "tensor([-0.4414], requires_grad=True)]\n"
          ],
          "name": "stdout"
        }
      ]
    },
    {
      "cell_type": "code",
      "metadata": {
        "id": "P2PYZ5rlFEBl",
        "colab_type": "code",
        "colab": {
          "base_uri": "https://localhost:8080/",
          "height": 51
        },
        "outputId": "d97d5a5b-a2c0-478a-fe25-18c4985792a4"
      },
      "source": [
        "x = torch.tensor([[1.0], [2.0]])\n",
        "model.forward(x)"
      ],
      "execution_count": 189,
      "outputs": [
        {
          "output_type": "execute_result",
          "data": {
            "text/plain": [
              "tensor([[0.0739],\n",
              "        [0.5891]], grad_fn=<AddmmBackward>)"
            ]
          },
          "metadata": {
            "tags": []
          },
          "execution_count": 189
        }
      ]
    },
    {
      "cell_type": "code",
      "metadata": {
        "id": "fCK9uWdfFh8O",
        "colab_type": "code",
        "colab": {}
      },
      "source": [
        "# Perform Linear Regression in standard way"
      ],
      "execution_count": 0,
      "outputs": []
    },
    {
      "cell_type": "code",
      "metadata": {
        "id": "JruoN0bbF848",
        "colab_type": "code",
        "colab": {}
      },
      "source": [
        "# Create dataset"
      ],
      "execution_count": 0,
      "outputs": []
    },
    {
      "cell_type": "code",
      "metadata": {
        "id": "uj6h2vJAF__3",
        "colab_type": "code",
        "colab": {}
      },
      "source": [
        "import matplotlib.pyplot as plt"
      ],
      "execution_count": 0,
      "outputs": []
    },
    {
      "cell_type": "code",
      "metadata": {
        "id": "CnOVXRaOGG8s",
        "colab_type": "code",
        "colab": {
          "base_uri": "https://localhost:8080/",
          "height": 279
        },
        "outputId": "ec69195b-420a-4024-8a1b-94c39433ca1b"
      },
      "source": [
        "x = torch.randn(100,1) *10\n",
        "y = x + torch.randn(100,1)*3\n",
        "plt.plot(x.numpy(), y.numpy(), 'o')\n",
        "plt.xlabel('x')\n",
        "plt.ylabel('y')\n",
        "plt.show()"
      ],
      "execution_count": 193,
      "outputs": [
        {
          "output_type": "display_data",
          "data": {
            "image/png": "[encoded data removed]",
            "text/plain": [
              "<Figure size 432x288 with 1 Axes>"
            ]
          },
          "metadata": {
            "tags": []
          }
        }
      ]
    },
    {
      "cell_type": "code",
      "metadata": {
        "id": "PSip10vKGWF1",
        "colab_type": "code",
        "colab": {}
      },
      "source": [
        "[w,b] = model.parameters()"
      ],
      "execution_count": 0,
      "outputs": []
    },
    {
      "cell_type": "code",
      "metadata": {
        "id": "fJe_23wPHcFj",
        "colab_type": "code",
        "colab": {
          "base_uri": "https://localhost:8080/",
          "height": 68
        },
        "outputId": "2ba0ea05-4543-413b-9db7-3ee41102c5b2"
      },
      "source": [
        "print(w,b)"
      ],
      "execution_count": 195,
      "outputs": [
        {
          "output_type": "stream",
          "text": [
            "Parameter containing:\n",
            "tensor([[0.5153]], requires_grad=True) Parameter containing:\n",
            "tensor([-0.4414], requires_grad=True)\n"
          ],
          "name": "stdout"
        }
      ]
    },
    {
      "cell_type": "code",
      "metadata": {
        "id": "gQMEqq4zHr1e",
        "colab_type": "code",
        "colab": {}
      },
      "source": [
        "def get_params():\n",
        "  return (w[0][0].item(), b[0].item())"
      ],
      "execution_count": 0,
      "outputs": []
    },
    {
      "cell_type": "code",
      "metadata": {
        "id": "-RbqyYtbIbWk",
        "colab_type": "code",
        "colab": {}
      },
      "source": [
        "def plot_fit(title):\n",
        "  plt.title = title\n",
        "  w1, b1 = get_params()\n",
        "  x1 = numpy.array([-30, 30])\n",
        "  y1 = w1*x1 + b1\n",
        "  plt.plot(x1, y1, 'r')\n",
        "  plt.scatter(x,y)\n",
        "  plt.show()\n"
      ],
      "execution_count": 0,
      "outputs": []
    },
    {
      "cell_type": "code",
      "metadata": {
        "id": "ELV1MOr3IntQ",
        "colab_type": "code",
        "colab": {
          "base_uri": "https://localhost:8080/",
          "height": 265
        },
        "outputId": "2b8b7f77-d5b2-4006-8787-4b6f9f09522b"
      },
      "source": [
        "plot_fit('Demo')"
      ],
      "execution_count": 198,
      "outputs": [
        {
          "output_type": "display_data",
          "data": {
            "image/png": "[encoded data removed]",
            "text/plain": [
              "<Figure size 432x288 with 1 Axes>"
            ]
          },
          "metadata": {
            "tags": []
          }
        }
      ]
    },
    {
      "cell_type": "code",
      "metadata": {
        "id": "nCdAEwIVHemK",
        "colab_type": "code",
        "colab": {}
      },
      "source": [
        "criterion = nn.MSELoss()\n",
        "optimizer = torch.optim.SGD(model.parameters(), lr=0.01)"
      ],
      "execution_count": 0,
      "outputs": []
    },
    {
      "cell_type": "code",
      "metadata": {
        "id": "1l7xnlpaJJYf",
        "colab_type": "code",
        "colab": {
          "base_uri": "https://localhost:8080/",
          "height": 1000
        },
        "outputId": "6954c8a1-dcd9-4df5-9603-4581e62de2c4"
      },
      "source": [
        "# Epoch - no.of pass to perform the train process\n",
        "epochs = 100\n",
        "losses = []\n",
        "for i in range(epochs):\n",
        "  y_pred = model.forward(x)\n",
        "  loss = criterion(y_pred, y)\n",
        "  print('epoch :', i, ' Loss : ', loss.item())\n",
        "\n",
        "  losses.append(loss.item())"
      ],
      "execution_count": 200,
      "outputs": [
        {
          "output_type": "stream",
          "text": [
            "epoch : 0  Loss :  36.448333740234375\n",
            "epoch : 1  Loss :  36.448333740234375\n",
            "epoch : 2  Loss :  36.448333740234375\n",
            "epoch : 3  Loss :  36.448333740234375\n",
            "epoch : 4  Loss :  36.448333740234375\n",
            "epoch : 5  Loss :  36.448333740234375\n",
            "epoch : 6  Loss :  36.448333740234375\n",
            "epoch : 7  Loss :  36.448333740234375\n",
            "epoch : 8  Loss :  36.448333740234375\n",
            "epoch : 9  Loss :  36.448333740234375\n",
            "epoch : 10  Loss :  36.448333740234375\n",
            "epoch : 11  Loss :  36.448333740234375\n",
            "epoch : 12  Loss :  36.448333740234375\n",
            "epoch : 13  Loss :  36.448333740234375\n",
            "epoch : 14  Loss :  36.448333740234375\n",
            "epoch : 15  Loss :  36.448333740234375\n",
            "epoch : 16  Loss :  36.448333740234375\n",
            "epoch : 17  Loss :  36.448333740234375\n",
            "epoch : 18  Loss :  36.448333740234375\n",
            "epoch : 19  Loss :  36.448333740234375\n",
            "epoch : 20  Loss :  36.448333740234375\n",
            "epoch : 21  Loss :  36.448333740234375\n",
            "epoch : 22  Loss :  36.448333740234375\n",
            "epoch : 23  Loss :  36.448333740234375\n",
            "epoch : 24  Loss :  36.448333740234375\n",
            "epoch : 25  Loss :  36.448333740234375\n",
            "epoch : 26  Loss :  36.448333740234375\n",
            "epoch : 27  Loss :  36.448333740234375\n",
            "epoch : 28  Loss :  36.448333740234375\n",
            "epoch : 29  Loss :  36.448333740234375\n",
            "epoch : 30  Loss :  36.448333740234375\n",
            "epoch : 31  Loss :  36.448333740234375\n",
            "epoch : 32  Loss :  36.448333740234375\n",
            "epoch : 33  Loss :  36.448333740234375\n",
            "epoch : 34  Loss :  36.448333740234375\n",
            "epoch : 35  Loss :  36.448333740234375\n",
            "epoch : 36  Loss :  36.448333740234375\n",
            "epoch : 37  Loss :  36.448333740234375\n",
            "epoch : 38  Loss :  36.448333740234375\n",
            "epoch : 39  Loss :  36.448333740234375\n",
            "epoch : 40  Loss :  36.448333740234375\n",
            "epoch : 41  Loss :  36.448333740234375\n",
            "epoch : 42  Loss :  36.448333740234375\n",
            "epoch : 43  Loss :  36.448333740234375\n",
            "epoch : 44  Loss :  36.448333740234375\n",
            "epoch : 45  Loss :  36.448333740234375\n",
            "epoch : 46  Loss :  36.448333740234375\n",
            "epoch : 47  Loss :  36.448333740234375\n",
            "epoch : 48  Loss :  36.448333740234375\n",
            "epoch : 49  Loss :  36.448333740234375\n",
            "epoch : 50  Loss :  36.448333740234375\n",
            "epoch : 51  Loss :  36.448333740234375\n",
            "epoch : 52  Loss :  36.448333740234375\n",
            "epoch : 53  Loss :  36.448333740234375\n",
            "epoch : 54  Loss :  36.448333740234375\n",
            "epoch : 55  Loss :  36.448333740234375\n",
            "epoch : 56  Loss :  36.448333740234375\n",
            "epoch : 57  Loss :  36.448333740234375\n",
            "epoch : 58  Loss :  36.448333740234375\n",
            "epoch : 59  Loss :  36.448333740234375\n",
            "epoch : 60  Loss :  36.448333740234375\n",
            "epoch : 61  Loss :  36.448333740234375\n",
            "epoch : 62  Loss :  36.448333740234375\n",
            "epoch : 63  Loss :  36.448333740234375\n",
            "epoch : 64  Loss :  36.448333740234375\n",
            "epoch : 65  Loss :  36.448333740234375\n",
            "epoch : 66  Loss :  36.448333740234375\n",
            "epoch : 67  Loss :  36.448333740234375\n",
            "epoch : 68  Loss :  36.448333740234375\n",
            "epoch : 69  Loss :  36.448333740234375\n",
            "epoch : 70  Loss :  36.448333740234375\n",
            "epoch : 71  Loss :  36.448333740234375\n",
            "epoch : 72  Loss :  36.448333740234375\n",
            "epoch : 73  Loss :  36.448333740234375\n",
            "epoch : 74  Loss :  36.448333740234375\n",
            "epoch : 75  Loss :  36.448333740234375\n",
            "epoch : 76  Loss :  36.448333740234375\n",
            "epoch : 77  Loss :  36.448333740234375\n",
            "epoch : 78  Loss :  36.448333740234375\n",
            "epoch : 79  Loss :  36.448333740234375\n",
            "epoch : 80  Loss :  36.448333740234375\n",
            "epoch : 81  Loss :  36.448333740234375\n",
            "epoch : 82  Loss :  36.448333740234375\n",
            "epoch : 83  Loss :  36.448333740234375\n",
            "epoch : 84  Loss :  36.448333740234375\n",
            "epoch : 85  Loss :  36.448333740234375\n",
            "epoch : 86  Loss :  36.448333740234375\n",
            "epoch : 87  Loss :  36.448333740234375\n",
            "epoch : 88  Loss :  36.448333740234375\n",
            "epoch : 89  Loss :  36.448333740234375\n",
            "epoch : 90  Loss :  36.448333740234375\n",
            "epoch : 91  Loss :  36.448333740234375\n",
            "epoch : 92  Loss :  36.448333740234375\n",
            "epoch : 93  Loss :  36.448333740234375\n",
            "epoch : 94  Loss :  36.448333740234375\n",
            "epoch : 95  Loss :  36.448333740234375\n",
            "epoch : 96  Loss :  36.448333740234375\n",
            "epoch : 97  Loss :  36.448333740234375\n",
            "epoch : 98  Loss :  36.448333740234375\n",
            "epoch : 99  Loss :  36.448333740234375\n"
          ],
          "name": "stdout"
        }
      ]
    },
    {
      "cell_type": "code",
      "metadata": {
        "id": "6g88xfvNQLnf",
        "colab_type": "code",
        "colab": {}
      },
      "source": [
        ""
      ],
      "execution_count": 0,
      "outputs": []
    }
  ]
}