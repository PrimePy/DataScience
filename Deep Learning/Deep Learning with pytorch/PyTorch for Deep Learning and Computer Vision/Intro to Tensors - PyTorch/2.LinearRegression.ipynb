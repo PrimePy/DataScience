{
  "nbformat": 4,
  "nbformat_minor": 0,
  "metadata": {
    "colab": {
      "name": "Untitled1.ipynb",
      "provenance": [],
      "authorship_tag": "ABX9TyPqYeKu/JANvzqQj1bZYDlx",
      "include_colab_link": true
    },
    "kernelspec": {
      "name": "python3",
      "display_name": "Python 3"
    }
  },
  "cells": [
    {
      "cell_type": "markdown",
      "metadata": {
        "id": "view-in-github",
        "colab_type": "text"
      },
      "source": [
        "<a href=\"https://colab.research.google.com/github/PrimePy/DataScience/blob/master/Deep%20Learning/Deep%20Learning%20with%20pytorch/PyTorch%20for%20Deep%20Learning%20and%20Computer%20Vision/Intro%20to%20Tensors%20-%20PyTorch/2.LinearRegression.ipynb\" target=\"_parent\"><img src=\"https://colab.research.google.com/assets/colab-badge.svg\" alt=\"Open In Colab\"/></a>"
      ]
    },
    {
      "cell_type": "code",
      "metadata": {
        "id": "MPiIi-Hz-nlv",
        "colab_type": "code",
        "colab": {}
      },
      "source": [
        "print('Hey prime')"
      ],
      "execution_count": 0,
      "outputs": []
    }
  ]
}