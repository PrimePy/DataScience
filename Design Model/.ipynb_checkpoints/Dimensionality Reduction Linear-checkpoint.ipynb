{
 "cells": [
  {
   "cell_type": "code",
   "execution_count": 1,
   "metadata": {},
   "outputs": [],
   "source": [
    "import pandas as pd\n",
    "import numpy as np\n",
    "import matplotlib.pyplot as plt\n",
    "import seaborn as sns"
   ]
  },
  {
   "cell_type": "code",
   "execution_count": 2,
   "metadata": {},
   "outputs": [
    {
     "data": {
      "text/html": [
       "<div>\n",
       "<style scoped>\n",
       "    .dataframe tbody tr th:only-of-type {\n",
       "        vertical-align: middle;\n",
       "    }\n",
       "\n",
       "    .dataframe tbody tr th {\n",
       "        vertical-align: top;\n",
       "    }\n",
       "\n",
       "    .dataframe thead th {\n",
       "        text-align: right;\n",
       "    }\n",
       "</style>\n",
       "<table border=\"1\" class=\"dataframe\">\n",
       "  <thead>\n",
       "    <tr style=\"text-align: right;\">\n",
       "      <th></th>\n",
       "      <th>pregnant</th>\n",
       "      <th>glucose</th>\n",
       "      <th>diastolic</th>\n",
       "      <th>triceps</th>\n",
       "      <th>insulin</th>\n",
       "      <th>bmi</th>\n",
       "      <th>diabetes</th>\n",
       "      <th>age</th>\n",
       "      <th>test</th>\n",
       "    </tr>\n",
       "  </thead>\n",
       "  <tbody>\n",
       "    <tr>\n",
       "      <th>1</th>\n",
       "      <td>-1.029213</td>\n",
       "      <td>0.466314</td>\n",
       "      <td>-2.456964</td>\n",
       "      <td>0.557421</td>\n",
       "      <td>0.100631</td>\n",
       "      <td>1.426730</td>\n",
       "      <td>5.115111</td>\n",
       "      <td>0.209585</td>\n",
       "      <td>1</td>\n",
       "    </tr>\n",
       "    <tr>\n",
       "      <th>2</th>\n",
       "      <td>-0.093854</td>\n",
       "      <td>-1.447941</td>\n",
       "      <td>-1.655691</td>\n",
       "      <td>0.271788</td>\n",
       "      <td>-0.573394</td>\n",
       "      <td>-0.297238</td>\n",
       "      <td>-0.797126</td>\n",
       "      <td>-0.477514</td>\n",
       "      <td>1</td>\n",
       "    </tr>\n",
       "    <tr>\n",
       "      <th>3</th>\n",
       "      <td>-0.405640</td>\n",
       "      <td>2.413014</td>\n",
       "      <td>-0.053146</td>\n",
       "      <td>1.509530</td>\n",
       "      <td>3.260122</td>\n",
       "      <td>-0.368477</td>\n",
       "      <td>-1.057960</td>\n",
       "      <td>2.172726</td>\n",
       "      <td>1</td>\n",
       "    </tr>\n",
       "    <tr>\n",
       "      <th>4</th>\n",
       "      <td>-0.717427</td>\n",
       "      <td>2.153454</td>\n",
       "      <td>-0.854419</td>\n",
       "      <td>-0.585110</td>\n",
       "      <td>5.812990</td>\n",
       "      <td>-0.425468</td>\n",
       "      <td>-0.362402</td>\n",
       "      <td>2.761668</td>\n",
       "      <td>1</td>\n",
       "    </tr>\n",
       "    <tr>\n",
       "      <th>5</th>\n",
       "      <td>0.529718</td>\n",
       "      <td>1.407219</td>\n",
       "      <td>0.107109</td>\n",
       "      <td>-0.965953</td>\n",
       "      <td>0.159608</td>\n",
       "      <td>-1.038117</td>\n",
       "      <td>0.185349</td>\n",
       "      <td>1.976412</td>\n",
       "      <td>1</td>\n",
       "    </tr>\n",
       "    <tr>\n",
       "      <th>6</th>\n",
       "      <td>-1.029213</td>\n",
       "      <td>-0.150141</td>\n",
       "      <td>1.068636</td>\n",
       "      <td>1.699951</td>\n",
       "      <td>0.623000</td>\n",
       "      <td>1.811417</td>\n",
       "      <td>0.081015</td>\n",
       "      <td>0.013271</td>\n",
       "      <td>1</td>\n",
       "    </tr>\n",
       "    <tr>\n",
       "      <th>7</th>\n",
       "      <td>-0.717427</td>\n",
       "      <td>-0.636816</td>\n",
       "      <td>-3.258237</td>\n",
       "      <td>0.843053</td>\n",
       "      <td>-0.615520</td>\n",
       "      <td>1.455225</td>\n",
       "      <td>-0.985506</td>\n",
       "      <td>0.209585</td>\n",
       "      <td>0</td>\n",
       "    </tr>\n",
       "    <tr>\n",
       "      <th>8</th>\n",
       "      <td>-0.717427</td>\n",
       "      <td>-0.247476</td>\n",
       "      <td>-0.053146</td>\n",
       "      <td>0.081366</td>\n",
       "      <td>-0.505991</td>\n",
       "      <td>0.215678</td>\n",
       "      <td>0.017256</td>\n",
       "      <td>0.111428</td>\n",
       "      <td>1</td>\n",
       "    </tr>\n",
       "    <tr>\n",
       "      <th>9</th>\n",
       "      <td>-0.093854</td>\n",
       "      <td>0.109419</td>\n",
       "      <td>1.389146</td>\n",
       "      <td>1.128686</td>\n",
       "      <td>0.665127</td>\n",
       "      <td>0.885318</td>\n",
       "      <td>0.524433</td>\n",
       "      <td>-0.379357</td>\n",
       "      <td>0</td>\n",
       "    </tr>\n",
       "  </tbody>\n",
       "</table>\n",
       "</div>"
      ],
      "text/plain": [
       "   pregnant   glucose  diastolic   triceps   insulin       bmi  diabetes  \\\n",
       "1 -1.029213  0.466314  -2.456964  0.557421  0.100631  1.426730  5.115111   \n",
       "2 -0.093854 -1.447941  -1.655691  0.271788 -0.573394 -0.297238 -0.797126   \n",
       "3 -0.405640  2.413014  -0.053146  1.509530  3.260122 -0.368477 -1.057960   \n",
       "4 -0.717427  2.153454  -0.854419 -0.585110  5.812990 -0.425468 -0.362402   \n",
       "5  0.529718  1.407219   0.107109 -0.965953  0.159608 -1.038117  0.185349   \n",
       "6 -1.029213 -0.150141   1.068636  1.699951  0.623000  1.811417  0.081015   \n",
       "7 -0.717427 -0.636816  -3.258237  0.843053 -0.615520  1.455225 -0.985506   \n",
       "8 -0.717427 -0.247476  -0.053146  0.081366 -0.505991  0.215678  0.017256   \n",
       "9 -0.093854  0.109419   1.389146  1.128686  0.665127  0.885318  0.524433   \n",
       "\n",
       "        age  test  \n",
       "1  0.209585     1  \n",
       "2 -0.477514     1  \n",
       "3  2.172726     1  \n",
       "4  2.761668     1  \n",
       "5  1.976412     1  \n",
       "6  0.013271     1  \n",
       "7  0.209585     0  \n",
       "8  0.111428     1  \n",
       "9 -0.379357     0  "
      ]
     },
     "execution_count": 2,
     "metadata": {},
     "output_type": "execute_result"
    }
   ],
   "source": [
    "diabetes_data = pd.read_csv('dataset/PimaIndians_processed_new.csv')\n",
    "diabetes_data[1:10]"
   ]
  },
  {
   "cell_type": "code",
   "execution_count": 3,
   "metadata": {},
   "outputs": [
    {
     "data": {
      "text/plain": [
       "['pregnant',\n",
       " 'glucose',\n",
       " 'diastolic',\n",
       " 'triceps',\n",
       " 'insulin',\n",
       " 'bmi',\n",
       " 'diabetes',\n",
       " 'age']"
      ]
     },
     "execution_count": 3,
     "metadata": {},
     "output_type": "execute_result"
    }
   ],
   "source": [
    "features = list(diabetes_data.columns[:-1])\n",
    "features"
   ]
  },
  {
   "cell_type": "code",
   "execution_count": 4,
   "metadata": {},
   "outputs": [],
   "source": [
    "from sklearn.decomposition import PCA\n",
    "\n",
    "def apply_pca(n):\n",
    "    pca = PCA(n_components=n)\n",
    "    x_new = pca.fit_transform(diabetes_data[features])\n",
    "    return pca, pd.DataFrame(x_new)"
   ]
  },
  {
   "cell_type": "code",
   "execution_count": 5,
   "metadata": {},
   "outputs": [],
   "source": [
    "pca_obj, _ = apply_pca(8)"
   ]
  },
  {
   "cell_type": "code",
   "execution_count": 6,
   "metadata": {},
   "outputs": [
    {
     "name": "stdout",
     "output_type": "stream",
     "text": [
      "Explained Variance:  [0.31994031 0.19459756 0.14984544 0.11946188 0.09002175 0.05017765\n",
      " 0.03888422 0.03707119]\n"
     ]
    }
   ],
   "source": [
    "print('Explained Variance: ', pca_obj.explained_variance_ratio_)"
   ]
  },
  {
   "cell_type": "code",
   "execution_count": 7,
   "metadata": {},
   "outputs": [
    {
     "data": {
      "text/plain": [
       "1.0"
      ]
     },
     "execution_count": 7,
     "metadata": {},
     "output_type": "execute_result"
    }
   ],
   "source": [
    "sum(pca_obj.explained_variance_ratio_)"
   ]
  },
  {
   "cell_type": "code",
   "execution_count": 8,
   "metadata": {},
   "outputs": [
    {
     "data": {
      "text/plain": [
       "Text(0, 0.5, 'Cumulative Varience')"
      ]
     },
     "execution_count": 8,
     "metadata": {},
     "output_type": "execute_result"
    },
    {
     "data": {
      "image/png": "[encoded data removed]",
      "text/plain": [
       "<Figure size 864x576 with 1 Axes>"
      ]
     },
     "metadata": {
      "needs_background": "light"
     },
     "output_type": "display_data"
    }
   ],
   "source": [
    "plt.figure(figsize=(12,8))\n",
    "plt.plot(np.cumsum(pca_obj.explained_variance_ratio_))\n",
    "plt.xlabel('n components')\n",
    "plt.ylabel('Cumulative Varience')"
   ]
  },
  {
   "cell_type": "code",
   "execution_count": 9,
   "metadata": {},
   "outputs": [
    {
     "data": {
      "text/html": [
       "<div>\n",
       "<style scoped>\n",
       "    .dataframe tbody tr th:only-of-type {\n",
       "        vertical-align: middle;\n",
       "    }\n",
       "\n",
       "    .dataframe tbody tr th {\n",
       "        vertical-align: top;\n",
       "    }\n",
       "\n",
       "    .dataframe thead th {\n",
       "        text-align: right;\n",
       "    }\n",
       "</style>\n",
       "<table border=\"1\" class=\"dataframe\">\n",
       "  <thead>\n",
       "    <tr style=\"text-align: right;\">\n",
       "      <th></th>\n",
       "      <th>0</th>\n",
       "      <th>1</th>\n",
       "      <th>2</th>\n",
       "      <th>3</th>\n",
       "    </tr>\n",
       "  </thead>\n",
       "  <tbody>\n",
       "    <tr>\n",
       "      <th>174</th>\n",
       "      <td>-2.111934</td>\n",
       "      <td>-1.053433</td>\n",
       "      <td>0.106217</td>\n",
       "      <td>-0.163534</td>\n",
       "    </tr>\n",
       "    <tr>\n",
       "      <th>296</th>\n",
       "      <td>-1.392067</td>\n",
       "      <td>0.215967</td>\n",
       "      <td>-0.199734</td>\n",
       "      <td>0.286970</td>\n",
       "    </tr>\n",
       "    <tr>\n",
       "      <th>48</th>\n",
       "      <td>-1.530388</td>\n",
       "      <td>0.397260</td>\n",
       "      <td>-1.037458</td>\n",
       "      <td>0.342512</td>\n",
       "    </tr>\n",
       "    <tr>\n",
       "      <th>100</th>\n",
       "      <td>-1.564838</td>\n",
       "      <td>0.671199</td>\n",
       "      <td>-0.384021</td>\n",
       "      <td>-0.377512</td>\n",
       "    </tr>\n",
       "    <tr>\n",
       "      <th>391</th>\n",
       "      <td>-0.710529</td>\n",
       "      <td>-1.166298</td>\n",
       "      <td>-0.166017</td>\n",
       "      <td>-0.538535</td>\n",
       "    </tr>\n",
       "    <tr>\n",
       "      <th>200</th>\n",
       "      <td>-0.997737</td>\n",
       "      <td>-0.334455</td>\n",
       "      <td>2.557508</td>\n",
       "      <td>-1.161669</td>\n",
       "    </tr>\n",
       "    <tr>\n",
       "      <th>277</th>\n",
       "      <td>-0.146509</td>\n",
       "      <td>0.042295</td>\n",
       "      <td>0.436110</td>\n",
       "      <td>-0.191756</td>\n",
       "    </tr>\n",
       "    <tr>\n",
       "      <th>173</th>\n",
       "      <td>-1.770427</td>\n",
       "      <td>0.162560</td>\n",
       "      <td>1.474602</td>\n",
       "      <td>0.619702</td>\n",
       "    </tr>\n",
       "    <tr>\n",
       "      <th>152</th>\n",
       "      <td>-0.567769</td>\n",
       "      <td>0.743253</td>\n",
       "      <td>1.605794</td>\n",
       "      <td>1.737100</td>\n",
       "    </tr>\n",
       "    <tr>\n",
       "      <th>164</th>\n",
       "      <td>0.273030</td>\n",
       "      <td>1.510348</td>\n",
       "      <td>-1.738559</td>\n",
       "      <td>-1.318520</td>\n",
       "    </tr>\n",
       "  </tbody>\n",
       "</table>\n",
       "</div>"
      ],
      "text/plain": [
       "            0         1         2         3\n",
       "174 -2.111934 -1.053433  0.106217 -0.163534\n",
       "296 -1.392067  0.215967 -0.199734  0.286970\n",
       "48  -1.530388  0.397260 -1.037458  0.342512\n",
       "100 -1.564838  0.671199 -0.384021 -0.377512\n",
       "391 -0.710529 -1.166298 -0.166017 -0.538535\n",
       "200 -0.997737 -0.334455  2.557508 -1.161669\n",
       "277 -0.146509  0.042295  0.436110 -0.191756\n",
       "173 -1.770427  0.162560  1.474602  0.619702\n",
       "152 -0.567769  0.743253  1.605794  1.737100\n",
       "164  0.273030  1.510348 -1.738559 -1.318520"
      ]
     },
     "execution_count": 9,
     "metadata": {},
     "output_type": "execute_result"
    }
   ],
   "source": [
    "y = diabetes_data['test']\n",
    "_, x_new =apply_pca(4)\n",
    "x_new.sample(10)"
   ]
  },
  {
   "cell_type": "code",
   "execution_count": 11,
   "metadata": {},
   "outputs": [],
   "source": [
    "from sklearn.model_selection import train_test_split\n",
    "\n",
    "x_train, x_test, y_train, y_test = train_test_split(x_new, y, test_size=0.2)"
   ]
  },
  {
   "cell_type": "code",
   "execution_count": 14,
   "metadata": {},
   "outputs": [],
   "source": [
    "from sklearn.linear_model import LogisticRegression\n",
    "logistic_model = LogisticRegression(solver='liblinear').fit(x_train, y_train)"
   ]
  },
  {
   "cell_type": "code",
   "execution_count": 15,
   "metadata": {},
   "outputs": [
    {
     "name": "stdout",
     "output_type": "stream",
     "text": [
      "Training Score 0.7571884984025559\n"
     ]
    }
   ],
   "source": [
    "print('Training Score', logistic_model.score(x_train, y_train))"
   ]
  },
  {
   "cell_type": "code",
   "execution_count": 17,
   "metadata": {},
   "outputs": [
    {
     "name": "stdout",
     "output_type": "stream",
     "text": [
      "Accuracy Score: 0.8354430379746836\n",
      "Precision Score: 0.782608695652174\n",
      "Recall Score: 0.6923076923076923\n"
     ]
    }
   ],
   "source": [
    "y_pred = logistic_model.predict(x_test)\n",
    "\n",
    "from sklearn.metrics import accuracy_score, precision_score, recall_score\n",
    "print('Accuracy Score:', accuracy_score(y_test, y_pred))\n",
    "print('Precision Score:', precision_score(y_test, y_pred))\n",
    "print('Recall Score:', recall_score(y_test, y_pred))"
   ]
  },
  {
   "cell_type": "code",
   "execution_count": null,
   "metadata": {},
   "outputs": [],
   "source": []
  }
 ],
 "metadata": {
  "kernelspec": {
   "display_name": "Python 3",
   "language": "python",
   "name": "python3"
  },
  "language_info": {
   "codemirror_mode": {
    "name": "ipython",
    "version": 3
   },
   "file_extension": ".py",
   "mimetype": "text/x-python",
   "name": "python",
   "nbconvert_exporter": "python",
   "pygments_lexer": "ipython3",
   "version": "3.7.3"
  }
 },
 "nbformat": 4,
 "nbformat_minor": 2
}
