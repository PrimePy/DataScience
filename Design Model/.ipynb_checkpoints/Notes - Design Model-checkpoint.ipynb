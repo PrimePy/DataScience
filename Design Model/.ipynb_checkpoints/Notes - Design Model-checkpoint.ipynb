{
 "cells": [
  {
   "cell_type": "markdown",
   "metadata": {},
   "source": [
    "\n",
    "## Sentiment Analysis Systems\n",
    "\n",
    "#### Polarity\n",
    "    Positive or Negative\n",
    "#### Subjectivity\n",
    "    Subjective or Objective\n",
    "#### Aspects\n",
    "    Part or Whole\n",
    "    \n",
    "### Binary Classification \n",
    "    Spam or Ham\n",
    "    Cancer or Not Cancer\n",
    "    \n",
    "### Types:\n",
    "\n",
    "#### Rule Based Classifier\n",
    "    Rules are formed by Experts\n",
    "    \n",
    "    Corpus - Humen Experts - Rule Based Classifier\n",
    "       \n",
    "#### ML Based Classifier\n",
    "    Pattern are found in aggrigate data\n",
    "    \n",
    "    Corpus - Classification Algorithm - ML Based Classifier\n",
    "    \n",
    "### ML vs Rule\n",
    "\n",
    "    1. Dynamic               -    Static\n",
    "    2. Less expert skill     -    High Expert skill\n",
    "    3. Update happen simply       Update the rules\n",
    "       update the corpus     -    every time\n",
    "    4. high quality data     -    Low\n",
    "    5. explicit training step-    No Need \n",
    "    6. Cannot operate without-    No instance need\n",
    "    instance\n",
    "    \n",
    "    "
   ]
  },
  {
   "cell_type": "code",
   "execution_count": null,
   "metadata": {},
   "outputs": [],
   "source": []
  }
 ],
 "metadata": {
  "kernelspec": {
   "display_name": "Python 3",
   "language": "python",
   "name": "python3"
  },
  "language_info": {
   "codemirror_mode": {
    "name": "ipython",
    "version": 3
   },
   "file_extension": ".py",
   "mimetype": "text/x-python",
   "name": "python",
   "nbconvert_exporter": "python",
   "pygments_lexer": "ipython3",
   "version": "3.8.0"
  }
 },
 "nbformat": 4,
 "nbformat_minor": 2
}
