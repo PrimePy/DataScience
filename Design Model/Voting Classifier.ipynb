{
 "cells": [
  {
   "cell_type": "code",
   "execution_count": 1,
   "metadata": {},
   "outputs": [],
   "source": [
    "import pandas as pd"
   ]
  },
  {
   "cell_type": "code",
   "execution_count": 2,
   "metadata": {},
   "outputs": [
    {
     "data": {
      "text/html": [
       "<div>\n",
       "<style scoped>\n",
       "    .dataframe tbody tr th:only-of-type {\n",
       "        vertical-align: middle;\n",
       "    }\n",
       "\n",
       "    .dataframe tbody tr th {\n",
       "        vertical-align: top;\n",
       "    }\n",
       "\n",
       "    .dataframe thead th {\n",
       "        text-align: right;\n",
       "    }\n",
       "</style>\n",
       "<table border=\"1\" class=\"dataframe\">\n",
       "  <thead>\n",
       "    <tr style=\"text-align: right;\">\n",
       "      <th></th>\n",
       "      <th>pregnant</th>\n",
       "      <th>glucose</th>\n",
       "      <th>diastolic</th>\n",
       "      <th>triceps</th>\n",
       "      <th>insulin</th>\n",
       "      <th>bmi</th>\n",
       "      <th>diabetes</th>\n",
       "      <th>age</th>\n",
       "      <th>test</th>\n",
       "    </tr>\n",
       "  </thead>\n",
       "  <tbody>\n",
       "    <tr>\n",
       "      <th>290</th>\n",
       "      <td>0.841505</td>\n",
       "      <td>-0.766596</td>\n",
       "      <td>-0.854419</td>\n",
       "      <td>-0.965953</td>\n",
       "      <td>-0.859854</td>\n",
       "      <td>-0.881393</td>\n",
       "      <td>-0.075485</td>\n",
       "      <td>0.111428</td>\n",
       "      <td>0</td>\n",
       "    </tr>\n",
       "    <tr>\n",
       "      <th>77</th>\n",
       "      <td>4.271153</td>\n",
       "      <td>1.309884</td>\n",
       "      <td>0.107109</td>\n",
       "      <td>1.128686</td>\n",
       "      <td>-0.354336</td>\n",
       "      <td>1.113281</td>\n",
       "      <td>0.851925</td>\n",
       "      <td>1.583784</td>\n",
       "      <td>1</td>\n",
       "    </tr>\n",
       "    <tr>\n",
       "      <th>138</th>\n",
       "      <td>0.529718</td>\n",
       "      <td>-0.474591</td>\n",
       "      <td>0.107109</td>\n",
       "      <td>1.319108</td>\n",
       "      <td>-0.682923</td>\n",
       "      <td>0.429393</td>\n",
       "      <td>-0.753653</td>\n",
       "      <td>0.209585</td>\n",
       "      <td>0</td>\n",
       "    </tr>\n",
       "    <tr>\n",
       "      <th>191</th>\n",
       "      <td>-1.029213</td>\n",
       "      <td>-0.961266</td>\n",
       "      <td>2.350673</td>\n",
       "      <td>0.938264</td>\n",
       "      <td>-0.708199</td>\n",
       "      <td>1.469473</td>\n",
       "      <td>1.443148</td>\n",
       "      <td>0.405899</td>\n",
       "      <td>0</td>\n",
       "    </tr>\n",
       "    <tr>\n",
       "      <th>6</th>\n",
       "      <td>-1.029213</td>\n",
       "      <td>-0.150141</td>\n",
       "      <td>1.068636</td>\n",
       "      <td>1.699951</td>\n",
       "      <td>0.623000</td>\n",
       "      <td>1.811417</td>\n",
       "      <td>0.081015</td>\n",
       "      <td>0.013271</td>\n",
       "      <td>1</td>\n",
       "    </tr>\n",
       "    <tr>\n",
       "      <th>0</th>\n",
       "      <td>-0.717427</td>\n",
       "      <td>-1.091046</td>\n",
       "      <td>-0.373655</td>\n",
       "      <td>-0.585110</td>\n",
       "      <td>-0.522842</td>\n",
       "      <td>-0.710421</td>\n",
       "      <td>-1.031876</td>\n",
       "      <td>-0.968299</td>\n",
       "      <td>0</td>\n",
       "    </tr>\n",
       "    <tr>\n",
       "      <th>283</th>\n",
       "      <td>-0.717427</td>\n",
       "      <td>1.342329</td>\n",
       "      <td>0.908382</td>\n",
       "      <td>1.319108</td>\n",
       "      <td>-0.750325</td>\n",
       "      <td>-0.040780</td>\n",
       "      <td>-0.527597</td>\n",
       "      <td>1.878255</td>\n",
       "      <td>0</td>\n",
       "    </tr>\n",
       "    <tr>\n",
       "      <th>226</th>\n",
       "      <td>-0.717427</td>\n",
       "      <td>-0.734151</td>\n",
       "      <td>0.107109</td>\n",
       "      <td>-1.632429</td>\n",
       "      <td>-0.725049</td>\n",
       "      <td>-1.109356</td>\n",
       "      <td>0.391118</td>\n",
       "      <td>-0.281200</td>\n",
       "      <td>0</td>\n",
       "    </tr>\n",
       "    <tr>\n",
       "      <th>169</th>\n",
       "      <td>1.776863</td>\n",
       "      <td>0.952989</td>\n",
       "      <td>0.587873</td>\n",
       "      <td>0.462210</td>\n",
       "      <td>0.125907</td>\n",
       "      <td>0.158687</td>\n",
       "      <td>1.072184</td>\n",
       "      <td>0.209585</td>\n",
       "      <td>1</td>\n",
       "    </tr>\n",
       "    <tr>\n",
       "      <th>369</th>\n",
       "      <td>-0.717427</td>\n",
       "      <td>-0.474591</td>\n",
       "      <td>-0.854419</td>\n",
       "      <td>1.604740</td>\n",
       "      <td>0.184884</td>\n",
       "      <td>0.343907</td>\n",
       "      <td>-0.313134</td>\n",
       "      <td>-0.673828</td>\n",
       "      <td>0</td>\n",
       "    </tr>\n",
       "  </tbody>\n",
       "</table>\n",
       "</div>"
      ],
      "text/plain": [
       "     pregnant   glucose  diastolic   triceps   insulin       bmi  diabetes  \\\n",
       "290  0.841505 -0.766596  -0.854419 -0.965953 -0.859854 -0.881393 -0.075485   \n",
       "77   4.271153  1.309884   0.107109  1.128686 -0.354336  1.113281  0.851925   \n",
       "138  0.529718 -0.474591   0.107109  1.319108 -0.682923  0.429393 -0.753653   \n",
       "191 -1.029213 -0.961266   2.350673  0.938264 -0.708199  1.469473  1.443148   \n",
       "6   -1.029213 -0.150141   1.068636  1.699951  0.623000  1.811417  0.081015   \n",
       "0   -0.717427 -1.091046  -0.373655 -0.585110 -0.522842 -0.710421 -1.031876   \n",
       "283 -0.717427  1.342329   0.908382  1.319108 -0.750325 -0.040780 -0.527597   \n",
       "226 -0.717427 -0.734151   0.107109 -1.632429 -0.725049 -1.109356  0.391118   \n",
       "169  1.776863  0.952989   0.587873  0.462210  0.125907  0.158687  1.072184   \n",
       "369 -0.717427 -0.474591  -0.854419  1.604740  0.184884  0.343907 -0.313134   \n",
       "\n",
       "          age  test  \n",
       "290  0.111428     0  \n",
       "77   1.583784     1  \n",
       "138  0.209585     0  \n",
       "191  0.405899     0  \n",
       "6    0.013271     1  \n",
       "0   -0.968299     0  \n",
       "283  1.878255     0  \n",
       "226 -0.281200     0  \n",
       "169  0.209585     1  \n",
       "369 -0.673828     0  "
      ]
     },
     "execution_count": 2,
     "metadata": {},
     "output_type": "execute_result"
    }
   ],
   "source": [
    "diabetes_data = pd.read_csv('dataset/PimaIndians_processed.csv')\n",
    "diabetes_data.sample(10)"
   ]
  },
  {
   "cell_type": "code",
   "execution_count": 3,
   "metadata": {},
   "outputs": [],
   "source": [
    "x = diabetes_data.drop('test', axis=1)\n",
    "y= diabetes_data['test']"
   ]
  },
  {
   "cell_type": "code",
   "execution_count": 5,
   "metadata": {},
   "outputs": [
    {
     "data": {
      "text/plain": [
       "((313, 8), (313,))"
      ]
     },
     "execution_count": 5,
     "metadata": {},
     "output_type": "execute_result"
    }
   ],
   "source": [
    "from sklearn.model_selection import train_test_split\n",
    "\n",
    "x_train, x_test, y_train, y_test = train_test_split(x, y, test_size=0.2)\n",
    "x_train.shape, y_train.shape"
   ]
  },
  {
   "cell_type": "code",
   "execution_count": 6,
   "metadata": {},
   "outputs": [
    {
     "data": {
      "text/plain": [
       "((79, 8), (79,))"
      ]
     },
     "execution_count": 6,
     "metadata": {},
     "output_type": "execute_result"
    }
   ],
   "source": [
    "x_test.shape, y_test.shape"
   ]
  },
  {
   "cell_type": "code",
   "execution_count": 8,
   "metadata": {},
   "outputs": [],
   "source": [
    "from sklearn.ensemble import VotingClassifier\n",
    "\n",
    "from sklearn.linear_model import LogisticRegression\n",
    "from sklearn.svm import SVC\n",
    "from sklearn.naive_bayes import GaussianNB"
   ]
  },
  {
   "cell_type": "code",
   "execution_count": 9,
   "metadata": {},
   "outputs": [],
   "source": [
    "log_clf = LogisticRegression(C=1, solver='liblinear')\n",
    "svc_clf = SVC(C=1, kernel='linear', gamma='auto')\n",
    "nav_clf = GaussianNB()"
   ]
  },
  {
   "cell_type": "code",
   "execution_count": 10,
   "metadata": {},
   "outputs": [],
   "source": [
    "voting_clf_hard = VotingClassifier(\n",
    "    estimators=[\n",
    "        ('log_clf', log_clf),\n",
    "        ('svc_clf', svc_clf),\n",
    "        ('nav_clf', nav_clf)\n",
    "    ],\n",
    "    voting='hard'\n",
    ")"
   ]
  },
  {
   "cell_type": "code",
   "execution_count": 11,
   "metadata": {},
   "outputs": [
    {
     "data": {
      "text/plain": [
       "VotingClassifier(estimators=[('log_clf',\n",
       "                              LogisticRegression(C=1, class_weight=None,\n",
       "                                                 dual=False, fit_intercept=True,\n",
       "                                                 intercept_scaling=1,\n",
       "                                                 l1_ratio=None, max_iter=100,\n",
       "                                                 multi_class='auto',\n",
       "                                                 n_jobs=None, penalty='l2',\n",
       "                                                 random_state=None,\n",
       "                                                 solver='liblinear', tol=0.0001,\n",
       "                                                 verbose=0, warm_start=False)),\n",
       "                             ('svc_clf',\n",
       "                              SVC(C=1, break_ties=False, cache_size=200,\n",
       "                                  class_weight=None, coef0=0.0,\n",
       "                                  decision_function_shape='ovr', degree=3,\n",
       "                                  gamma='auto', kernel='linear', max_iter=-1,\n",
       "                                  probability=False, random_state=None,\n",
       "                                  shrinking=True, tol=0.001, verbose=False)),\n",
       "                             ('nav_clf',\n",
       "                              GaussianNB(priors=None, var_smoothing=1e-09))],\n",
       "                 flatten_transform=True, n_jobs=None, voting='hard',\n",
       "                 weights=None)"
      ]
     },
     "execution_count": 11,
     "metadata": {},
     "output_type": "execute_result"
    }
   ],
   "source": [
    "voting_clf_hard.fit(x_train, y_train)"
   ]
  },
  {
   "cell_type": "code",
   "execution_count": 12,
   "metadata": {},
   "outputs": [],
   "source": [
    "y_pred = voting_clf_hard.predict(x_test)"
   ]
  },
  {
   "cell_type": "code",
   "execution_count": 14,
   "metadata": {},
   "outputs": [
    {
     "name": "stdout",
     "output_type": "stream",
     "text": [
      "Accuracy Score : 0.7974683544303798\n"
     ]
    }
   ],
   "source": [
    "from sklearn.metrics import accuracy_score\n",
    "\n",
    "print('Accuracy Score :', accuracy_score(y_test, y_pred))"
   ]
  },
  {
   "cell_type": "code",
   "execution_count": 17,
   "metadata": {},
   "outputs": [
    {
     "name": "stdout",
     "output_type": "stream",
     "text": [
      "LogisticRegression 0.810126582278481\n",
      "SVC 0.7848101265822784\n",
      "GaussianNB 0.759493670886076\n",
      "VotingClassifier 0.7974683544303798\n"
     ]
    }
   ],
   "source": [
    "for clf_hard in (log_clf, svc_clf, nav_clf, voting_clf_hard):\n",
    "    clf_hard.fit(x_train, y_train)\n",
    "    y_pred = clf_hard.predict(x_test)\n",
    "    \n",
    "    print(clf_hard.__class__.__name__, accuracy_score(y_test, y_pred))"
   ]
  },
  {
   "cell_type": "code",
   "execution_count": 18,
   "metadata": {},
   "outputs": [],
   "source": [
    "svc_clf_soft = SVC(C=1, kernel='linear', gamma='auto', probability=True)\n",
    "voting_clf_soft = VotingClassifier(\n",
    "    estimators=[\n",
    "        ('log_clf', log_clf),\n",
    "        ('svc_clf_soft', svc_clf_soft),\n",
    "        ('naive', nav_clf)\n",
    "    ],\n",
    "    voting = 'soft',\n",
    "    weights = [0.25,0.5,0.25]\n",
    ")"
   ]
  },
  {
   "cell_type": "code",
   "execution_count": 19,
   "metadata": {},
   "outputs": [
    {
     "name": "stdout",
     "output_type": "stream",
     "text": [
      "LogisticRegression 0.810126582278481\n",
      "SVC 0.7848101265822784\n",
      "GaussianNB 0.759493670886076\n",
      "VotingClassifier 0.759493670886076\n"
     ]
    }
   ],
   "source": [
    "for clf_hard in (log_clf, svc_clf_soft, nav_clf, voting_clf_soft):\n",
    "    clf_hard.fit(x_train, y_train)\n",
    "    y_pred = clf_hard.predict(x_test)\n",
    "    \n",
    "    print(clf_hard.__class__.__name__, accuracy_score(y_test, y_pred))"
   ]
  },
  {
   "cell_type": "code",
   "execution_count": null,
   "metadata": {},
   "outputs": [],
   "source": []
  }
 ],
 "metadata": {
  "kernelspec": {
   "display_name": "Python 3",
   "language": "python",
   "name": "python3"
  },
  "language_info": {
   "codemirror_mode": {
    "name": "ipython",
    "version": 3
   },
   "file_extension": ".py",
   "mimetype": "text/x-python",
   "name": "python",
   "nbconvert_exporter": "python",
   "pygments_lexer": "ipython3",
   "version": "3.7.3"
  }
 },
 "nbformat": 4,
 "nbformat_minor": 2
}
