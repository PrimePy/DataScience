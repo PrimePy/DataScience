{
 "cells": [
  {
   "cell_type": "markdown",
   "metadata": {},
   "source": [
    "# Data preparation"
   ]
  },
  {
   "cell_type": "markdown",
   "metadata": {},
   "source": [
    "#### What is ML?\n",
    "\n",
    "    Work with huge data\n",
    "    Find pattern\n",
    "    Make intelligent decisions"
   ]
  },
  {
   "cell_type": "markdown",
   "metadata": {},
   "source": [
    "#### Types of ML?\n",
    "\n",
    "    Classification\n",
    "    Regression\n",
    "    Clustering\n",
    "    Dimentionality Reduction"
   ]
  },
  {
   "cell_type": "markdown",
   "metadata": {},
   "source": [
    "#### Problems with Data?\n",
    "\n",
    "    I. Insufficient data\n",
    "    \n",
    "        problems:\n",
    "            1.Poor prediction\n",
    "            2.Overfitting  - Read too much info from little data\n",
    "            3.Underfitting - Read very low info from little data \n",
    "        solutions:\n",
    "            1.Need more data sources\n",
    "            2. Some other options:\n",
    "                a.Model complexity\n",
    "                    Ex: NB, Logistic regression\n",
    "                        Ensemble Learning\n",
    "                            create model using multiple ML algorithms\n",
    "                b.Transfer learning\n",
    "                    Ex: Deep Learning \n",
    "                            create model using already learned dataset\n",
    "                c.Data augmentation\n",
    "                    Ex: Image processing\n",
    "                            scaling, rotation, affine transforms\n",
    "                d.Synthetic data\n",
    "                    Ex: Artificially generate new data\n",
    "                \n",
    "    \n",
    "    II. Too much data\n",
    "        problems:\n",
    "            1.Curse of dimentionality\n",
    "               Solutions:\n",
    "                    Feature selection - Find best features \n",
    "                    Feature Engineering - Aggrigating low level data to useful feature [Concept Hierarchy]\n",
    "                    Dimnetionality Reduction - Reduce complexity without losing information \n",
    "                    \n",
    "            2.Outdated historical data\n",
    "                i.Cause:\n",
    "                    Lead Concept Drift\n",
    "                        Relationship of X and Y changes over time\n",
    "                        Ex: Financial trading\n",
    "                ii.Solutions: Need human expert \n",
    "                \n",
    "    III. Non representative data [Bias]\n",
    "        Problems:\n",
    "            Make impact in model building\n",
    "            Increate the time cleaning and processing\n",
    "            Oversampling and Undersampling\n",
    "            \n",
    "    IV. Missing data and Outliers:\n",
    "        Problems:\n",
    "            Increase the time of data cleaning\n",
    "    \n",
    "    V. Duplicate data\n",
    "        Problems:\n",
    "            Real time streaming\n",
    "        Solutions:\n",
    "            Remove the duplicate data"
   ]
  },
  {
   "cell_type": "markdown",
   "metadata": {},
   "source": [
    "#### Missing data and Outliers\n",
    "\n",
    "    I.Missing data\n",
    "        i. Deletion - Remove the missing values\n",
    "                problems:\n",
    "                    Some time increase the bias\n",
    "        ii. Imputation - Fill the missing values\n",
    "                Process:\n",
    "                    1.mean\n",
    "                    2.median\n",
    "                    3.mode\n",
    "                    4.nearby value\n",
    "                Types:\n",
    "                    1.Univariate - DU\n",
    "                    2.Multivariate - DU\n",
    "                    3.Hot deck\n",
    "                        Sort records based on any criteria\n",
    "                        Fill missing prior available value\n",
    "                    4.Mean substitution\n",
    "                    5.Regression\n",
    "                        Find the missing column based on other column\n",
    "                        \n",
    "    II.Outliers\n",
    "        Process:\n",
    "            Identifying Outliers\n",
    "                Distance from mean\n",
    "                Distance from fitted line\n",
    "            Copying with Outliers\n",
    "                Drop\n",
    "                Cap/Floor - [3 to -3]\n",
    "                Set to mean\n",
    "        Methods:\n",
    "            Find Varience, SD\n",
    "                "
   ]
  },
  {
   "cell_type": "markdown",
   "metadata": {},
   "source": [
    "#### Oversampling and Undersampling\n",
    "    Problems:\n",
    "        i. Reduce Accuracy\n",
    "        ii. Increase the precision and recall\n",
    "        \n",
    "     Solutions:\n",
    "         i.Case studies\n",
    "         ii.Stratified sampling\n",
    "       "
   ]
  },
  {
   "cell_type": "markdown",
   "metadata": {},
   "source": [
    "#### Overfitting and Underfitting\n",
    "\n",
    "    Overfit Problems:\n",
    "        Memarized model\n",
    "        Low traning erro\n",
    "        Does not work weel in real world\n",
    "        High test error\n",
    "      \n",
    "    Underfit Problems:\n",
    "        Unable to capture relationship\n",
    "        Perform poor in training\n",
    "        "
   ]
  },
  {
   "cell_type": "markdown",
   "metadata": {},
   "source": [
    "# Types of data in ML"
   ]
  },
  {
   "cell_type": "markdown",
   "metadata": {},
   "source": [
    "#### Numeric\n",
    "    Ratio scale\n",
    "        Ex:\n",
    "            1apple - 20 2apple -40   1:2\n",
    "        \n",
    "    Interval scale\n",
    "        Ex:\n",
    "            0F != 'no temperature'\n",
    "#### Categorical\n",
    "    Ordinal \n",
    "    Nominal\n",
    "    \n",
    "#### Numeric Data\n",
    "    Discrete  - Cannot measures but countable\n",
    "    Continuous - Cannot countable but measurable"
   ]
  },
  {
   "cell_type": "markdown",
   "metadata": {},
   "source": [
    "## Feature Scaling\n",
    " \n",
    "#### Scaling\n",
    "    All the values  between  particular min and max value\n",
    "\n",
    "#### Standardization\n",
    "    Center data round the mean and divide each value by SD"
   ]
  },
  {
   "cell_type": "markdown",
   "metadata": {},
   "source": [
    "# Categories as Nominal Data\n",
    "\n",
    "#### Label Encoding\n",
    "    Numerical id given for each categorical data\n",
    "\n",
    "#### One Hot Encoding\n",
    "    Seperate column given to each categories 0 or 1."
   ]
  },
  {
   "cell_type": "markdown",
   "metadata": {},
   "source": [
    "# Feature Selection"
   ]
  },
  {
   "cell_type": "markdown",
   "metadata": {},
   "source": [
    "## Curse of Dimentionality\n",
    "\n",
    "    no of x variables grow raise several problems\n",
    "    \n",
    "    Problems in Visualization\n",
    "        EDA is used to build model\n",
    "            Identify outliers\n",
    "            Detect anomalies\n",
    "            Choose relationship\n",
    "           \n",
    "           Problems:\n",
    "               More then three dimensional is very hard for visualization\n",
    "               \n",
    "    Problems in Training\n",
    "        Find best model parameters\n",
    "        Complex model had thousand of parameters\n",
    "        \n",
    "    Problems in Prediction\n",
    "        \n",
    "        find the training instances similar to the testing instances\n",
    "        Dimentinality high, search space high\n",
    "        variable x high, overfitting high\n",
    "             "
   ]
  },
  {
   "cell_type": "markdown",
   "metadata": {},
   "source": [
    "# Reducing Complexity\n",
    "\n",
    "\n",
    "## Feature Selection\n",
    "\n",
    "    Filter Methods\n",
    "        - Independently selected the features\n",
    "        - Either univariate or multi variate\n",
    "      Techniques:\n",
    "          Varience thresholding  - high\n",
    "          Chi square test - check   predictive power\n",
    "          Anova\n",
    "          Mutual information\n",
    "      \n",
    "    Wrapper Methods\n",
    " \n",
    "        - Somewhere between filter and embedded feature selection\n",
    "        - Forward and backward stepwise regression\n",
    "    Embedded Methods\n",
    "        - Features selected during model traning\n",
    "        \n",
    "        Techniques\n",
    "            Decision Trees\n",
    "            Lasso Regression\n",
    "                - Mitigate the overfitting\n",
    "            \n",
    "\n",
    "## Dimentionality Reduction\n",
    "\n",
    "    Projection  \n",
    "        - Find better axes and data\n",
    "        - PCA , Factor Analysis\n",
    "    Manifold Learning\n",
    "        - unroll the data\n",
    "        - swiss roll or S-Curve\n",
    "        - Isomap, Kernel PCA\n",
    "    AutoEncoding\n",
    "        - Simplify the data using the neural network\n",
    "        - Extract efficient representations of complex data. \n",
    "        \n",
    "    Drawbacks:\n",
    "    \n",
    "        - Loss of information\n",
    "        - Performance degradation\n",
    "        - Computational intensive\n",
    "        - Complex pipelines\n",
    "        - Transformed features hard to interpret\n",
    "    \n",
    "    "
   ]
  },
  {
   "cell_type": "code",
   "execution_count": null,
   "metadata": {},
   "outputs": [],
   "source": []
  }
 ],
 "metadata": {
  "kernelspec": {
   "display_name": "Python 3",
   "language": "python",
   "name": "python3"
  },
  "language_info": {
   "codemirror_mode": {
    "name": "ipython",
    "version": 3
   },
   "file_extension": ".py",
   "mimetype": "text/x-python",
   "name": "python",
   "nbconvert_exporter": "python",
   "pygments_lexer": "ipython3",
   "version": "3.8.0"
  }
 },
 "nbformat": 4,
 "nbformat_minor": 2
}
