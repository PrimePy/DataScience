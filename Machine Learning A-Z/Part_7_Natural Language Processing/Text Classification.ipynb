{
 "cells": [
  {
   "cell_type": "code",
   "execution_count": 5,
   "metadata": {},
   "outputs": [
    {
     "name": "stdout",
     "output_type": "stream",
     "text": [
      "Enter URLhttp://www.newser.com/section/7/technology-news-headlines.html\n",
      "['                            Insulted Congressman Sues Twitter for $250M                                                                    (Newser)                                        –                                        Republican Rep. Devin Nunes is tired of being insulted by Twitter accounts like Devin Nunes\\' Cow, which calls him a \"lil\\' treasonous cowpoke,\" and the now-suspended Devin Nunes\\' Mom. In a $250 million lawsuit against the website and some of its users, including the \"Cow\" and \"Mom\" accounts, the California lawmaker accuses Twitter of ignoring complaints about defamatory material, the Verge reports. He accuses the website of censoring conservative viewpoints and \"shadow-banning conservatives\" by causing their names to not appear as auto-suggestions. Engadget reports that Nunes blames Twitter for making his 2018 re-election closer than it should have been.                                                                            The complaint filed in a Virginia court Monday accused Twitter of failing to act when the Devin Nunes\\' Mom, among other things, \"falsely accused Nunes of putting up a \\'Fake News MAGA\\' sign outside a Texas Holocaust museum ... disparagingly called him a \\'presidential fluffer and swamp rat\" and \"falsely stated that Nunes had brought \\'shame\\' to his family,\" Fox reports. The lawsuit argues that Twitter is so important to current affairs that it needs to do more to remove defamatory content. \"Access to Twitter is essential for meaningful participation in modern-day American democracy,\" states the lawsuit, which seeks compensatory and punitive damages as well as an order for Twitter to reveal the names of the people behind the accounts that insulted Nunes.  (Read more Devin Nunes stories.)', '                            Hope You Didn\\'t Have Any Old Music on MySpace                                                                    (Newser)                                        –                                        More than a decade ago, MySpace reigned supreme in social media. And the company now has bad news for all those who uploaded music and other media to their accounts: It\\'s all gone. \"As a result of a server migration project, any photos, videos, and audio files you uploaded more than three years ago may no longer be available on or from MySpace,\" says a company statement. \"We apologize for the inconvenience.\" The loss covers everything going back to the company\\'s launch in 2003, reports the BBC. Tech writer Graham Cluley takes MySpace to task for not having a backup and calls this an \"appalling cultural loss,\" given that MySpace had more than 50 million songs.                                                                            Users began reporting trouble about a year ago, and MySpace responded that it was investigating. The new statement is the bad-news result, and some think it\\'s a little fishy. \"I\\'m deeply skeptical this was an accident,\" writes Andy Baio, who helped begin Kickstarter. \"Flagrant incompetence may be bad PR, but it still sounds better than \\'we can\\'t be bothered with the effort and cost of migrating and hosting 50 million old MP3s.\\'\" Regardless, Boing Boing notes that the gaffe offers up a useful lesson: Don\\'t rely on such platforms—that includes Facebook, Instagram, and Tumblr—to function as a personal archive. Use other services created for that purpose, or make your own backups.  (Read more MySpace stories.)', '                            From Amazon Warehouses, 189 Disturbing Calls                                                                    (Newser)                                        –                                        Stories about working conditions in Amazon warehouses have been circulating for years, and the Daily Beast is out with an investigation that adds a disturbing tangible element. Between October 2013 and October 2018, it found that 189 emergency calls had been placed from Amazon warehouses across the US because of \"suicide attempts, suicidal thoughts, and other mental-health episodes.\" And the examination of 911 logs and such covered only 46 warehouses in 17 states, or only about 25% of the total number of warehouses. A quote from one former employee sums things up: “It’s this isolating colony of hell where people having breakdowns is a regular occurrence,” says Jace Crouch, who worked at a facility in Lakeland, Florida. It’s “mentally taxing to do the same task super fast for 10-hour shifts, four or five days a week.”                                                                            The investigation does not compare the numbers at Amazon to those at other companies or make the case that working conditions in the Amazon facilities are any worse than elsewhere. Also, some of the affected employees acknowledged having mental health issues before taking their jobs at Amazon, though they say the work exacerbated their issues. Still, the multitude of calls offers \"a visceral, real-time glimpse of employees on the edge,\" per the story. Amazon responds that the focus on the total number of calls is an “overgeneralization” that “doesn’t take into account the total of our associate population, hours worked, or our growing network.” Click for the full story, which includes 911 transcripts of some of the actual calls.  (Read more Longform stories.)', '                            Tesla Rolls Out an Electric SUV                                                                    (Newser)                                        –                                        Tesla rolled out its new electric SUV Thursday night, and analysts say the Model Y could be the company\\'s most profitable vehicle yet. \"It has the functionality of an SUV, but it will ride like a sports car,\" CEO Elon Musk told the audience at Tesla\\'s design studio in Hawthorne, Calif. \"This thing will be really tight on corners and we expect it will be the safest midsize SUV in the world by far.\" He said a long-range version that can go 300 miles on a single charge will be available next year for $47,000, with a $39,000 version coming in 2021, the Guardian reports.                                                                            With SUVs dominating auto sales in North America, providing an all-electric alternative could be a massive win for Tesla, experts say. \"This could be Tesla\\'s most profitable vehicle, with the giant asterisk that the company doesn\\'t do some of the dumb things it has in the past,\" Gartner analyst Mike Ramsey tells the AP. He has his doubts, however, about whether the company has the manufacturing capacity to deliver the vehicle on the schedule Musk has promised. \"Until Elon is gone, Tesla is going to be a crazy company that occasionally makes breathtaking products,\" he says. (The company recently reversed plans to close its showrooms and shift all sales online.)', '                            2 Top Execs Depart Facebook                                                                    (Newser)                                        –                                        Two top Facebook executives are leaving the company, including product chief Chris Cox, who was long one of CEO Mark Zuckerberg\\'s top deputies. Chris Daniels, who leads encrypted messaging app WhatsApp, will also depart Facebook, Zuckerberg wrote in a post announcing the news Thursday. It isn\\'t clear what future plans the executives have, the AP reports. Zuckerberg wrote that Cox considered leaving years ago to pursue new projects, but he decided to stay in 2016, around the time Facebook began taking heat for acting as a conduit for misinformation and Russian election interference. Zuckerberg phrased that more delicately, noting that \"We both realized we had too much important work to do to improve our products for society.\" Cox joined 13 years ago and helped create Facebook\\'s News Feed feature.                                                                            Less than a year ago, he was put in charge of all of Facebook\\'s apps, including its flagship social media site as well as Instagram, WhatsApp, and Messenger. Reversing course, Facebook will not appoint a direct replacement for Cox. Instead, the leaders of each app will report to Zuckerberg. The news of Cox\\'s departure comes a week after Zuckerberg announced a new \"privacy-focused\" mission for Facebook that will emphasize private messaging over public sharing. Many of the changes Zuckerberg outlined involve duplicating some of WhatsApp\\'s features in Facebook\\'s other messaging apps. Daniels has been at Facebook nearly nine years, and previously led the company\\'s Internet.org effort, a project aimed at bringing internet access to developing countries. He was named the head of WhatsApp less than a year ago. Longtime Facebook executive Will Cathcart will now lead WhatsApp. These two departures come on the heels of founding-executive departures at Facebook-owned Instagram and WhatsApp last year. (Facebook suffered possibly its longest outage Wednesday.)', '                            Facebook\\'s Outage Thought to Be Its Longest Ever                                                                    (Newser)                                        –                                        In a major embarrassment for Facebook, users had to turn to Twitter for updates after what\\'s thought to be the biggest outage in the site\\'s history. \"We’re aware that some people are currently having trouble accessing the Facebook family of apps. We’re working to resolve the issue as soon as possible,\" the company tweeted after an outage affected users around the world starting Wednesday afternoon. The outage, which also affected Instagram and WhatsApp, was the biggest disruption the site had faced since 2008, when it had 150 million users, compared to more than 2 billion today, the BBC reports.                                                                            After 14 hours, the outage appeared to have largely subsided by early Thursday, when Facebook posted an \"It\\'s good to be back\" message, though not before many users took to Twitter to complain under hashtags like #FacebookDown and #InstagramDown, CNN reports. \"The few Facebook users that migrated to twitter were among the lucky few to once again connect,\" joked one user. Others complained that the outage made it impossible to do their \"Facebook-centric\" jobs. Facebook has yet to comment on the cause.  (Read more Facebook stories.)', '                            The Web Is 30. Here\\'s What Its Inventor Thinks                                                                    (Newser)                                        –                                        Thirty years ago this month, Tim Berners-Lee submitted a proposal to his boss. At the top of that paper, his boss scribbled three words: \"vague but exciting.\" That March 1989 blueprint was for the World Wide Web, and although Berners-Lee thinks his brainchild\\'s first 15 years went fairly well, he fears the web has since grown into somewhat of a \"troubled adolescent,\" per the BBC. In an open letter, Berners-Lee pinpoints three main areas of \"dysfunction\" within the system he helped create: nasty targeted behavior (including harassment and hacking); \"perverse\" incentives, including ad-based business models that he says encourage \"clickbait and the viral spread of misinformation\"; and the \"unintended negative consequences\" of the web, including the divisive conversations many of us witness online.                                                                            Late last year, Berners-Lee thought things were so bad that he even mentioned a move recently advocated by presidential candidate Elizabeth Warren: Break up tech giants like Facebook and Google due to \"danger of concentration.\" \"If you\\'d asked me 10 years ago, I would have said humanity is going to do a good job with this,\" he said then. \"I was wrong.\" Not that we should give up hope, Berners-Lee says, per CNBC. He thinks we can start to turn things around, including by signing his \"Contract for the Web,\" which puts the onus on governments and companies to make the internet available to all (while still allowing everyone their privacy), and on citizens to \"build strong communities that respect civil discourse and human dignity.\"  (Read more Internet stories.)', '                            Warren Ads Calling for Facebook Breakup Yanked by Facebook                                                                    (Newser)                                        –                                        Facebook may have inadvertently illustrated Elizabeth Warren\\'s point about the consolidation of power by tech giants like itself. The social media company removed numerous ads calling for the breakup of Facebook, Amazon, and Google, published Friday by Warren\\'s presidential campaign. \"They\\'ve bulldozed competition, used our private information for profit, and tilted the playing field in their favor\" resulting in \"vast power over our economy and our democracy,\" read the identical ads, which directed users to sign a petition \"to support our plan to break up these big tech companies,\" per Politico.                                                                            \"Curious why I think FB has too much power? Let\\'s start with their ability to shut down a debate over whether FB has too much power,\" tweeted Warren, who tells the Verge she also wants to see the breakup of Apple. Politico reports the ads were found to be \"against Facebook\\'s advertising policies,\" with a rep later claiming improper use of a modified Facebook logo, per CNN. \"In the interest of allowing robust debate, we are restoring the ads,\" the rep said. That drew \"thanks\" from Warren on Monday. \"But I want a social media marketplace that isn\\'t dominated by a single censor,\" she said. Other Facebook ads about her tech plan, excluding the Facebook logo, were unaffected. (More on the plan here.)', '                            Tesla Makes \\'Bizarre\\' Reversal                                                                    (Newser)                                        –                                        After announcing earlier this month that it would close most of its stores and lower prices, Tesla has revealed an updated strategy of keeping its stores open and raising prices. Stores that closed around a week ago are already reopening, including outlets in Hawaii and California, Bloomberg reports. \"Over the past two weeks we have been closely evaluating every single Tesla retail location, and we have decided to keep significantly more stores open than previously announced,\" the company said in a blog post, adding that it \"will need to raise vehicle prices by about 3% on average worldwide.\"                                                                            Tesla said current prices will remain in place until March 18, and the price of the recently announced $35,000 Model 3 will not go up. Analysts say the sudden U-turn doesn\\'t exactly inspire confidence in the company\\'s leadership. \"This reversal is bizarre and indicates a lack of actual planning in the earlier announcement,\" Gartner analyst Mike Ramsey tells the New York Times. \"Their retail stores still serve a real need.\" Lawyers for CEO Elon Musk, meanwhile, argued in a court filing Monday that he should not be held in contempt of court over a Feb. 19 tweet that hadn\\'t been pre-approved by the company, the AP reports.  (Read more Tesla stories.)', '                            NASA Saved Moon Samples for Just This Moment                                                                    (Newser)                                        –                                        They\\'ve never been exposed to Earth\\'s atmosphere, and for nearly five decades, they\\'ve sat untouched in storage. Now, NASA will study lunar samples collected during the Apollo 15, 16, and 17 missions for the first time, the agency announced Monday. The samples from the final three Apollo missions were kept in storage as \"an investment in the future,\" Lori Glaze, acting director of NASA\\'s Planetary Science Division, said in a statement, per CNN. \"These samples were deliberately saved so we can take advantage of today\\'s more advanced and sophisticated technology to answer questions we didn\\'t know we needed to ask.\" (NASA wants to send people to the moon—to stay.)                                    ', '                            Trump: Here\\'s Why I Said \\'Tim Apple\\'                                                                    (Newser)                                        –                                        President Trump is doubling down and insisting that he did not, in fact, screw up the name of Apple CEO Tim Cook at a White House function. You can start by watching the original remarks here. On Twitter Monday, Trump provided an explanation of why he said \"Tim Apple\" during his remarks. \"At a recent round table meeting of business executives, & long after formally introducing Tim Cook of Apple, I quickly referred to Tim + Apple as Tim/Apple as an easy way to save time & words,\" he wrote. \"The Fake News was disparagingly all over this, & it became yet another bad Trump story!\"                                                                            The tweet comes after a report in Axios that Trump offered a somewhat different explanation to Republican donors at his Mar-a-Lago club in Florida last week. The donors say Trump claimed he said \"Tim Cook Apple\" quickly and spoke the \"Cook\" part softly. Jonathan Swan at Axios says one donor told him: \"I just thought, why would you lie about that? It doesn\\'t even matter!\" (Cook made light of the incident, changing his name on Twitter to Tim Apple.)', '                            Family Shocked to Get Grim News by \\'Robot\\' Video                                                                    (Newser)                                        –                                        Ernest Quintana\\'s family knew he was dying of chronic lung disease when he was taken by ambulance to a hospital, unable to breathe. But they were devastated when a robot machine rolled into his room in the intensive care unit that night and a doctor told the 78-year-old patient by video call he would likely die within days, the AP reports. \"If you\\'re coming to tell us normal news, that\\'s fine, but if you\\'re coming to tell us there\\'s no lung left and we want to put you on a morphine drip until you die, it should be done by a human being and not a machine,\" his daughter Catherine Quintana said Friday. Ernest Quintana died Tuesday, two days after being taken to the Kaiser Permanente Medical Center emergency department in Fremont.                                    ']\n"
     ]
    }
   ],
   "source": [
    "# Import libraries\n",
    "from bs4 import BeautifulSoup\n",
    "import requests as req\n",
    "from urllib3.util import parse_url\n",
    "\n",
    "def getHost(url):\n",
    "    return parse_url(url).host\n",
    "\n",
    "def getScheme(url):\n",
    "    return parse_url(url).scheme\n",
    "\n",
    "def initializeSoup(url):\n",
    "    request = req.get(url)\n",
    "    response = request.text\n",
    "    return BeautifulSoup(response, 'lxml')\n",
    "    \n",
    "def getLinks(url):\n",
    "    square = initializeSoup(url).find_all(\"div\",class_ = \"square\")\n",
    "    return [getScheme(url)+\"://\"+getHost(url)+link.a.get('href')  for link in square]\n",
    "\n",
    "def preprocessData(link):\n",
    "    soup = initializeSoup(link)\n",
    "    finalContent = soup.find(id = 'divTitle').get_text()\n",
    "    contentList = soup.find_all(class_= 'storyParagraph')\n",
    "    for content in contentList:\n",
    "        finalContent += content.get_text()\n",
    "    return finalContent.replace('\\xa0','').replace('\\n','').replace('\\r','').replace('\\t','')\n",
    "\n",
    "def downloadSummary(url):\n",
    "    getLinks(url)\n",
    "    summaryList =[preprocessData(link) for link in getLinks(url)]\n",
    "    return summaryList\n",
    "    \n",
    "# http://www.newser.com/section/7/technology-news-headlines.html\n",
    "# http://www.newser.com/section/6/science-news-headlines.html\n",
    "\n",
    "url = input(\"Enter URL\")\n",
    "articleData = downloadSummary(url)\n",
    "print(articleData)"
   ]
  },
  {
   "cell_type": "code",
   "execution_count": 80,
   "metadata": {},
   "outputs": [
    {
     "data": {
      "text/plain": [
       "<12x167 sparse matrix of type '<class 'numpy.float64'>'\n",
       "\twith 415 stored elements in Compressed Sparse Row format>"
      ]
     },
     "execution_count": 80,
     "metadata": {},
     "output_type": "execute_result"
    }
   ],
   "source": [
    "# Clustering\n",
    "\n",
    "from sklearn.feature_extraction.text import TfidfVectorizer\n",
    "\n",
    "vectorizer = TfidfVectorizer(max_df = 0.5, min_df = 2, stop_words = 'english')\n",
    "x = vectorizer.fit_transform(articleData)\n",
    "x"
   ]
  },
  {
   "cell_type": "code",
   "execution_count": 14,
   "metadata": {},
   "outputs": [],
   "source": [
    "from sklearn.cluster import KMeans\n",
    "km = KMeans(n_clusters = 3, init = 'k-means++', max_iter = 100, n_init = 1, verbose = True)"
   ]
  },
  {
   "cell_type": "code",
   "execution_count": 16,
   "metadata": {},
   "outputs": [
    {
     "name": "stdout",
     "output_type": "stream",
     "text": [
      "Initialization complete\n",
      "Iteration  0, inertia 13.452\n",
      "Iteration  1, inertia 7.228\n",
      "Converged at iteration 1: center shift 0.000000e+00 within tolerance 4.875873e-07\n"
     ]
    },
    {
     "data": {
      "text/plain": [
       "KMeans(algorithm='auto', copy_x=True, init='k-means++', max_iter=100,\n",
       "    n_clusters=3, n_init=1, n_jobs=None, precompute_distances='auto',\n",
       "    random_state=None, tol=0.0001, verbose=True)"
      ]
     },
     "execution_count": 16,
     "metadata": {},
     "output_type": "execute_result"
    }
   ],
   "source": [
    "km.fit(x)"
   ]
  },
  {
   "cell_type": "code",
   "execution_count": 19,
   "metadata": {},
   "outputs": [
    {
     "data": {
      "text/plain": [
       "(array([0, 1, 2]), array([3, 3, 6], dtype=int64))"
      ]
     },
     "execution_count": 19,
     "metadata": {},
     "output_type": "execute_result"
    }
   ],
   "source": [
    "import numpy as np\n",
    "np.unique(km.labels_, return_counts = True)"
   ]
  },
  {
   "cell_type": "code",
   "execution_count": 83,
   "metadata": {},
   "outputs": [
    {
     "name": "stdout",
     "output_type": "stream",
     "text": [
      "{2: '                            Insulted Congressman Sues Twitter for $250M                                                                    (Newser)                                        –                                        Republican Rep. Devin Nunes is tired of being insulted by Twitter accounts like Devin Nunes\\' Cow, which calls him a \"lil\\' treasonous cowpoke,\" and the now-suspended Devin Nunes\\' Mom. In a $250 million lawsuit against the website and some of its users, including the \"Cow\" and \"Mom\" accounts, the California lawmaker accuses Twitter of ignoring complaints about defamatory material, the Verge reports. He accuses the website of censoring conservative viewpoints and \"shadow-banning conservatives\" by causing their names to not appear as auto-suggestions. Engadget reports that Nunes blames Twitter for making his 2018 re-election closer than it should have been.                                                                            The complaint filed in a Virginia court Monday accused Twitter of failing to act when the Devin Nunes\\' Mom, among other things, \"falsely accused Nunes of putting up a \\'Fake News MAGA\\' sign outside a Texas Holocaust museum ... disparagingly called him a \\'presidential fluffer and swamp rat\" and \"falsely stated that Nunes had brought \\'shame\\' to his family,\" Fox reports. The lawsuit argues that Twitter is so important to current affairs that it needs to do more to remove defamatory content. \"Access to Twitter is essential for meaningful participation in modern-day American democracy,\" states the lawsuit, which seeks compensatory and punitive damages as well as an order for Twitter to reveal the names of the people behind the accounts that insulted Nunes.  (Read more Devin Nunes stories.)                            Hope You Didn\\'t Have Any Old Music on MySpace                                                                    (Newser)                                        –                                        More than a decade ago, MySpace reigned supreme in social media. And the company now has bad news for all those who uploaded music and other media to their accounts: It\\'s all gone. \"As a result of a server migration project, any photos, videos, and audio files you uploaded more than three years ago may no longer be available on or from MySpace,\" says a company statement. \"We apologize for the inconvenience.\" The loss covers everything going back to the company\\'s launch in 2003, reports the BBC. Tech writer Graham Cluley takes MySpace to task for not having a backup and calls this an \"appalling cultural loss,\" given that MySpace had more than 50 million songs.                                                                            Users began reporting trouble about a year ago, and MySpace responded that it was investigating. The new statement is the bad-news result, and some think it\\'s a little fishy. \"I\\'m deeply skeptical this was an accident,\" writes Andy Baio, who helped begin Kickstarter. \"Flagrant incompetence may be bad PR, but it still sounds better than \\'we can\\'t be bothered with the effort and cost of migrating and hosting 50 million old MP3s.\\'\" Regardless, Boing Boing notes that the gaffe offers up a useful lesson: Don\\'t rely on such platforms—that includes Facebook, Instagram, and Tumblr—to function as a personal archive. Use other services created for that purpose, or make your own backups.  (Read more MySpace stories.)                            2 Top Execs Depart Facebook                                                                    (Newser)                                        –                                        Two top Facebook executives are leaving the company, including product chief Chris Cox, who was long one of CEO Mark Zuckerberg\\'s top deputies. Chris Daniels, who leads encrypted messaging app WhatsApp, will also depart Facebook, Zuckerberg wrote in a post announcing the news Thursday. It isn\\'t clear what future plans the executives have, the AP reports. Zuckerberg wrote that Cox considered leaving years ago to pursue new projects, but he decided to stay in 2016, around the time Facebook began taking heat for acting as a conduit for misinformation and Russian election interference. Zuckerberg phrased that more delicately, noting that \"We both realized we had too much important work to do to improve our products for society.\" Cox joined 13 years ago and helped create Facebook\\'s News Feed feature.                                                                            Less than a year ago, he was put in charge of all of Facebook\\'s apps, including its flagship social media site as well as Instagram, WhatsApp, and Messenger. Reversing course, Facebook will not appoint a direct replacement for Cox. Instead, the leaders of each app will report to Zuckerberg. The news of Cox\\'s departure comes a week after Zuckerberg announced a new \"privacy-focused\" mission for Facebook that will emphasize private messaging over public sharing. Many of the changes Zuckerberg outlined involve duplicating some of WhatsApp\\'s features in Facebook\\'s other messaging apps. Daniels has been at Facebook nearly nine years, and previously led the company\\'s Internet.org effort, a project aimed at bringing internet access to developing countries. He was named the head of WhatsApp less than a year ago. Longtime Facebook executive Will Cathcart will now lead WhatsApp. These two departures come on the heels of founding-executive departures at Facebook-owned Instagram and WhatsApp last year. (Facebook suffered possibly its longest outage Wednesday.)                            Facebook\\'s Outage Thought to Be Its Longest Ever                                                                    (Newser)                                        –                                        In a major embarrassment for Facebook, users had to turn to Twitter for updates after what\\'s thought to be the biggest outage in the site\\'s history. \"We’re aware that some people are currently having trouble accessing the Facebook family of apps. We’re working to resolve the issue as soon as possible,\" the company tweeted after an outage affected users around the world starting Wednesday afternoon. The outage, which also affected Instagram and WhatsApp, was the biggest disruption the site had faced since 2008, when it had 150 million users, compared to more than 2 billion today, the BBC reports.                                                                            After 14 hours, the outage appeared to have largely subsided by early Thursday, when Facebook posted an \"It\\'s good to be back\" message, though not before many users took to Twitter to complain under hashtags like #FacebookDown and #InstagramDown, CNN reports. \"The few Facebook users that migrated to twitter were among the lucky few to once again connect,\" joked one user. Others complained that the outage made it impossible to do their \"Facebook-centric\" jobs. Facebook has yet to comment on the cause.  (Read more Facebook stories.)                            The Web Is 30. Here\\'s What Its Inventor Thinks                                                                    (Newser)                                        –                                        Thirty years ago this month, Tim Berners-Lee submitted a proposal to his boss. At the top of that paper, his boss scribbled three words: \"vague but exciting.\" That March 1989 blueprint was for the World Wide Web, and although Berners-Lee thinks his brainchild\\'s first 15 years went fairly well, he fears the web has since grown into somewhat of a \"troubled adolescent,\" per the BBC. In an open letter, Berners-Lee pinpoints three main areas of \"dysfunction\" within the system he helped create: nasty targeted behavior (including harassment and hacking); \"perverse\" incentives, including ad-based business models that he says encourage \"clickbait and the viral spread of misinformation\"; and the \"unintended negative consequences\" of the web, including the divisive conversations many of us witness online.                                                                            Late last year, Berners-Lee thought things were so bad that he even mentioned a move recently advocated by presidential candidate Elizabeth Warren: Break up tech giants like Facebook and Google due to \"danger of concentration.\" \"If you\\'d asked me 10 years ago, I would have said humanity is going to do a good job with this,\" he said then. \"I was wrong.\" Not that we should give up hope, Berners-Lee says, per CNBC. He thinks we can start to turn things around, including by signing his \"Contract for the Web,\" which puts the onus on governments and companies to make the internet available to all (while still allowing everyone their privacy), and on citizens to \"build strong communities that respect civil discourse and human dignity.\"  (Read more Internet stories.)                            Warren Ads Calling for Facebook Breakup Yanked by Facebook                                                                    (Newser)                                        –                                        Facebook may have inadvertently illustrated Elizabeth Warren\\'s point about the consolidation of power by tech giants like itself. The social media company removed numerous ads calling for the breakup of Facebook, Amazon, and Google, published Friday by Warren\\'s presidential campaign. \"They\\'ve bulldozed competition, used our private information for profit, and tilted the playing field in their favor\" resulting in \"vast power over our economy and our democracy,\" read the identical ads, which directed users to sign a petition \"to support our plan to break up these big tech companies,\" per Politico.                                                                            \"Curious why I think FB has too much power? Let\\'s start with their ability to shut down a debate over whether FB has too much power,\" tweeted Warren, who tells the Verge she also wants to see the breakup of Apple. Politico reports the ads were found to be \"against Facebook\\'s advertising policies,\" with a rep later claiming improper use of a modified Facebook logo, per CNN. \"In the interest of allowing robust debate, we are restoring the ads,\" the rep said. That drew \"thanks\" from Warren on Monday. \"But I want a social media marketplace that isn\\'t dominated by a single censor,\" she said. Other Facebook ads about her tech plan, excluding the Facebook logo, were unaffected. (More on the plan here.)', 1: '                            From Amazon Warehouses, 189 Disturbing Calls                                                                    (Newser)                                        –                                        Stories about working conditions in Amazon warehouses have been circulating for years, and the Daily Beast is out with an investigation that adds a disturbing tangible element. Between October 2013 and October 2018, it found that 189 emergency calls had been placed from Amazon warehouses across the US because of \"suicide attempts, suicidal thoughts, and other mental-health episodes.\" And the examination of 911 logs and such covered only 46 warehouses in 17 states, or only about 25% of the total number of warehouses. A quote from one former employee sums things up: “It’s this isolating colony of hell where people having breakdowns is a regular occurrence,” says Jace Crouch, who worked at a facility in Lakeland, Florida. It’s “mentally taxing to do the same task super fast for 10-hour shifts, four or five days a week.”                                                                            The investigation does not compare the numbers at Amazon to those at other companies or make the case that working conditions in the Amazon facilities are any worse than elsewhere. Also, some of the affected employees acknowledged having mental health issues before taking their jobs at Amazon, though they say the work exacerbated their issues. Still, the multitude of calls offers \"a visceral, real-time glimpse of employees on the edge,\" per the story. Amazon responds that the focus on the total number of calls is an “overgeneralization” that “doesn’t take into account the total of our associate population, hours worked, or our growing network.” Click for the full story, which includes 911 transcripts of some of the actual calls.  (Read more Longform stories.)                            NASA Saved Moon Samples for Just This Moment                                                                    (Newser)                                        –                                        They\\'ve never been exposed to Earth\\'s atmosphere, and for nearly five decades, they\\'ve sat untouched in storage. Now, NASA will study lunar samples collected during the Apollo 15, 16, and 17 missions for the first time, the agency announced Monday. The samples from the final three Apollo missions were kept in storage as \"an investment in the future,\" Lori Glaze, acting director of NASA\\'s Planetary Science Division, said in a statement, per CNN. \"These samples were deliberately saved so we can take advantage of today\\'s more advanced and sophisticated technology to answer questions we didn\\'t know we needed to ask.\" (NASA wants to send people to the moon—to stay.)                                                                Trump: Here\\'s Why I Said \\'Tim Apple\\'                                                                    (Newser)                                        –                                        President Trump is doubling down and insisting that he did not, in fact, screw up the name of Apple CEO Tim Cook at a White House function. You can start by watching the original remarks here. On Twitter Monday, Trump provided an explanation of why he said \"Tim Apple\" during his remarks. \"At a recent round table meeting of business executives, & long after formally introducing Tim Cook of Apple, I quickly referred to Tim + Apple as Tim/Apple as an easy way to save time & words,\" he wrote. \"The Fake News was disparagingly all over this, & it became yet another bad Trump story!\"                                                                            The tweet comes after a report in Axios that Trump offered a somewhat different explanation to Republican donors at his Mar-a-Lago club in Florida last week. The donors say Trump claimed he said \"Tim Cook Apple\" quickly and spoke the \"Cook\" part softly. Jonathan Swan at Axios says one donor told him: \"I just thought, why would you lie about that? It doesn\\'t even matter!\" (Cook made light of the incident, changing his name on Twitter to Tim Apple.)', 0: '                            Tesla Rolls Out an Electric SUV                                                                    (Newser)                                        –                                        Tesla rolled out its new electric SUV Thursday night, and analysts say the Model Y could be the company\\'s most profitable vehicle yet. \"It has the functionality of an SUV, but it will ride like a sports car,\" CEO Elon Musk told the audience at Tesla\\'s design studio in Hawthorne, Calif. \"This thing will be really tight on corners and we expect it will be the safest midsize SUV in the world by far.\" He said a long-range version that can go 300 miles on a single charge will be available next year for $47,000, with a $39,000 version coming in 2021, the Guardian reports.                                                                            With SUVs dominating auto sales in North America, providing an all-electric alternative could be a massive win for Tesla, experts say. \"This could be Tesla\\'s most profitable vehicle, with the giant asterisk that the company doesn\\'t do some of the dumb things it has in the past,\" Gartner analyst Mike Ramsey tells the AP. He has his doubts, however, about whether the company has the manufacturing capacity to deliver the vehicle on the schedule Musk has promised. \"Until Elon is gone, Tesla is going to be a crazy company that occasionally makes breathtaking products,\" he says. (The company recently reversed plans to close its showrooms and shift all sales online.)                            Tesla Makes \\'Bizarre\\' Reversal                                                                    (Newser)                                        –                                        After announcing earlier this month that it would close most of its stores and lower prices, Tesla has revealed an updated strategy of keeping its stores open and raising prices. Stores that closed around a week ago are already reopening, including outlets in Hawaii and California, Bloomberg reports. \"Over the past two weeks we have been closely evaluating every single Tesla retail location, and we have decided to keep significantly more stores open than previously announced,\" the company said in a blog post, adding that it \"will need to raise vehicle prices by about 3% on average worldwide.\"                                                                            Tesla said current prices will remain in place until March 18, and the price of the recently announced $35,000 Model 3 will not go up. Analysts say the sudden U-turn doesn\\'t exactly inspire confidence in the company\\'s leadership. \"This reversal is bizarre and indicates a lack of actual planning in the earlier announcement,\" Gartner analyst Mike Ramsey tells the New York Times. \"Their retail stores still serve a real need.\" Lawyers for CEO Elon Musk, meanwhile, argued in a court filing Monday that he should not be held in contempt of court over a Feb. 19 tweet that hadn\\'t been pre-approved by the company, the AP reports.  (Read more Tesla stories.)                            Family Shocked to Get Grim News by \\'Robot\\' Video                                                                    (Newser)                                        –                                        Ernest Quintana\\'s family knew he was dying of chronic lung disease when he was taken by ambulance to a hospital, unable to breathe. But they were devastated when a robot machine rolled into his room in the intensive care unit that night and a doctor told the 78-year-old patient by video call he would likely die within days, the AP reports. \"If you\\'re coming to tell us normal news, that\\'s fine, but if you\\'re coming to tell us there\\'s no lung left and we want to put you on a morphine drip until you die, it should be done by a human being and not a machine,\" his daughter Catherine Quintana said Friday. Ernest Quintana died Tuesday, two days after being taken to the Kaiser Permanente Medical Center emergency department in Fremont.                                    '}\n"
     ]
    }
   ],
   "source": [
    "text = {}\n",
    "for i, cluster in enumerate(km.labels_):\n",
    "    oneDocument = articleData[i]\n",
    "    if cluster not in text.keys():\n",
    "        text[cluster] = oneDocument\n",
    "    else:\n",
    "        text[cluster] += oneDocument\n",
    "        \n",
    "print(text)"
   ]
  },
  {
   "cell_type": "code",
   "execution_count": 25,
   "metadata": {},
   "outputs": [],
   "source": [
    "import nltk\n",
    "from nltk.tokenize import sent_tokenize, word_tokenize\n",
    "from nltk.probability import FreqDist\n",
    "from collections import defaultdict\n",
    "from heapq import nlargest"
   ]
  },
  {
   "cell_type": "code",
   "execution_count": 60,
   "metadata": {},
   "outputs": [],
   "source": [
    "\n",
    "# Remove stop word\n",
    "from nltk.corpus import stopwords \n",
    "from string import punctuation\n",
    "\n",
    "stopwords = set(stopwords.words('english')+list(punctuation)+[ 'say', 'coming', 'could','million',\"''\",'``',\"'d\",\"n't\",\"'s\",'”','...','“', '’','–',\"'ve\",'millions','billion','billions','year','years','month','ago','including','cook','suv','months','day','days'])"
   ]
  },
  {
   "cell_type": "code",
   "execution_count": 62,
   "metadata": {},
   "outputs": [],
   "source": [
    "\n",
    "# Tokenizing / Freq Dist \n",
    "\n",
    "keywords = {}\n",
    "counts = {}\n",
    "for cluster in range(3):\n",
    "    word_sent = word_tokenize(text[cluster].lower())\n",
    "    word_sent = [word for word in word_sent if word not in stopwords]\n",
    "    freq =FreqDist(word_sent)\n",
    "    counts[cluster] = freq\n",
    "    keywords[cluster] = nlargest(20, freq, key =freq.get)\n"
   ]
  },
  {
   "cell_type": "code",
   "execution_count": 65,
   "metadata": {},
   "outputs": [],
   "source": [
    "unique_keys = {}\n",
    "for cluster in range(3):\n",
    "    other_clusters = list(set(range(3))-set([cluster]))\n",
    "    keys_other_clusters = set(keywords[other_clusters[0]]).union(set(keywords[other_clusters[1]]))                                                                 \n",
    "    unique = set(keywords[cluster])- keys_other_clusters  \n",
    "    unique_keys[cluster] = nlargest(10, unique, key = counts[cluster].get)"
   ]
  },
  {
   "cell_type": "code",
   "execution_count": 98,
   "metadata": {},
   "outputs": [
    {
     "data": {
      "text/plain": [
       "KNeighborsClassifier(algorithm='auto', leaf_size=30, metric='minkowski',\n",
       "           metric_params=None, n_jobs=None, n_neighbors=3, p=2,\n",
       "           weights='uniform')"
      ]
     },
     "execution_count": 98,
     "metadata": {},
     "output_type": "execute_result"
    }
   ],
   "source": [
    "# Classification\n",
    "\n",
    "from sklearn.neighbors import KNeighborsClassifier\n",
    "classifier = KNeighborsClassifier(n_neighbors = 3)\n",
    "\n",
    "classifier.fit(x, km.labels_)\n"
   ]
  },
  {
   "cell_type": "code",
   "execution_count": 111,
   "metadata": {},
   "outputs": [
    {
     "data": {
      "text/plain": [
       "<1x167 sparse matrix of type '<class 'numpy.float64'>'\n",
       "\twith 31 stored elements in Compressed Sparse Row format>"
      ]
     },
     "execution_count": 111,
     "metadata": {},
     "output_type": "execute_result"
    }
   ],
   "source": [
    "# Clustering\n",
    "\n",
    "data = ['                            Trump: Here\\'s Why I Said \\'Tim Apple\\'                                                                    (Newser)                                        –                                        President Trump is doubling down and insisting that he did not, in fact, screw up the name of Apple CEO Tim Cook at a White House function. You can start by watching the original remarks here. On Twitter Monday, Trump provided an explanation of why he said \"Tim Apple\" during his remarks. \"At a recent round table meeting of business executives, & long after formally introducing Tim Cook of Apple, I quickly referred to Tim + Apple as Tim/Apple as an easy way to save time & words,\" he wrote. \"The Fake News was disparagingly all over this, & it became yet another bad Trump story!\"                                                                            The tweet comes after a report in Axios that Trump offered a somewhat different explanation to Republican donors at his Mar-a-Lago club in Florida last week. The donors say Trump claimed he said \"Tim Cook Apple\" quickly and spoke the \"Cook\" part softly. Jonathan Swan at Axios says one donor told him: \"I just thought, why would you lie about that? It doesn\\'t even matter!\" (Cook made light of the incident, changing his name on Twitter to Tim Apple.)']\n",
    "y = vectorizer.transform(data)\n",
    "y"
   ]
  },
  {
   "cell_type": "code",
   "execution_count": 112,
   "metadata": {},
   "outputs": [
    {
     "data": {
      "text/plain": [
       "array([2])"
      ]
     },
     "execution_count": 112,
     "metadata": {},
     "output_type": "execute_result"
    }
   ],
   "source": [
    "classifier.predict(y)"
   ]
  },
  {
   "cell_type": "code",
   "execution_count": 115,
   "metadata": {},
   "outputs": [
    {
     "data": {
      "text/plain": [
       "array([2])"
      ]
     },
     "execution_count": 115,
     "metadata": {},
     "output_type": "execute_result"
    }
   ],
   "source": [
    "# Classification\n",
    "\n",
    "from sklearn.neighbors import KNeighborsClassifier\n",
    "classifier = KNeighborsClassifier()\n",
    "\n",
    "classifier.fit(x, km.labels_)\n",
    "\n",
    "nextdata = [ '                            From Amazon Warehouses, 189 Disturbing Calls                                                                    (Newser)                                        –                                        Stories about working conditions in Amazon warehouses have been circulating for years, and the Daily Beast is out with an investigation that adds a disturbing tangible element. Between October 2013 and October 2018, it found that 189 emergency calls had been placed from Amazon warehouses across the US because of \"suicide attempts, suicidal thoughts, and other mental-health episodes.\" And the examination of 911 logs and such covered only 46 warehouses in 17 states, or only about 25% of the total number of warehouses. A quote from one former employee sums things up: “It’s this isolating colony of hell where people having breakdowns is a regular occurrence,” says Jace Crouch, who worked at a facility in Lakeland, Florida. It’s “mentally taxing to do the same task super fast for 10-hour shifts, four or five days a week.”                                                                            The investigation does not compare the numbers at Amazon to those at other companies or make the case that working conditions in the Amazon facilities are any worse than elsewhere. Also, some of the affected employees acknowledged having mental health issues before taking their jobs at Amazon, though they say the work exacerbated their issues. Still, the multitude of calls offers \"a visceral, real-time glimpse of employees on the edge,\" per the story. Amazon responds that the focus on the total number of calls is an “overgeneralization” that “doesn’t take into account the total of our associate population, hours worked, or our growing network.” Click for the full story, which includes 911 transcripts of some of the actual calls.  (Read more Longform stories.)']\n",
    "new_y = vectorizer.transform(nextdata)\n",
    "classifier.predict(new_y)"
   ]
  },
  {
   "cell_type": "code",
   "execution_count": null,
   "metadata": {},
   "outputs": [],
   "source": []
  }
 ],
 "metadata": {
  "kernelspec": {
   "display_name": "Python 3",
   "language": "python",
   "name": "python3"
  },
  "language_info": {
   "codemirror_mode": {
    "name": "ipython",
    "version": 3
   },
   "file_extension": ".py",
   "mimetype": "text/x-python",
   "name": "python",
   "nbconvert_exporter": "python",
   "pygments_lexer": "ipython3",
   "version": "3.7.1"
  }
 },
 "nbformat": 4,
 "nbformat_minor": 2
}
