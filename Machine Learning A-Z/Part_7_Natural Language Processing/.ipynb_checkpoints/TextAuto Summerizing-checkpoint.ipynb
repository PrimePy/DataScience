{
 "cells": [
  {
   "cell_type": "code",
   "execution_count": 58,
   "metadata": {},
   "outputs": [
    {
     "name": "stdout",
     "output_type": "stream",
     "text": [
      "Enter the article URLhttps://markmanson.net/school-shootings\n"
     ]
    }
   ],
   "source": [
    "# Importing libraries\n",
    "\n",
    "from bs4 import BeautifulSoup\n",
    "import urllib3 as url3\n",
    "import requests as req\n",
    "\n",
    "def makeFileName(url):\n",
    "    urlArr = url.split('/')\n",
    "    return urlArr[-1]+\".txt\"\n",
    "    \n",
    "def writeFile(fileName, data):\n",
    "    with open(fileName,'a') as f:\n",
    "        f.write(data)\n",
    "        \n",
    "def preprocessData(data):\n",
    "    return data.replace('\\n','').replace('\\xa0','').replace('\\t','')\n",
    "        \n",
    "def makeArticleUrllib(url):\n",
    "    fileName = makeFileName(url)\n",
    "    http = url3.PoolManager()\n",
    "    r = http.request('GET', url.strip())\n",
    "    content = r.data.decode('utf8','ignore')\n",
    "    soup = BeautifulSoup(content, 'lxml')\n",
    "    articleData = soup.article.get_text()\n",
    "    articleData = preprocessData(articleData)\n",
    "    writeFile(fileName,articleData)\n",
    "    return articleData\n",
    "    \n",
    "def makeArticleReq(url):\n",
    "    fileName = makeFileName(url)\n",
    "    r = req.get(url.strip())\n",
    "    soup = BeautifulSoup(r.content, 'html.parser')\n",
    "    articleData = soup.article.get_text()\n",
    "    articleData = preprocessData(articleData)\n",
    "    writeFile(fileName,articleData)\n",
    "    return articleData\n",
    "        \n",
    "url = input(\"Enter the article URL\")    \n",
    "articleData = makeArticleReq(url)"
   ]
  },
  {
   "cell_type": "code",
   "execution_count": 8,
   "metadata": {},
   "outputs": [],
   "source": [
    "# Import nltk libraries\n",
    "import nltk\n",
    "from nltk.tokenize import sent_tokenize, word_tokenize\n",
    "    \n",
    "# Tokenizing\n",
    "articleSentData = sent_tokenize(articleData.lower())\n",
    "articleWordData = word_tokenize(articleData.lower())"
   ]
  },
  {
   "cell_type": "code",
   "execution_count": 11,
   "metadata": {},
   "outputs": [],
   "source": [
    "# Remove stop word\n",
    "from nltk.corpus import stopwords \n",
    "from string import punctuation\n",
    "\n",
    "stopwords = set(stopwords.words('english') + list(punctuation)+ ['’','“','”'])\n",
    "articleStopWordRemovedData = [word for word in articleWordData if word not in stopwords]"
   ]
  },
  {
   "cell_type": "code",
   "execution_count": 29,
   "metadata": {},
   "outputs": [],
   "source": [
    "# Initialize Frequency Distribution\n",
    "from nltk.probability import FreqDist\n",
    "\n",
    "freq = FreqDist(articleStopWordRemovedData)"
   ]
  },
  {
   "cell_type": "code",
   "execution_count": 30,
   "metadata": {},
   "outputs": [
    {
     "data": {
      "text/plain": [
       "['kant',\n",
       " 'means',\n",
       " 'would',\n",
       " 'end',\n",
       " 'moral',\n",
       " 'believed',\n",
       " 'people',\n",
       " 'time',\n",
       " 'life',\n",
       " 'know']"
      ]
     },
     "execution_count": 30,
     "metadata": {},
     "output_type": "execute_result"
    }
   ],
   "source": [
    "# Find most repeated top 10 words\n",
    "from heapq import nlargest\n",
    "\n",
    "nlargest(10, freq, key = freq.get)"
   ]
  },
  {
   "cell_type": "code",
   "execution_count": 31,
   "metadata": {},
   "outputs": [],
   "source": [
    "from collections import defaultdict\n",
    "\n",
    "ranking = defaultdict(int)\n",
    "\n",
    "for i,sent in enumerate(articleSentData):\n",
    "    for word in word_tokenize(sent.lower()):\n",
    "        if word in freq:\n",
    "            ranking[i] += freq[word]        "
   ]
  },
  {
   "cell_type": "code",
   "execution_count": 32,
   "metadata": {},
   "outputs": [],
   "source": [
    "from heapq import nlargest\n",
    "indexes = nlargest(4, ranking, key = ranking.get)"
   ]
  },
  {
   "cell_type": "code",
   "execution_count": 33,
   "metadata": {},
   "outputs": [],
   "source": [
    "finalSummary = [articleSentData[index] for index in sorted(indexes)]"
   ]
  },
  {
   "cell_type": "code",
   "execution_count": 61,
   "metadata": {},
   "outputs": [
    {
     "name": "stdout",
     "output_type": "stream",
     "text": [
      "Enter the article URLhttps://markmanson.net/5-life-lessons-5-years-traveling-world\n",
      "Enter the summary line count4\n",
      "Summary Created Successfully\n"
     ]
    }
   ],
   "source": [
    "\n",
    "# Importing libraries\n",
    "import nltk\n",
    "import urllib3 as url3\n",
    "import requests as req\n",
    "from nltk.tokenize import word_tokenize, sent_tokenize\n",
    "from nltk.corpus import stopwords\n",
    "from nltk.probability import FreqDist\n",
    "from heapq import nlargest\n",
    "from collections import defaultdict\n",
    "from bs4 import BeautifulSoup\n",
    "\n",
    "\n",
    "def makeFileName(url):\n",
    "    urlArr = url.split('/')\n",
    "    return urlArr[-1]+\".txt\"\n",
    "    \n",
    "def writeFile(fileName, data):\n",
    "    with open(fileName,'a') as f:\n",
    "        f.write(data)\n",
    "        \n",
    "def preprocessData(data):\n",
    "    return data.replace('\\n','').replace('\\xa0','').replace('\\t','')\n",
    "    \n",
    "def makeArticleReq(url):\n",
    "    fileName = makeFileName(url)\n",
    "    r = req.get(url.strip())\n",
    "    soup = BeautifulSoup(r.content, 'html.parser')\n",
    "    articleData = soup.article.get_text()\n",
    "    articleData = preprocessData(articleData)\n",
    "    writeFile(fileName,articleData)\n",
    "    return articleData\n",
    "\n",
    "def Summarize(text, lines):\n",
    "    sents = sent_tokenize(text.lower())\n",
    "    assert lines <= len(sents)\n",
    "    \n",
    "    words = word_tokenize(text.lower())\n",
    "    _stopwords = set(stopwords.words('english') + list(punctuation)+ ['’','“','”'])\n",
    "    words = [word for word in words if word not in _stopwords]\n",
    "    freq = FreqDist(words)\n",
    "    \n",
    "    ranking = defaultdict(int)\n",
    "    for i,sent in enumerate(sents):\n",
    "        for word in word_tokenize(sent):\n",
    "            if word in freq:\n",
    "                ranking[i]+= freq[word]\n",
    "                \n",
    "    indexes = nlargest(lines, ranking, key = ranking.get)\n",
    "    return [sents[index] for index in sorted(indexes)]\n",
    "\n",
    "        \n",
    "url = input(\"Enter the article URL\")    \n",
    "lines = int(input(\"Enter the summary line count\"))\n",
    "with open(url.split('/')[-1]+'_summary.txt', 'w') as f:\n",
    "    f.write('SUMMARY : {}'.format(url.split('/')[-1].upper()))\n",
    "    for sent in Summarize(makeArticleReq(url), lines):\n",
    "        f.write(sent)\n",
    "    print(\"Summary Created Successfully\")"
   ]
  },
  {
   "cell_type": "code",
   "execution_count": null,
   "metadata": {},
   "outputs": [],
   "source": []
  }
 ],
 "metadata": {
  "kernelspec": {
   "display_name": "Python 3",
   "language": "python",
   "name": "python3"
  },
  "language_info": {
   "codemirror_mode": {
    "name": "ipython",
    "version": 3
   },
   "file_extension": ".py",
   "mimetype": "text/x-python",
   "name": "python",
   "nbconvert_exporter": "python",
   "pygments_lexer": "ipython3",
   "version": "3.7.1"
  }
 },
 "nbformat": 4,
 "nbformat_minor": 2
}
