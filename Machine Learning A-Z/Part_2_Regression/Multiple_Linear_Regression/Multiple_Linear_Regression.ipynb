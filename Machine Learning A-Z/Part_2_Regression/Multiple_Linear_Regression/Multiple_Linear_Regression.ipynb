{
 "cells": [
  {
   "cell_type": "code",
   "execution_count": 29,
   "metadata": {},
   "outputs": [
    {
     "name": "stderr",
     "output_type": "stream",
     "text": [
      "c:\\users\\saravanakumar\\appdata\\local\\programs\\python\\python37\\lib\\site-packages\\sklearn\\preprocessing\\_encoders.py:368: FutureWarning: The handling of integer data will change in version 0.22. Currently, the categories are determined based on the range [0, max(values)], while in the future they will be determined based on the unique values.\n",
      "If you want the future behaviour and silence this warning, you can specify \"categories='auto'\".\n",
      "In case you used a LabelEncoder before this OneHotEncoder to convert the categories to integers, then you can now use the OneHotEncoder directly.\n",
      "  warnings.warn(msg, FutureWarning)\n",
      "c:\\users\\saravanakumar\\appdata\\local\\programs\\python\\python37\\lib\\site-packages\\sklearn\\preprocessing\\_encoders.py:390: DeprecationWarning: The 'categorical_features' keyword is deprecated in version 0.20 and will be removed in 0.22. You can use the ColumnTransformer instead.\n",
      "  \"use the ColumnTransformer instead.\", DeprecationWarning)\n"
     ]
    },
    {
     "data": {
      "image/png": "[encoded data removed]",
      "text/plain": [
       "<Figure size 432x288 with 1 Axes>"
      ]
     },
     "metadata": {
      "needs_background": "light"
     },
     "output_type": "display_data"
    }
   ],
   "source": [
    "# Data Processing \n",
    "\n",
    "# Importing Libraries\n",
    "\n",
    "import pandas as pd\n",
    "import matplotlib.pyplot as plt\n",
    "import numpy as np\n",
    "\n",
    "# Importing dataset\n",
    "\n",
    "dataset = pd.read_csv(\"50_Startups.csv\")\n",
    "\n",
    "# Initialize x variable\n",
    "\n",
    "x = dataset.iloc[:,:-1].values\n",
    "\n",
    "# Initialize y variable\n",
    "\n",
    "y = dataset.iloc[:,4].values\n",
    "\n",
    "# Encoding categorical data\n",
    "# Enconding the independent variable\n",
    "\n",
    "from sklearn.preprocessing import LabelEncoder,OneHotEncoder\n",
    "\n",
    "labelEncoder_x = LabelEncoder()\n",
    "x[:,3] = labelEncoder_x.fit_transform(x[:,3])\n",
    "\n",
    "oneHotEncoder = OneHotEncoder(categorical_features=[3])\n",
    "x=oneHotEncoder.fit_transform(x).toarray()\n",
    "\n",
    "# Avoiding dummy variable trap\n",
    "x = x[:,1:]\n",
    "\n",
    "# Splitting the dataset into trainset and testset\n",
    "\n",
    "from sklearn.model_selection  import train_test_split\n",
    "x_train,x_test,y_train,y_test = train_test_split(x,y,test_size=0.2,random_state=1)\n",
    "\n",
    "# Building the optimal model using backward elimination\n",
    "import statsmodels.formula.api as sm\n",
    "x = np.append(arr = np.ones((50,1)).astype(int), values = x , axis = 1)\n",
    "\n",
    "x_options = x[:,[0,1,2,3,4,5]]\n",
    "regressor_OLS = sm.OLS(endog = y, exog = x_options).fit()\n",
    "\n",
    "x_options = x[:,[0,1,3,4,5]]\n",
    "regressor_OLS = sm.OLS(endog = y, exog = x_options).fit()\n",
    "\n",
    "x_options = x[:,[0,3,4,5]]\n",
    "regressor_OLS = sm.OLS(endog = y, exog = x_options).fit()\n",
    "\n",
    "x_options = x[:,[0,3,5]]\n",
    "regressor_OLS = sm.OLS(endog = y, exog = x_options).fit()\n",
    "\n",
    "x_options = x[:,[0,3]]\n",
    "regressor_OLS = sm.OLS(endog = y, exog = x_options).fit()\n",
    "\n",
    "# Change the train and test set\n",
    "x_train = x_train[:,[3]]\n",
    "x_test = x_test[:,[3]]\n",
    "\n",
    "# Fitting the Simple Linear Regression to the Training Set\n",
    "from sklearn.linear_model import LinearRegression\n",
    "regressor = LinearRegression()\n",
    "regressor.fit(x_train, y_train)\n",
    "\n",
    "# Predict the Test set Results\n",
    "y_pred = regressor.predict(x_test)\n",
    "\n",
    "# Visualizing the Training set Results\n",
    "plt.scatter(x_train, y_train, color = \"red\")\n",
    "plt.plot(x_train, regressor.predict(x_train), color = \"blue\")\n",
    "plt.title(\"Salary Vs Experience\")\n",
    "plt.xlabel(\"Years of Experience\")\n",
    "plt.ylabel(\"Salary\")\n",
    "plt.show()"
   ]
  },
  {
   "cell_type": "code",
   "execution_count": null,
   "metadata": {},
   "outputs": [],
   "source": []
  },
  {
   "cell_type": "code",
   "execution_count": null,
   "metadata": {},
   "outputs": [],
   "source": []
  }
 ],
 "metadata": {
  "kernelspec": {
   "display_name": "Python 3",
   "language": "python",
   "name": "python3"
  },
  "language_info": {
   "codemirror_mode": {
    "name": "ipython",
    "version": 3
   },
   "file_extension": ".py",
   "mimetype": "text/x-python",
   "name": "python",
   "nbconvert_exporter": "python",
   "pygments_lexer": "ipython3",
   "version": "3.7.1"
  }
 },
 "nbformat": 4,
 "nbformat_minor": 2
}
